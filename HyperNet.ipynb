{
 "cells": [
  {
   "cell_type": "code",
   "execution_count": null,
   "metadata": {},
   "outputs": [],
   "source": [
    "%load_ext autoreload\n",
    "%autoreload 2"
   ]
  },
  {
   "cell_type": "code",
   "execution_count": null,
   "metadata": {},
   "outputs": [],
   "source": [
    "import utils\n",
    "import numpy as np\n",
    "import spectral.io.envi as envi\n",
    "from gui.mappers import ByteColorMap, BandMapper\n",
    "\n",
    "input_file = envi.open('../hypernet-data/f080611t01p00r07rdn_c/f080611t01p00r07rdn_c_sc01_ort_img.hdr')\n",
    "input_data = input_file[:,:,:]\n",
    "\n",
    "byte_color_map = ByteColorMap()\n",
    "byte_color_map.add_point(0, [0, 0, 0])\n",
    "byte_color_map.add_point(32, [255, 0, 0])\n",
    "byte_color_map.add_point(128, [0, 255, 0])\n",
    "byte_color_map.add_point(192, [128, 0, 128])\n",
    "byte_color_map.add_point(255, [0, 0, 255])\n",
    "\n",
    "band_mapper = BandMapper(input_data)\n",
    "output_data = band_mapper.map_colors(byte_color_map, 30)\n",
    "\n",
    "utils.create_image(output_data)\n"
   ]
  },
  {
   "cell_type": "code",
   "execution_count": null,
   "metadata": {},
   "outputs": [],
   "source": [
    "import utils\n",
    "import spectral.io.envi as envi\n",
    "from gui.mappers import BandMapper\n",
    "\n",
    "input_file = envi.open('../hypernet-data/f080611t01p00r07rdn_c/f080611t01p00r07rdn_c_sc01_ort_img.hdr')\n",
    "input_data = input_file[:,:,:]\n",
    "\n",
    "band_mapper = BandMapper(input_data)\n",
    "image_data = band_mapper.map_visible(input_file.bands.centers)\n",
    "\n",
    "normalized_image = utils.normalize_to_byte(image_data)\n",
    "utils.create_image(normalized_image)\n"
   ]
  },
  {
   "cell_type": "code",
   "execution_count": null,
   "metadata": {},
   "outputs": [],
   "source": [
    "import utils\n",
    "import spectral.io.envi as envi\n",
    "from gui.mappers import BandMapper\n",
    "\n",
    "input_data = envi.open('../hypernet-data/samson_1.img.hdr')\n",
    "\n",
    "band_mapper = BandMapper(input_data)\n",
    "image_data = band_mapper.map_mixed(10, 40, 30)\n",
    "\n",
    "normalized_image = utils.normalize_to_byte(image_data)\n",
    "utils.create_image(normalized_image)\n"
   ]
  },
  {
   "cell_type": "code",
   "execution_count": null,
   "metadata": {},
   "outputs": [],
   "source": [
    "import utils\n",
    "import spectral.io.envi as envi\n",
    "import scipy.io\n",
    "from gui.mappers import BandMapper\n",
    "\n",
    "mat_file = scipy.io.loadmat('../hypernet-data/PaviaU.mat')\n",
    "input_data = mat_file['paviaU']\n",
    "\n",
    "band_mapper = BandMapper(input_data)\n",
    "image_data = band_mapper.map_single(55)\n",
    "\n",
    "normalized_image = utils.normalize_to_byte(image_data)\n",
    "utils.create_image(normalized_image)\n"
   ]
  },
  {
   "cell_type": "code",
   "execution_count": null,
   "metadata": {},
   "outputs": [],
   "source": [
    "import utils\n",
    "import scipy.io\n",
    "from gui.mappers import GroundTruthMapper\n",
    "\n",
    "mat_file = scipy.io.loadmat('../hypernet-data/PaviaU_gt.mat')\n",
    "ground_truth_data = mat_file['paviaU_gt']\n",
    "\n",
    "ground_truth_mapper = GroundTruthMapper(ground_truth_data)\n",
    "image_data = ground_truth_mapper.map_image()\n",
    "\n",
    "utils.create_image(image_data)\n"
   ]
  },
  {
   "cell_type": "code",
   "execution_count": null,
   "metadata": {},
   "outputs": [],
   "source": [
    "import utils\n",
    "import scipy.io\n",
    "from gui.mappers import BandMapper\n",
    "\n",
    "input_mat_file = scipy.io.loadmat('../hypernet-data/PaviaU.mat')\n",
    "ground_truth_mat_file = scipy.io.loadmat('../hypernet-data/PaviaU_gt.mat')\n",
    "input_data = input_mat_file['paviaU']\n",
    "ground_truth_data = ground_truth_mat_file['paviaU_gt']\n",
    "\n",
    "band_mapper = BandMapper(input_data)\n",
    "single_input_data = band_mapper.map_single(55)\n",
    "normalized_input_data = utils.normalize_to_zero_one(single_input_data)\n",
    "ground_truth_mapper = GroundTruthMapper(ground_truth_data)\n",
    "mapped_image = ground_truth_mapper.map_image()\n",
    "image_data = (mapped_image * normalized_input_data).astype(np.uint8)\n",
    "\n",
    "utils.create_image(image_data)\n"
   ]
  },
  {
   "cell_type": "code",
   "execution_count": null,
   "metadata": {},
   "outputs": [],
   "source": [
    "import utils\n",
    "import numpy as np\n",
    "from gui.mappers import BandMapper\n",
    "\n",
    "input_data = np.load('../hypernet-data/PaviaU_corrected.npy')\n",
    "ground_truth = np.load('../hypernet-data/PaviaU_gt.npy')\n",
    "\n",
    "band_mapper = BandMapper(input_data)\n",
    "image_data = band_mapper.map_single(55)\n",
    "\n",
    "normalized_image = utils.normalize_to_byte(image_data)\n",
    "\n",
    "utils.create_image(normalized_image)\n"
   ]
  },
  {
   "cell_type": "code",
   "execution_count": null,
   "metadata": {},
   "outputs": [],
   "source": [
    "import utils\n",
    "import numpy as np\n",
    "from gui.mappers import BandMapper\n",
    "from python_research.segmentation import Rect, randomize_positions, extract_rect\n",
    "\n",
    "input_data = np.load('../hypernet-data/PaviaU_corrected.npy')\n",
    "\n",
    "bounds = Rect(0, 0, input_data.shape[0], input_data.shape[1])\n",
    "rects = [\n",
    "    Rect(0, 0, 100, 100),\n",
    "    Rect(0, 0, 120, 100),\n",
    "    Rect(0, 0, 100, 100)\n",
    "]\n",
    "rects = list(randomize_positions(rects, bounds))\n",
    "\n",
    "for rect in rects:\n",
    "    rect_data = extract_rect(input_data, rect)\n",
    "\n",
    "    band_mapper = BandMapper(rect_data)\n",
    "    image_data = band_mapper.map_single(10)\n",
    "\n",
    "    normalized_image = utils.normalize_to_byte(image_data)\n",
    "    utils.create_image(normalized_image)\n",
    "\n",
    "band_mapper = BandMapper(input_data)\n",
    "image_data = band_mapper.map_single(0)\n",
    "normalized_image = utils.normalize_to_byte(image_data)\n",
    "utils.create_image(normalized_image)\n"
   ]
  },
  {
   "cell_type": "code",
   "execution_count": null,
   "metadata": {},
   "outputs": [],
   "source": [
    "from python_research.preprocessing.attribute_profiles.utils.aux_functions import calculate_pca, normalize_pca, invert_array\n",
    "from python_research.preprocessing.attribute_profiles.max_tree.max_tree import MaxTree\n",
    "from python_research.preprocessing.attribute_profiles.generate_ap import generate_ap\n",
    "from gui.mappers import BandMapper\n",
    "import time\n",
    "import numpy as np\n",
    "import utils\n",
    "\n",
    "area_thresholds = [100, 500]\n",
    "stddev_thresholds = [50]\n",
    "diagonal_thresholds = [25, 50, 100]\n",
    "moment_thresholds = [0.42]\n",
    "x = np.load(\"../hypernet-data/Salinas_corrected.npy\")\n",
    "\n",
    "band_mapper = BandMapper(x)\n",
    "image_data = band_mapper.map_single(10)\n",
    "normalized_image = utils.normalize_to_byte(image_data)\n",
    "utils.create_image(normalized_image)\n",
    "\n",
    "min_ = np.amin(x)\n",
    "max_ = np.amax(x)\n",
    "\n",
    "pca = calculate_pca(x, 5)\n",
    "pca = normalize_pca(pca, min_, max_)\n",
    "\n",
    "area_eap = []\n",
    "stddev_eap = []\n",
    "diagonal_eap = []\n",
    "moment_eap = []\n",
    "start = time.time()\n",
    "for index in range(0, pca.shape[-1]):\n",
    "    pc = pca[:, :, index]\n",
    "    tree_thick = MaxTree(pc, ['area'])\n",
    "    tree_thin = MaxTree(invert_array(pc), ['area'])\n",
    "    area_ap = generate_ap(pc, tree_thick, tree_thin, 'area', area_thresholds)\n",
    "    area_eap.append(area_ap)\n",
    "\n",
    "print(\"Salinas moment time: {}\".format(time.time() - start))\n",
    "salinas = np.empty(x.shape)\n",
    "area_eap = np.array(area_eap)\n",
    "np_index = 0\n",
    "for index, eap in enumerate(area_eap):\n",
    "    for ap in range(0, eap.shape[-1]):\n",
    "        salinas[:, :, np_index] = eap[:, :, ap]\n",
    "        np_index += 1\n"
   ]
  },
  {
   "cell_type": "code",
   "execution_count": null,
   "metadata": {},
   "outputs": [],
   "source": []
  }
 ],
 "metadata": {
  "git": {
   "suppress_outputs": true
  },
  "kernelspec": {
   "display_name": "Python 3",
   "language": "python",
   "name": "python3"
  },
  "language_info": {
   "codemirror_mode": {
    "name": "ipython",
    "version": 3
   },
   "file_extension": ".py",
   "mimetype": "text/x-python",
   "name": "python",
   "nbconvert_exporter": "python",
   "pygments_lexer": "ipython3",
   "version": "3.6.6"
  }
 },
 "nbformat": 4,
 "nbformat_minor": 2
}
