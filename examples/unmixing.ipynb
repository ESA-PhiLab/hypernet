{
 "cells": [
  {
   "cell_type": "markdown",
   "source": [
    "## Parameters description for the unmixing experiments\n",
    "Train and evaluate the convolutional neural network (CNN)\n",
    "as well as the deep convolutional autoencoder (DCAE)\n",
    "for the unmixing problem. <br>\n",
    "Exemplary hyperparameters to set:<br>\n",
    "- --data-file-path - path to the hyperspectral image (HSI).\n",
    "- --ground-truth-path - path to the ground truth map containing\n",
    "the fractions of abundances for entire HSI.\n",
    "- --train-size - magnitude of the learning set that is utilized\n",
    "to fine-tune the weights of the model.\n",
    "- --sub-test-size - size of the test set to evaluate\n",
    "the generalization of the model. It is sampled from the remaining\n",
    "HSI excluding the training subset. If not specified, all non-training samples\n",
    "constitute the test set.<br>Can be employed in the case of experiments\n",
    "when changing the magnitudes of training sets but keeping the size of test\n",
    "set constant.\n",
    "- --val-size - fraction or size of the validation subset, it is designed to\n",
    "monitor the overfitting.\n",
    "- --channels-idx - index of the spectral dimension in input HSI.\n",
    "- batch-size - number of samples per update step in the training phase.\n",
    "- --shuffle - indicates whether to shuffle the dataset in experiment.\n",
    "- --patience - stopping condition for a specific number of epochs without\n",
    "improvement.\n",
    "- --model-name - name of the utilized model, exemplary values:<br>\n",
    "unmixing_pixel_based_cnn, unmixing_cube_based_cnn, unmixing_pixel_based_dcae,\n",
    "unmixing_cube_based_dcae for the pixel-based, cube-based CNN and DCAE\n",
    "respectively.\n",
    "- --sample-size - number of spectral bands in a given HSI.\n",
    "- --neighborhood-size - size of the spatial extent which is employed for each\n",
    "sample in the form of local neighboring pixels. Most cases allows to leverage\n",
    "the quality of the segmentation as well as the unmixing.\n",
    "- --n-classes - number of endmembers in the HSI for which the abundances\n",
    "will be estimated by the model.\n",
    "- --lr - learning rate, regulates the step size during weights updates.\n",
    "- --epochs - second stopping condition, i.e., the maximum number of epochs.\n",
    "- --verbose - verbosity mode.\n",
    "- --save-data - indicates whether to save the training and test data."
   ],
   "metadata": {
    "collapsed": false
   }
  },
  {
   "cell_type": "markdown",
   "source": [
    "## Cube-based DCAE\n",
    "We specify the necessary parameters for the experiment."
   ],
   "metadata": {
    "collapsed": false
   }
  },
  {
   "cell_type": "code",
   "execution_count": 1,
   "outputs": [],
   "source": [
    "# Execute cube-based DCAE:\n",
    "from os.path import join\n",
    "\n",
    "base_path = r'../datasets/urban'\n",
    "data_file_path = join(base_path, 'urban.npy')\n",
    "ground_truth_path = join(base_path, 'urban_gt.npy')\n",
    "endmembers_path = join(base_path, 'urban_m.npy')\n",
    "train_size = 15500\n",
    "sub_test_size = 47249\n",
    "val_size = 0.1\n",
    "channels_idx = -1\n",
    "batch_size = 256\n",
    "shuffle = True\n",
    "patience = 3\n",
    "model_name = 'unmixing_cube_based_dcae'\n",
    "sample_size = 162\n",
    "neighborhood_size = 5\n",
    "n_classes = 6\n",
    "dest_path = join('../examples', 'unmixing_results')\n",
    "lr = 0.0005\n",
    "epochs = 10\n",
    "verbose = 2\n",
    "save_data = False\n",
    "use_mlflow = False\n",
    "seed = 1"
   ],
   "metadata": {
    "collapsed": false,
    "pycharm": {
     "name": "#%%\n"
    }
   }
  },
  {
   "cell_type": "code",
   "execution_count": 2,
   "outputs": [],
   "source": [
    "import os\n",
    "import warnings\n",
    "warnings.filterwarnings('ignore')\n",
    "\n",
    "import tensorflow as tf\n",
    "\n",
    "from ml_intuition import enums\n",
    "from ml_intuition.data.utils import parse_train_size, subsample_test_set\n",
    "from scripts import prepare_data\n",
    "from scripts.unmixing import train_unmixing, evaluate_unmixing\n",
    "from scripts.unmixing.unmixing_experiments_runner import NEIGHBORHOOD_SIZES, \\\n",
    "    LEARNING_RATES\n",
    "\n",
    "dcae_dest_path = join(dest_path, 'cube-based-dcae')\n",
    "os.makedirs(dcae_dest_path, exist_ok=True)\n",
    "\n",
    "# Apply default literature hyperparameters:\n",
    "if neighborhood_size is None and model_name in NEIGHBORHOOD_SIZES:\n",
    "    neighborhood_size = NEIGHBORHOOD_SIZES[model_name]\n",
    "if lr is None and model_name in LEARNING_RATES:\n",
    "    lr = LEARNING_RATES[model_name]"
   ],
   "metadata": {
    "collapsed": false,
    "pycharm": {
     "name": "#%%\n"
    }
   }
  },
  {
   "cell_type": "markdown",
   "source": [
    "## Prepare data\n",
    "Prepare the data for unmixing utilizing the *prepare_data.main* method.<br>\n",
    "It accepts various parameters such as path to the data file or ground-truth\n",
    "for a specific HSI. Furthermore, magnitude of the learning set can be specified.\n",
    "The method accepts also the neighborhood size parameter which specifies the\n",
    "spatial extent of ech sample."
   ],
   "metadata": {
    "collapsed": false,
    "pycharm": {
     "name": "#%% md\n"
    }
   }
  },
  {
   "cell_type": "code",
   "execution_count": 3,
   "outputs": [],
   "source": [
    "# Prepare data for unmixing:\n",
    "data = prepare_data.main(data_file_path=data_file_path,\n",
    "                         ground_truth_path=ground_truth_path,\n",
    "                         train_size=parse_train_size(train_size),\n",
    "                         val_size=val_size,\n",
    "                         stratified=False,\n",
    "                         background_label=-1,\n",
    "                         channels_idx=channels_idx,\n",
    "                         neighborhood_size=neighborhood_size,\n",
    "                         save_data=save_data,\n",
    "                         seed=seed,\n",
    "                         use_unmixing=True)\n",
    "# Subsample the test set to constitute a constant size:\n",
    "if sub_test_size is not None:\n",
    "    subsample_test_set(data[enums.Dataset.TEST], sub_test_size)"
   ],
   "metadata": {
    "collapsed": false,
    "pycharm": {
     "name": "#%%\n"
    }
   }
  },
  {
   "cell_type": "markdown",
   "source": [
    "## Train and evaluate the model\n",
    "Few parameters previously initialized are employed in this step, e.g.,\n",
    "the name of the model, size of the spectral extent,\n",
    "learning rate and batch size.\n",
    "The results including the metrics are stored in *dcae_dest_path* directory."
   ],
   "metadata": {
    "collapsed": false
   }
  },
  {
   "cell_type": "code",
   "execution_count": 4,
   "outputs": [
    {
     "name": "stderr",
     "output_type": "stream",
     "text": [
      "c:\\users\\łukasz\\desktop\\machine-learning\\venv\\lib\\site-packages\\tensorflow\\python\\framework\\tensor_util.py:125: DeprecationWarning: np.asscalar(a) is deprecated since NumPy v1.16, use a.item() instead\n",
      "  tensor_proto.float_val.extend([np.asscalar(x) for x in proto_values])\n"
     ]
    },
    {
     "name": "stdout",
     "output_type": "stream",
     "text": [
      "_________________________________________________________________\n",
      "Layer (type)                 Output Shape              Param #   \n",
      "=================================================================\n",
      "conv3d (Conv3D)              (None, 3, 3, 160, 16)     448       \n",
      "_________________________________________________________________\n",
      "conv3d_1 (Conv3D)            (None, 1, 1, 158, 32)     13856     \n",
      "_________________________________________________________________\n",
      "conv3d_2 (Conv3D)            (None, 1, 1, 156, 64)     6208      \n",
      "_________________________________________________________________\n",
      "conv3d_3 (Conv3D)            (None, 1, 1, 154, 128)    24704     \n",
      "_________________________________________________________________\n",
      "flatten (Flatten)            (None, 19712)             0         \n",
      "_________________________________________________________________\n",
      "dense (Dense)                (None, 256)               5046528   \n",
      "_________________________________________________________________\n",
      "dropout (Dropout)            (None, 256)               0         \n",
      "_________________________________________________________________\n",
      "dense_1 (Dense)              (None, 6)                 1542      \n",
      "_________________________________________________________________\n",
      "softmax (Softmax)            (None, 6)                 0         \n",
      "_________________________________________________________________\n",
      "dense_2 (Dense)              (None, 162)               1134      \n",
      "=================================================================\n",
      "Total params: 5,094,420\n",
      "Trainable params: 5,093,286\n",
      "Non-trainable params: 1,134\n",
      "_________________________________________________________________\n",
      "Train on 13950 samples, validate on 1550 samples\n",
      "Epoch 1/10\n",
      " - 24s - loss: 27.2594 - spectral_information_divergence_loss: 27.2594 - val_loss: 14.3238 - val_spectral_information_divergence_loss: 14.3238\n",
      "Epoch 2/10\n",
      " - 22s - loss: 13.3470 - spectral_information_divergence_loss: 13.3470 - val_loss: 13.1781 - val_spectral_information_divergence_loss: 13.1781\n",
      "Epoch 3/10\n",
      " - 23s - loss: 12.6279 - spectral_information_divergence_loss: 12.6279 - val_loss: 12.8900 - val_spectral_information_divergence_loss: 12.8900\n",
      "Epoch 4/10\n",
      " - 22s - loss: 12.2331 - spectral_information_divergence_loss: 12.2331 - val_loss: 12.6139 - val_spectral_information_divergence_loss: 12.6139\n",
      "Epoch 5/10\n",
      " - 22s - loss: 11.9847 - spectral_information_divergence_loss: 11.9847 - val_loss: 12.4838 - val_spectral_information_divergence_loss: 12.4838\n",
      "Epoch 6/10\n",
      " - 22s - loss: 11.8440 - spectral_information_divergence_loss: 11.8440 - val_loss: 12.4291 - val_spectral_information_divergence_loss: 12.4291\n",
      "Epoch 7/10\n",
      " - 22s - loss: 11.7828 - spectral_information_divergence_loss: 11.7828 - val_loss: 12.3407 - val_spectral_information_divergence_loss: 12.3407\n",
      "Epoch 8/10\n",
      " - 24s - loss: 11.7276 - spectral_information_divergence_loss: 11.7276 - val_loss: 12.3753 - val_spectral_information_divergence_loss: 12.3753\n",
      "Epoch 9/10\n",
      " - 23s - loss: 11.6935 - spectral_information_divergence_loss: 11.6935 - val_loss: 12.3231 - val_spectral_information_divergence_loss: 12.3231\n",
      "Epoch 10/10\n",
      " - 22s - loss: 11.6292 - spectral_information_divergence_loss: 11.6292 - val_loss: 12.3010 - val_spectral_information_divergence_loss: 12.3010\n",
      "(47249, 6)\n"
     ]
    }
   ],
   "source": [
    "# Train the model:\n",
    "train_unmixing.train(model_name=model_name,\n",
    "                     dest_path=dcae_dest_path,\n",
    "                     data=data,\n",
    "                     sample_size=sample_size,\n",
    "                     neighborhood_size=neighborhood_size,\n",
    "                     n_classes=n_classes,\n",
    "                     lr=lr,\n",
    "                     batch_size=batch_size,\n",
    "                     epochs=epochs,\n",
    "                     verbose=verbose,\n",
    "                     shuffle=shuffle,\n",
    "                     patience=patience,\n",
    "                     endmembers_path=endmembers_path,\n",
    "                     seed=seed)\n",
    "# Evaluate the model:\n",
    "evaluate_unmixing.evaluate(\n",
    "    model_path=os.path.join(dcae_dest_path, model_name),\n",
    "    data=data,\n",
    "    dest_path=dcae_dest_path,\n",
    "    neighborhood_size=neighborhood_size,\n",
    "    batch_size=batch_size,\n",
    "    endmembers_path=endmembers_path)\n",
    "tf.keras.backend.clear_session()"
   ],
   "metadata": {
    "collapsed": false,
    "pycharm": {
     "name": "#%%\n"
    }
   }
  },
  {
   "cell_type": "markdown",
   "source": [
    "## Pixel-based CNN\n",
    "We perform the same steps for the pixel-based CNN model, however few parameters\n",
    "must be altered. Since we utilize only the spectral dimension, the\n",
    "*neighborhood_size* is set to *None*, the learning rate is also adjusted."
   ],
   "metadata": {
    "collapsed": false
   }
  },
  {
   "cell_type": "code",
   "execution_count": 5,
   "outputs": [
    {
     "name": "stdout",
     "output_type": "stream",
     "text": [
      "_________________________________________________________________\n",
      "Layer (type)                 Output Shape              Param #   \n",
      "=================================================================\n",
      "conv3d (Conv3D)              (None, 1, 1, 158, 3)      18        \n",
      "_________________________________________________________________\n",
      "max_pooling3d (MaxPooling3D) (None, 1, 1, 79, 3)       0         \n",
      "_________________________________________________________________\n",
      "conv3d_1 (Conv3D)            (None, 1, 1, 76, 6)       78        \n",
      "_________________________________________________________________\n",
      "max_pooling3d_1 (MaxPooling3 (None, 1, 1, 38, 6)       0         \n",
      "_________________________________________________________________\n",
      "conv3d_2 (Conv3D)            (None, 1, 1, 34, 12)      372       \n",
      "_________________________________________________________________\n",
      "max_pooling3d_2 (MaxPooling3 (None, 1, 1, 17, 12)      0         \n",
      "_________________________________________________________________\n",
      "conv3d_3 (Conv3D)            (None, 1, 1, 14, 24)      1176      \n",
      "_________________________________________________________________\n",
      "max_pooling3d_3 (MaxPooling3 (None, 1, 1, 7, 24)       0         \n",
      "_________________________________________________________________\n",
      "flatten (Flatten)            (None, 168)               0         \n",
      "_________________________________________________________________\n",
      "dense (Dense)                (None, 192)               32448     \n",
      "_________________________________________________________________\n",
      "dense_1 (Dense)              (None, 150)               28950     \n",
      "_________________________________________________________________\n",
      "dense_2 (Dense)              (None, 6)                 906       \n",
      "=================================================================\n",
      "Total params: 63,948\n",
      "Trainable params: 63,948\n",
      "Non-trainable params: 0\n",
      "_________________________________________________________________\n",
      "Train on 13950 samples, validate on 1550 samples\n",
      "Epoch 1/10\n",
      " - 5s - loss: 0.0216 - cnn_rmse: 0.1342 - overall_rms_abundance_angle_distance: 0.4583 - sum_per_class_rmse: 0.7833 - val_loss: 0.0060 - val_cnn_rmse: 0.0771 - val_overall_rms_abundance_angle_distance: 0.2671 - val_sum_per_class_rmse: 0.4578\n",
      "Epoch 2/10\n",
      " - 5s - loss: 0.0050 - cnn_rmse: 0.0706 - overall_rms_abundance_angle_distance: 0.2491 - sum_per_class_rmse: 0.4170 - val_loss: 0.0030 - val_cnn_rmse: 0.0546 - val_overall_rms_abundance_angle_distance: 0.1879 - val_sum_per_class_rmse: 0.3245\n",
      "Epoch 3/10\n",
      " - 5s - loss: 0.0030 - cnn_rmse: 0.0549 - overall_rms_abundance_angle_distance: 0.1872 - sum_per_class_rmse: 0.3246 - val_loss: 0.0026 - val_cnn_rmse: 0.0510 - val_overall_rms_abundance_angle_distance: 0.1703 - val_sum_per_class_rmse: 0.3006\n",
      "Epoch 4/10\n",
      " - 5s - loss: 0.0023 - cnn_rmse: 0.0482 - overall_rms_abundance_angle_distance: 0.1632 - sum_per_class_rmse: 0.2840 - val_loss: 0.0020 - val_cnn_rmse: 0.0444 - val_overall_rms_abundance_angle_distance: 0.1515 - val_sum_per_class_rmse: 0.2626\n",
      "Epoch 5/10\n",
      " - 5s - loss: 0.0022 - cnn_rmse: 0.0472 - overall_rms_abundance_angle_distance: 0.1589 - sum_per_class_rmse: 0.2781 - val_loss: 0.0019 - val_cnn_rmse: 0.0432 - val_overall_rms_abundance_angle_distance: 0.1444 - val_sum_per_class_rmse: 0.2542\n",
      "Epoch 6/10\n",
      " - 5s - loss: 0.0020 - cnn_rmse: 0.0440 - overall_rms_abundance_angle_distance: 0.1475 - sum_per_class_rmse: 0.2589 - val_loss: 0.0016 - val_cnn_rmse: 0.0400 - val_overall_rms_abundance_angle_distance: 0.1352 - val_sum_per_class_rmse: 0.2355\n",
      "Epoch 7/10\n",
      " - 5s - loss: 0.0016 - cnn_rmse: 0.0403 - overall_rms_abundance_angle_distance: 0.1370 - sum_per_class_rmse: 0.2373 - val_loss: 0.0014 - val_cnn_rmse: 0.0370 - val_overall_rms_abundance_angle_distance: 0.1261 - val_sum_per_class_rmse: 0.2175\n",
      "Epoch 8/10\n",
      " - 5s - loss: 0.0014 - cnn_rmse: 0.0370 - overall_rms_abundance_angle_distance: 0.1263 - sum_per_class_rmse: 0.2173 - val_loss: 0.0016 - val_cnn_rmse: 0.0400 - val_overall_rms_abundance_angle_distance: 0.1392 - val_sum_per_class_rmse: 0.2389\n",
      "Epoch 9/10\n",
      " - 5s - loss: 0.0015 - cnn_rmse: 0.0385 - overall_rms_abundance_angle_distance: 0.1308 - sum_per_class_rmse: 0.2261 - val_loss: 0.0012 - val_cnn_rmse: 0.0341 - val_overall_rms_abundance_angle_distance: 0.1169 - val_sum_per_class_rmse: 0.2012\n",
      "Epoch 10/10\n",
      " - 5s - loss: 0.0012 - cnn_rmse: 0.0339 - overall_rms_abundance_angle_distance: 0.1161 - sum_per_class_rmse: 0.1998 - val_loss: 0.0012 - val_cnn_rmse: 0.0346 - val_overall_rms_abundance_angle_distance: 0.1164 - val_sum_per_class_rmse: 0.2023\n",
      "(47249, 6)\n"
     ]
    }
   ],
   "source": [
    "# Execute the pixel-based CNN:\n",
    "endmembers_path = None\n",
    "model_name = 'unmixing_pixel_based_cnn'\n",
    "lr = 0.01\n",
    "neighborhood_size = None\n",
    "cnn_dest_path = join(dest_path, 'pixel-based-cnn')\n",
    "os.makedirs(cnn_dest_path, exist_ok=True)\n",
    "\n",
    "# Apply default literature hyperparameters:\n",
    "if neighborhood_size is None and model_name in NEIGHBORHOOD_SIZES:\n",
    "    neighborhood_size = NEIGHBORHOOD_SIZES[model_name]\n",
    "if lr is None and model_name in LEARNING_RATES:\n",
    "    lr = LEARNING_RATES[model_name]\n",
    "# Prepare data for unmixing:\n",
    "data = prepare_data.main(data_file_path=data_file_path,\n",
    "                         ground_truth_path=ground_truth_path,\n",
    "                         train_size=parse_train_size(train_size),\n",
    "                         val_size=val_size,\n",
    "                         stratified=False,\n",
    "                         background_label=-1,\n",
    "                         channels_idx=channels_idx,\n",
    "                         neighborhood_size=neighborhood_size,\n",
    "                         save_data=save_data,\n",
    "                         seed=seed,\n",
    "                         use_unmixing=True)\n",
    "# Subsample the test set to constitute a constant size:\n",
    "if sub_test_size is not None:\n",
    "    subsample_test_set(data[enums.Dataset.TEST], sub_test_size)\n",
    "# Train the model:\n",
    "train_unmixing.train(model_name=model_name,\n",
    "                     dest_path=cnn_dest_path,\n",
    "                     data=data,\n",
    "                     sample_size=sample_size,\n",
    "                     neighborhood_size=neighborhood_size,\n",
    "                     n_classes=n_classes,\n",
    "                     lr=lr,\n",
    "                     batch_size=batch_size,\n",
    "                     epochs=epochs,\n",
    "                     verbose=verbose,\n",
    "                     shuffle=shuffle,\n",
    "                     patience=patience,\n",
    "                     endmembers_path=endmembers_path,\n",
    "                     seed=seed)\n",
    "# Evaluate the model:\n",
    "evaluate_unmixing.evaluate(\n",
    "    model_path=os.path.join(cnn_dest_path, model_name),\n",
    "    data=data,\n",
    "    dest_path=cnn_dest_path,\n",
    "    neighborhood_size=neighborhood_size,\n",
    "    batch_size=batch_size,\n",
    "    endmembers_path=endmembers_path)\n",
    "tf.keras.backend.clear_session()\n"
   ],
   "metadata": {
    "collapsed": false,
    "pycharm": {
     "name": "#%%\n"
    }
   }
  }
 ],
 "metadata": {
  "kernelspec": {
   "name": "python3",
   "language": "python",
   "display_name": "Python 3"
  },
  "language_info": {
   "codemirror_mode": {
    "name": "ipython",
    "version": 2
   },
   "file_extension": ".py",
   "mimetype": "text/x-python",
   "name": "python",
   "nbconvert_exporter": "python",
   "pygments_lexer": "ipython2",
   "version": "2.7.6"
  }
 },
 "nbformat": 4,
 "nbformat_minor": 0
}