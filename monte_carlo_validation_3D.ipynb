{
 "cells": [
  {
   "cell_type": "code",
   "execution_count": null,
   "metadata": {},
   "outputs": [],
   "source": [
    "import os\n",
    "from keras.models import load_model\n",
    "from keras.callbacks import ModelCheckpoint, EarlyStopping\n",
    "from python_research.experiments.multiple_feature_learning.builders.keras_builders import build_model, build_settings_for_dataset\n",
    "from python_research.experiments.multiple_feature_learning.utils.dataset import Dataset\n",
    "from utils import show_samples_location\n",
    "\n",
    "DATASET_PATH = \"C:\\\\Users\\mmyller.KPLABS\\Documents\\datasets\\pavia\\PaviaU_corrected.npy\"\n",
    "DATASET_GT_PATH = \"C:\\\\Users\\mmyller.KPLABS\\Documents\\datasets\\pavia\\PaviaU_gt.npy\"\n",
    "OUTPUT_PATH = \"monte_carlo_3D\\\\artifact\"\n",
    "TRAIN_SAMPLES_PER_CLASS_COUNT = 250\n",
    "PIXEL_NEIGHBOURHOOD = (7, 7)\n",
    "CLASSES_COUNT = 9\n",
    "PATIENCE = 15\n",
    "EPOCHS = 200\n",
    "BATCH_SIZE = 64\n",
    "os.makedirs(\"monte_carlo_3D\", exist_ok=True)\n",
    "\n",
    "dataset = Dataset(DATASET_PATH, DATASET_GT_PATH, TRAIN_SAMPLES_PER_CLASS_COUNT, PIXEL_NEIGHBOURHOOD)\n",
    "\n",
    "bands_count = dataset.x.shape[-1]\n",
    "\n",
    "settings = build_settings_for_dataset(PIXEL_NEIGHBOURHOOD)\n",
    "\n",
    "model = build_model(settings, CLASSES_COUNT, bands_count)\n",
    "\n",
    "print(model.summary())"
   ]
  },
  {
   "cell_type": "code",
   "execution_count": null,
   "metadata": {},
   "outputs": [],
   "source": [
    "# Normalization\n",
    "dataset.normalize_data()\n",
    "\n",
    "# Callbacks\n",
    "early = EarlyStopping(patience=PATIENCE)\n",
    "checkpoint = ModelCheckpoint(OUTPUT_PATH + \"_model\", save_best_only=True)\n",
    "\n",
    "# Model training\n",
    "model.fit(x=dataset.x_train, y=dataset.y_train, batch_size=BATCH_SIZE, epochs=EPOCHS, verbose=False, \n",
    "          callbacks=[early, checkpoint], validation_data=[dataset.x_val, dataset.y_val])\n",
    "\n",
    "best_model = load_model(OUTPUT_PATH + \"_model\")\n",
    "\n",
    "# Evaluate test set score\n",
    "accuracy = best_model.evaluate(x=dataset.x_test, y=dataset.y_test)[1]\n",
    "print(\"Test set accuracy: {}\".format(accuracy))"
   ]
  },
  {
   "cell_type": "code",
   "execution_count": null,
   "metadata": {},
   "outputs": [],
   "source": [
    "SAMPLES_TO_SHOW_COUNT = 20\n",
    "show_samples_location(dataset, PIXEL_NEIGHBOURHOOD, SAMPLES_TO_SHOW_COUNT)"
   ]
  },
  {
   "cell_type": "code",
   "execution_count": null,
   "metadata": {},
   "outputs": [],
   "source": []
  }
 ],
 "metadata": {
  "kernelspec": {
   "display_name": "Python 2",
   "language": "python",
   "name": "python2"
  },
  "language_info": {
   "codemirror_mode": {
    "name": "ipython",
    "version": 2
   },
   "file_extension": ".py",
   "mimetype": "text/x-python",
   "name": "python",
   "nbconvert_exporter": "python",
   "pygments_lexer": "ipython2",
   "version": "2.7.6"
  }
 },
 "nbformat": 4,
 "nbformat_minor": 0
}
