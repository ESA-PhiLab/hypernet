{
 "cells": [
  {
   "cell_type": "markdown",
   "source": [
    "# Noise injection into unmixing models ensemble\n",
    "\n",
    "- Inject noise into the models for unmixing and verify its robustness against noise.\n",
    "- Create N copies of the base model and augment them with noise.\n",
    "Each model makes its own predictions, which are later aggregated to create\n",
    "an ensemble final prediction."
   ],
   "metadata": {
    "collapsed": false
   }
  },
  {
   "cell_type": "markdown",
   "source": [
    "- --data-file-path - path to the hyperspectral image (HSI).\n",
    "- --ground-truth-path - path to the ground truth map containing\n",
    "the fractions of abundances for entire HSI.\n",
    "- --train-size - magnitude of the learning set that is utilized\n",
    "to fine-tune the weights of the model.\n",
    "- --sub-test-size - size of the test set to evaluate\n",
    "the generalization of the model. It is sampled from the remaining\n",
    "HSI excluding the training subset. If not specified, all non-training samples\n",
    "constitute the test set.<br>Can be employed in the case of experiments\n",
    "when changing the magnitudes of training sets while keeping the size of testing\n",
    "sets constant.\n",
    "- --val-size - fraction or size of the validation subset, it is designed to\n",
    "monitor the overfitting.\n",
    "- --channels-idx - index of the spectral dimension in input HSI.\n",
    "- batch-size - number of samples per update step in the training phase.\n",
    "- --shuffle - indicates whether to shuffle the dataset in experiment.\n",
    "- --patience - stopping condition for a specific number of epochs without\n",
    "improvement.\n",
    "- --model-name - name of the utilized model, exemplary values:<br>\n",
    "unmixing_pixel_based_cnn, unmixing_cube_based_cnn, unmixing_pixel_based_dcae,\n",
    "unmixing_cube_based_dcae for the pixel-based, cube-based CNN and DCAE\n",
    "respectively.\n",
    "- --sample-size - number of spectral bands in a given HSI.\n",
    "- --neighborhood-size - size of the spatial extent which is employed for each\n",
    "sample in the form of local neighboring pixels. Most cases allows to leverage\n",
    "the quality of the segmentation as well as the unmixing.\n",
    "- --n-classes - number of endmembers in the HSI for which the abundances\n",
    "will be estimated by the model.\n",
    "- --lr - learning rate regulates the step size during weights updates in the training phase.\n",
    "- --epochs - second stopping condition, i.e., the maximum number of epochs.\n",
    "- --verbose - verbosity mode.\n",
    "- --save-data - indicates whether to save the training and test data."
   ],
   "metadata": {
    "collapsed": false,
    "pycharm": {
     "name": "#%% md\n"
    }
   }
  },
  {
   "cell_type": "markdown",
   "source": [
    "# Train base Pixel-based CNN\n",
    "We specify the necessary parameters for the experiment."
   ],
   "metadata": {
    "collapsed": false
   }
  },
  {
   "cell_type": "code",
   "execution_count": 1,
   "outputs": [],
   "source": [
    "# Execute pixel-based CNN:\n",
    "from os.path import join\n",
    "\n",
    "base_path = r'../datasets/urban'\n",
    "data_file_path = join(base_path, 'urban.npy')\n",
    "ground_truth_path = join(base_path, 'urban_gt.npy')\n",
    "endmembers_path = None\n",
    "train_size = 15500\n",
    "sub_test_size = 5000\n",
    "val_size = 0.1\n",
    "channels_idx = -1\n",
    "batch_size = 256\n",
    "shuffle = True\n",
    "patience = 3\n",
    "model_name = 'unmixing_pixel_based_cnn'\n",
    "sample_size = 162\n",
    "neighborhood_size = None\n",
    "n_classes = 6\n",
    "dest_path = join('../examples', 'unmixing_results')\n",
    "lr = 0.0005\n",
    "epochs = 10\n",
    "verbose = 0\n",
    "save_data = False\n",
    "use_mlflow = False\n",
    "seed = 1"
   ],
   "metadata": {
    "collapsed": false,
    "pycharm": {
     "name": "#%%\n"
    }
   }
  },
  {
   "cell_type": "code",
   "execution_count": 2,
   "outputs": [],
   "source": [
    "import os\n",
    "import warnings\n",
    "warnings.filterwarnings('ignore')\n",
    "\n",
    "import tensorflow as tf\n",
    "\n",
    "from ml_intuition import enums\n",
    "from ml_intuition.data.utils import parse_train_size, subsample_test_set, \\\n",
    "    plot_training_curve, show_statistics\n",
    "from scripts import prepare_data\n",
    "from scripts.unmixing import train_unmixing, evaluate_unmixing\n",
    "\n",
    "os.makedirs(dest_path, exist_ok=True)\n",
    "\n",
    "cnn_dest_path = join(dest_path, 'pixel-based-cnn')\n",
    "os.makedirs(cnn_dest_path, exist_ok=True)"
   ],
   "metadata": {
    "collapsed": false,
    "pycharm": {
     "name": "#%%\n"
    }
   }
  },
  {
   "cell_type": "markdown",
   "source": [
    "# Prepare data\n",
    "We prepare data for the unmixing by utilizing the *prepare_data.main* method.\n",
    "It accepts various parameters such as path to the data file or ground-truth\n",
    "for a specific HSI. Furthermore, magnitude of the learning set can be also specified.\n",
    "Moreover, the method accepts the neighborhood size parameter, which specifies the\n",
    "spatial extent of ech sample. For each run in the experiment, for the\n",
    "sake of reproducibility, it is possible to set a specific seed.\n",
    "The returned object is a dictionary with three keys: *train*, *test* and *val*.\n",
    "Each of them contains an additional dictionary with *data* and *labels* keys,\n",
    "holding corresponding *numpy.ndarray* objects with the data.\n",
    "For more details about the parameters, refer to the documentation\n",
    "of *prepare_data.main* function (located in *scripts/prepare_data*)."
   ],
   "metadata": {
    "collapsed": false
   }
  },
  {
   "cell_type": "code",
   "execution_count": 3,
   "outputs": [],
   "source": [
    "# Prepare data for unmixing:\n",
    "data = prepare_data.main(data_file_path=data_file_path,\n",
    "                         ground_truth_path=ground_truth_path,\n",
    "                         train_size=parse_train_size(train_size),\n",
    "                         val_size=val_size,\n",
    "                         stratified=False,\n",
    "                         background_label=-1,\n",
    "                         channels_idx=channels_idx,\n",
    "                         neighborhood_size=neighborhood_size,\n",
    "                         save_data=save_data,\n",
    "                         seed=seed,\n",
    "                         use_unmixing=True)\n",
    "# Subsample the test set to constitute a constant size:\n",
    "if sub_test_size is not None:\n",
    "    subsample_test_set(data[enums.Dataset.TEST], sub_test_size)"
   ],
   "metadata": {
    "collapsed": false,
    "pycharm": {
     "name": "#%%\n"
    }
   }
  },
  {
   "cell_type": "markdown",
   "source": [
    "# Train and evaluate the model\n",
    "Few parameters previously initialized are employed in this step e.g.,\n",
    "the name of the model, size of the spectral extent,\n",
    "learning rate and batch size.\n",
    "The results including the metrics are stored in *cnn_dest_path* directory."
   ],
   "metadata": {
    "collapsed": false
   }
  },
  {
   "cell_type": "code",
   "execution_count": 4,
   "outputs": [
    {
     "name": "stderr",
     "output_type": "stream",
     "text": [
      "c:\\users\\łukasz\\desktop\\machine-learning\\venv\\lib\\site-packages\\tensorflow\\python\\framework\\tensor_util.py:125: DeprecationWarning: np.asscalar(a) is deprecated since NumPy v1.16, use a.item() instead\n",
      "  tensor_proto.float_val.extend([np.asscalar(x) for x in proto_values])\n"
     ]
    },
    {
     "name": "stdout",
     "output_type": "stream",
     "text": [
      "_________________________________________________________________\n",
      "Layer (type)                 Output Shape              Param #   \n",
      "=================================================================\n",
      "conv3d (Conv3D)              (None, 1, 1, 158, 3)      18        \n",
      "_________________________________________________________________\n",
      "max_pooling3d (MaxPooling3D) (None, 1, 1, 79, 3)       0         \n",
      "_________________________________________________________________\n",
      "conv3d_1 (Conv3D)            (None, 1, 1, 76, 6)       78        \n",
      "_________________________________________________________________\n",
      "max_pooling3d_1 (MaxPooling3 (None, 1, 1, 38, 6)       0         \n",
      "_________________________________________________________________\n",
      "conv3d_2 (Conv3D)            (None, 1, 1, 34, 12)      372       \n",
      "_________________________________________________________________\n",
      "max_pooling3d_2 (MaxPooling3 (None, 1, 1, 17, 12)      0         \n",
      "_________________________________________________________________\n",
      "conv3d_3 (Conv3D)            (None, 1, 1, 14, 24)      1176      \n",
      "_________________________________________________________________\n",
      "max_pooling3d_3 (MaxPooling3 (None, 1, 1, 7, 24)       0         \n",
      "_________________________________________________________________\n",
      "flatten (Flatten)            (None, 168)               0         \n",
      "_________________________________________________________________\n",
      "dense (Dense)                (None, 192)               32448     \n",
      "_________________________________________________________________\n",
      "dense_1 (Dense)              (None, 150)               28950     \n",
      "_________________________________________________________________\n",
      "dense_2 (Dense)              (None, 6)                 906       \n",
      "=================================================================\n",
      "Total params: 63,948\n",
      "Trainable params: 63,948\n",
      "Non-trainable params: 0\n",
      "_________________________________________________________________\n"
     ]
    }
   ],
   "source": [
    "# Train the model:\n",
    "train_unmixing.train(model_name=model_name,\n",
    "                     dest_path=cnn_dest_path,\n",
    "                     data=data.copy(),\n",
    "                     sample_size=sample_size,\n",
    "                     neighborhood_size=neighborhood_size,\n",
    "                     n_classes=n_classes,\n",
    "                     lr=lr,\n",
    "                     batch_size=batch_size,\n",
    "                     epochs=epochs,\n",
    "                     verbose=verbose,\n",
    "                     shuffle=shuffle,\n",
    "                     patience=patience,\n",
    "                     endmembers_path=endmembers_path,\n",
    "                     seed=seed)\n",
    "# Evaluate the model:\n",
    "evaluate_unmixing.evaluate(\n",
    "    model_path=os.path.join(cnn_dest_path, model_name),\n",
    "    data=data.copy(),\n",
    "    dest_path=cnn_dest_path,\n",
    "    neighborhood_size=neighborhood_size,\n",
    "    batch_size=batch_size,\n",
    "    endmembers_path=endmembers_path)\n",
    "tf.keras.backend.clear_session()"
   ],
   "metadata": {
    "collapsed": false,
    "pycharm": {
     "name": "#%%\n"
    }
   }
  },
  {
   "cell_type": "code",
   "execution_count": 5,
   "outputs": [
    {
     "data": {
      "text/plain": "<Figure size 432x288 with 1 Axes>",
      "image/png": "[encoded data removed]"
     },
     "metadata": {
      "needs_background": "light"
     },
     "output_type": "display_data"
    }
   ],
   "source": [
    "plot_training_curve(os.path.join(cnn_dest_path, 'training_metrics.csv'),\n",
    "                    curve_names=['loss', 'val_loss'],\n",
    "                    y_limit=False)"
   ],
   "metadata": {
    "collapsed": false,
    "pycharm": {
     "name": "#%%\n"
    }
   }
  },
  {
   "cell_type": "markdown",
   "source": [
    "# Evaluate an ensemble of models\n",
    "\n",
    "To run the ensembles for the unmixing problem, use the `evaluate_unmixing`\n",
    "module and provide all necessary arguments.\n",
    "It accepts following types of ensemble voting:\n",
    "- mean, where the average of all models is computed\n",
    "- booster, where an additional model is trained on the training set predictions\n",
    "\n",
    "Each layer is modified separately. It is achieved by drawing a random number\n",
    "for each of the parameters of the layer.\n",
    "The number is drawn from the normal distribution with\n",
    "provided mean and standard deviation calculated from the layer's parameters,\n",
    "multiplied by `0.1`."
   ],
   "metadata": {
    "collapsed": false,
    "pycharm": {
     "name": "#%% md\n"
    }
   }
  },
  {
   "cell_type": "markdown",
   "source": [
    "# Evaluate the mean ensemble:"
   ],
   "metadata": {
    "collapsed": false,
    "pycharm": {
     "name": "#%% md\n"
    }
   }
  },
  {
   "cell_type": "code",
   "execution_count": 6,
   "outputs": [
    {
     "name": "stderr",
     "output_type": "stream",
     "text": [
      "c:\\users\\łukasz\\desktop\\machine-learning\\venv\\lib\\site-packages\\tensorflow\\python\\framework\\tensor_util.py:125: DeprecationWarning: np.asscalar(a) is deprecated since NumPy v1.16, use a.item() instead\n",
      "  tensor_proto.float_val.extend([np.asscalar(x) for x in proto_values])\n"
     ]
    }
   ],
   "source": [
    "from scripts.unmixing.evaluate_unmixing import evaluate\n",
    "\n",
    "mean_dest_path = os.path.join(cnn_dest_path, 'noise-mean')\n",
    "os.makedirs(mean_dest_path, exist_ok=True)\n",
    "evaluate(data=data.copy(),\n",
    "         model_path=os.path.join(cnn_dest_path, model_name),\n",
    "         dest_path=mean_dest_path,\n",
    "         neighborhood_size=neighborhood_size,\n",
    "         batch_size=batch_size,\n",
    "         endmembers_path=endmembers_path,\n",
    "         use_ensemble=True,\n",
    "         ensemble_copies=8,\n",
    "         noise_params=\"{\\\"mean\\\": 0, \\\"std\\\": }\",\n",
    "         voting='mean')"
   ],
   "metadata": {
    "collapsed": false,
    "pycharm": {
     "name": "#%%\n"
    }
   }
  },
  {
   "cell_type": "markdown",
   "source": [
    "# Evaluate the booster random forest regressor ensemble:"
   ],
   "metadata": {
    "collapsed": false
   }
  },
  {
   "cell_type": "code",
   "execution_count": 7,
   "outputs": [
    {
     "name": "stderr",
     "output_type": "stream",
     "text": [
      "c:\\users\\łukasz\\desktop\\machine-learning\\venv\\lib\\site-packages\\tensorflow\\python\\framework\\tensor_util.py:131: DeprecationWarning: np.asscalar(a) is deprecated since NumPy v1.16, use a.item() instead\n",
      "  tensor_proto.int_val.extend([np.asscalar(x) for x in proto_values])\n"
     ]
    }
   ],
   "source": [
    "from scripts.unmixing.evaluate_unmixing import evaluate\n",
    "\n",
    "booster_dest_path = os.path.join(cnn_dest_path, 'noise-booster')\n",
    "os.makedirs(booster_dest_path, exist_ok=True)\n",
    "evaluate(data=data.copy(),\n",
    "         model_path=os.path.join(cnn_dest_path, model_name),\n",
    "         dest_path=booster_dest_path,\n",
    "         neighborhood_size=neighborhood_size,\n",
    "         batch_size=batch_size,\n",
    "         endmembers_path=endmembers_path,\n",
    "         use_ensemble=True,\n",
    "         ensemble_copies=8,\n",
    "         noise_params=\"{\\\"mean\\\": 0, \\\"std\\\": }\",\n",
    "         voting='booster', # Booster type of voting\n",
    "         voting_model='RFR', # Random Forest Regressor model\n",
    "         voting_model_params=\"{}\") # Default parameters"
   ],
   "metadata": {
    "collapsed": false,
    "pycharm": {
     "name": "#%%\n"
    }
   }
  },
  {
   "cell_type": "markdown",
   "source": [
    "# Original base model results:"
   ],
   "metadata": {
    "collapsed": false,
    "pycharm": {
     "name": "#%% md\n"
    }
   }
  },
  {
   "cell_type": "code",
   "execution_count": 8,
   "outputs": [
    {
     "data": {
      "text/plain": "     aRMSE      aSAM  overallRMSE    rmsAAD  perClassSumRMSE  class0RMSE  \\\n0  0.05045  0.154137     0.066649  0.227918          0.39539    0.081193   \n\n   class1RMSE  class2RMSE  class3RMSE  class4RMSE  class5RMSE  inference_time  \n0    0.068023    0.058313    0.053067    0.075524    0.059269        0.297013  ",
      "text/html": "<div>\n<style scoped>\n    .dataframe tbody tr th:only-of-type {\n        vertical-align: middle;\n    }\n\n    .dataframe tbody tr th {\n        vertical-align: top;\n    }\n\n    .dataframe thead th {\n        text-align: right;\n    }\n</style>\n<table border=\"1\" class=\"dataframe\">\n  <thead>\n    <tr style=\"text-align: right;\">\n      <th></th>\n      <th>aRMSE</th>\n      <th>aSAM</th>\n      <th>overallRMSE</th>\n      <th>rmsAAD</th>\n      <th>perClassSumRMSE</th>\n      <th>class0RMSE</th>\n      <th>class1RMSE</th>\n      <th>class2RMSE</th>\n      <th>class3RMSE</th>\n      <th>class4RMSE</th>\n      <th>class5RMSE</th>\n      <th>inference_time</th>\n    </tr>\n  </thead>\n  <tbody>\n    <tr>\n      <th>0</th>\n      <td>0.05045</td>\n      <td>0.154137</td>\n      <td>0.066649</td>\n      <td>0.227918</td>\n      <td>0.39539</td>\n      <td>0.081193</td>\n      <td>0.068023</td>\n      <td>0.058313</td>\n      <td>0.053067</td>\n      <td>0.075524</td>\n      <td>0.059269</td>\n      <td>0.297013</td>\n    </tr>\n  </tbody>\n</table>\n</div>"
     },
     "execution_count": 8,
     "metadata": {},
     "output_type": "execute_result"
    }
   ],
   "source": [
    "show_statistics(os.path.join(cnn_dest_path, 'inference_metrics.csv'))"
   ],
   "metadata": {
    "collapsed": false,
    "pycharm": {
     "name": "#%%\n"
    }
   }
  },
  {
   "cell_type": "markdown",
   "source": [
    "# Mean results:"
   ],
   "metadata": {
    "collapsed": false,
    "pycharm": {
     "name": "#%% md\n"
    }
   }
  },
  {
   "cell_type": "code",
   "execution_count": 9,
   "outputs": [
    {
     "data": {
      "text/plain": "      aRMSE     aSAM  overallRMSE    rmsAAD  perClassSumRMSE  class0RMSE  \\\n0  0.062937  0.18116     0.078619  0.255331         0.464713    0.100972   \n\n   class1RMSE  class2RMSE  class3RMSE  class4RMSE  class5RMSE  inference_time  \n0    0.079178    0.067611    0.056964    0.081861    0.078127         2.39901  ",
      "text/html": "<div>\n<style scoped>\n    .dataframe tbody tr th:only-of-type {\n        vertical-align: middle;\n    }\n\n    .dataframe tbody tr th {\n        vertical-align: top;\n    }\n\n    .dataframe thead th {\n        text-align: right;\n    }\n</style>\n<table border=\"1\" class=\"dataframe\">\n  <thead>\n    <tr style=\"text-align: right;\">\n      <th></th>\n      <th>aRMSE</th>\n      <th>aSAM</th>\n      <th>overallRMSE</th>\n      <th>rmsAAD</th>\n      <th>perClassSumRMSE</th>\n      <th>class0RMSE</th>\n      <th>class1RMSE</th>\n      <th>class2RMSE</th>\n      <th>class3RMSE</th>\n      <th>class4RMSE</th>\n      <th>class5RMSE</th>\n      <th>inference_time</th>\n    </tr>\n  </thead>\n  <tbody>\n    <tr>\n      <th>0</th>\n      <td>0.062937</td>\n      <td>0.18116</td>\n      <td>0.078619</td>\n      <td>0.255331</td>\n      <td>0.464713</td>\n      <td>0.100972</td>\n      <td>0.079178</td>\n      <td>0.067611</td>\n      <td>0.056964</td>\n      <td>0.081861</td>\n      <td>0.078127</td>\n      <td>2.39901</td>\n    </tr>\n  </tbody>\n</table>\n</div>"
     },
     "execution_count": 9,
     "metadata": {},
     "output_type": "execute_result"
    }
   ],
   "source": [
    "show_statistics(os.path.join(mean_dest_path,\n",
    "                             'inference_metrics.csv'))"
   ],
   "metadata": {
    "collapsed": false,
    "pycharm": {
     "name": "#%%\n"
    }
   }
  },
  {
   "cell_type": "markdown",
   "source": [
    "# Booster results:"
   ],
   "metadata": {
    "collapsed": false,
    "pycharm": {
     "name": "#%% md\n"
    }
   }
  },
  {
   "cell_type": "code",
   "execution_count": 10,
   "outputs": [
    {
     "data": {
      "text/plain": "      aRMSE      aSAM  overallRMSE    rmsAAD  perClassSumRMSE  class0RMSE  \\\n0  0.022011  0.074186     0.038362  0.142907          0.22021    0.056896   \n\n   class1RMSE  class2RMSE  class3RMSE  class4RMSE  class5RMSE  inference_time  \n0    0.030881     0.02539    0.025169    0.038791    0.043084        1.912657  ",
      "text/html": "<div>\n<style scoped>\n    .dataframe tbody tr th:only-of-type {\n        vertical-align: middle;\n    }\n\n    .dataframe tbody tr th {\n        vertical-align: top;\n    }\n\n    .dataframe thead th {\n        text-align: right;\n    }\n</style>\n<table border=\"1\" class=\"dataframe\">\n  <thead>\n    <tr style=\"text-align: right;\">\n      <th></th>\n      <th>aRMSE</th>\n      <th>aSAM</th>\n      <th>overallRMSE</th>\n      <th>rmsAAD</th>\n      <th>perClassSumRMSE</th>\n      <th>class0RMSE</th>\n      <th>class1RMSE</th>\n      <th>class2RMSE</th>\n      <th>class3RMSE</th>\n      <th>class4RMSE</th>\n      <th>class5RMSE</th>\n      <th>inference_time</th>\n    </tr>\n  </thead>\n  <tbody>\n    <tr>\n      <th>0</th>\n      <td>0.022011</td>\n      <td>0.074186</td>\n      <td>0.038362</td>\n      <td>0.142907</td>\n      <td>0.22021</td>\n      <td>0.056896</td>\n      <td>0.030881</td>\n      <td>0.02539</td>\n      <td>0.025169</td>\n      <td>0.038791</td>\n      <td>0.043084</td>\n      <td>1.912657</td>\n    </tr>\n  </tbody>\n</table>\n</div>"
     },
     "execution_count": 10,
     "metadata": {},
     "output_type": "execute_result"
    }
   ],
   "source": [
    "show_statistics(os.path.join(booster_dest_path,\n",
    "                             'inference_metrics.csv'))"
   ],
   "metadata": {
    "collapsed": false,
    "pycharm": {
     "name": "#%%\n"
    }
   }
  }
 ],
 "metadata": {
  "kernelspec": {
   "display_name": "Python 3",
   "language": "python",
   "name": "python3"
  },
  "language_info": {
   "codemirror_mode": {
    "name": "ipython",
    "version": 2
   },
   "file_extension": ".py",
   "mimetype": "text/x-python",
   "name": "python",
   "nbconvert_exporter": "python",
   "pygments_lexer": "ipython2",
   "version": "2.7.6"
  }
 },
 "nbformat": 4,
 "nbformat_minor": 0
}