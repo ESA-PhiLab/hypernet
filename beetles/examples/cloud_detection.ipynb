{
 "metadata": {
  "language_info": {
   "codemirror_mode": {
    "name": "ipython",
    "version": 3
   },
   "file_extension": ".py",
   "mimetype": "text/x-python",
   "name": "python",
   "nbconvert_exporter": "python",
   "pygments_lexer": "ipython3",
   "version": "3.6.10-final"
  },
  "orig_nbformat": 2,
  "kernelspec": {
   "name": "python3",
   "display_name": "Python 3.6.10 64-bit ('cloud_detection': conda)",
   "metadata": {
    "interpreter": {
     "hash": "1e38dc96e14b69e70ac9c29573299c49da60d285cf24feefe29a999c69f53110"
    }
   }
  }
 },
 "nbformat": 4,
 "nbformat_minor": 2,
 "cells": [
  {
   "source": [
    "# Demo of the cloud detection using U-Net architecture\n",
    "This document presents the cloud detection on exemplary Landsat 8 multispectral images using trained U-Net model."
   ],
   "cell_type": "markdown",
   "metadata": {}
  },
  {
   "source": [
    "First, we import neccessary libraries."
   ],
   "cell_type": "markdown",
   "metadata": {}
  },
  {
   "cell_type": "code",
   "execution_count": 1,
   "metadata": {},
   "outputs": [
    {
     "output_type": "stream",
     "name": "stderr",
     "text": [
      "/home/bgrabowski/miniconda3/envs/cloud_detection/lib/python3.6/site-packages/tensorflow/python/framework/dtypes.py:523: FutureWarning: Passing (type, 1) or '1type' as a synonym of type is deprecated; in a future version of numpy, it will be understood as (type, (1,)) / '(1,)type'.\n  _np_qint8 = np.dtype([(\"qint8\", np.int8, 1)])\n/home/bgrabowski/miniconda3/envs/cloud_detection/lib/python3.6/site-packages/tensorflow/python/framework/dtypes.py:524: FutureWarning: Passing (type, 1) or '1type' as a synonym of type is deprecated; in a future version of numpy, it will be understood as (type, (1,)) / '(1,)type'.\n  _np_quint8 = np.dtype([(\"quint8\", np.uint8, 1)])\n/home/bgrabowski/miniconda3/envs/cloud_detection/lib/python3.6/site-packages/tensorflow/python/framework/dtypes.py:525: FutureWarning: Passing (type, 1) or '1type' as a synonym of type is deprecated; in a future version of numpy, it will be understood as (type, (1,)) / '(1,)type'.\n  _np_qint16 = np.dtype([(\"qint16\", np.int16, 1)])\n/home/bgrabowski/miniconda3/envs/cloud_detection/lib/python3.6/site-packages/tensorflow/python/framework/dtypes.py:526: FutureWarning: Passing (type, 1) or '1type' as a synonym of type is deprecated; in a future version of numpy, it will be understood as (type, (1,)) / '(1,)type'.\n  _np_quint16 = np.dtype([(\"quint16\", np.uint16, 1)])\n/home/bgrabowski/miniconda3/envs/cloud_detection/lib/python3.6/site-packages/tensorflow/python/framework/dtypes.py:527: FutureWarning: Passing (type, 1) or '1type' as a synonym of type is deprecated; in a future version of numpy, it will be understood as (type, (1,)) / '(1,)type'.\n  _np_qint32 = np.dtype([(\"qint32\", np.int32, 1)])\n/home/bgrabowski/miniconda3/envs/cloud_detection/lib/python3.6/site-packages/tensorflow/python/framework/dtypes.py:532: FutureWarning: Passing (type, 1) or '1type' as a synonym of type is deprecated; in a future version of numpy, it will be understood as (type, (1,)) / '(1,)type'.\n  np_resource = np.dtype([(\"resource\", np.ubyte, 1)])\n"
     ]
    }
   ],
   "source": [
    "import numpy as np\n",
    "from pathlib import Path\n",
    "from tensorflow import keras\n",
    "\n",
    "from cloud_detection.models import unet\n",
    "from cloud_detection.evaluate_L8CCA import evaluate_model\n",
    "from cloud_detection.losses import (\n",
    "    JaccardIndexLoss,\n",
    "    JaccardIndexMetric,\n",
    "    DiceCoefMetric,\n",
    "    recall,\n",
    "    precision,\n",
    "    specificity,\n",
    ")"
   ]
  },
  {
   "source": [
    "Next, we set the parameters for the experiment.\n",
    "These parameters are the following:<br>\n",
    "- dpath - path to the dataset.\n",
    "- rpath - path to directory where results should be stored.\n",
    "- mpath - path to trained model weights.\n",
    "- vids - tuple of IDs of images which should be used to create visualisations. If contains '*' visualisations will be created for all images in the datasets.\n",
    "- eval_imgs - IDs of images to evaluate.\n",
    "- batch_size - size of generated batches, only one batch is loaded to memory at a time.\n",
    "- thr - threshold for determining whether pixels contain the clouds.\n",
    "- learning_rate - learning rate for training (needed to load the trained model).\n",
    "- bn_momentum - momentum of the batch normalization layer."
   ],
   "cell_type": "markdown",
   "metadata": {}
  },
  {
   "cell_type": "code",
   "execution_count": 2,
   "metadata": {},
   "outputs": [],
   "source": [
    "dpath = Path(\"datasets/clouds/Landsat-Cloud-Cover-Assessment-Validation-Data-Partial\")\n",
    "rpath = Path(\"artifacts/cloud_detection_demo/\")\n",
    "mpath = \"examples/cloud_model_weights/best_weights\"\n",
    "vids = [\"*\"]\n",
    "eval_imgs = [\"LC81390292014135LGN00\", \"LC80460282014171LGN00\"]\n",
    "batch_size = 8\n",
    "thr = 0.5\n",
    "learning_rate = 0.01\n",
    "bn_momentum = 0.9"
   ]
  },
  {
   "source": [
    "We create the instance of the untrained U-Net model. Next, we load the trained weights into the model."
   ],
   "cell_type": "markdown",
   "metadata": {}
  },
  {
   "cell_type": "code",
   "execution_count": 3,
   "metadata": {},
   "outputs": [
    {
     "output_type": "stream",
     "name": "stderr",
     "text": [
      "/home/bgrabowski/miniconda3/envs/cloud_detection/lib/python3.6/site-packages/tensorflow/python/framework/tensor_util.py:542: DeprecationWarning:\n\nnp.asscalar(a) is deprecated since NumPy v1.16, use a.item() instead\n\n"
     ]
    },
    {
     "output_type": "execute_result",
     "data": {
      "text/plain": [
       "<tensorflow.python.training.checkpointable.util.CheckpointLoadStatus at 0x7fa37a3dc400>"
      ]
     },
     "metadata": {},
     "execution_count": 3
    }
   ],
   "source": [
    "model = unet(input_size=4, bn_momentum=bn_momentum)\n",
    "model.compile(\n",
    "    optimizer=keras.optimizers.Adam(lr=learning_rate),\n",
    "    loss=JaccardIndexLoss(),\n",
    "    metrics=[\n",
    "        keras.metrics.binary_crossentropy,\n",
    "        keras.metrics.binary_accuracy,\n",
    "        JaccardIndexLoss(),\n",
    "        JaccardIndexMetric(),\n",
    "        DiceCoefMetric(),\n",
    "        recall,\n",
    "        precision,\n",
    "        specificity,\n",
    "    ],\n",
    ")\n",
    "model.load_weights(mpath)"
   ]
  },
  {
   "source": [
    "We create the directory to store the results of the model evaluation. Next, we evaluate the model using exemplary Landsat 8 images. The following files are created for each image:<br>\n",
    "- gt.png - image of the ground-truth cloud mask.\n",
    "- pred.png - image of the model prediction.\n",
    "- masks.png - visualisation of the model prediction. Yellow color denotes True Positives, red color denotes False Positives and purple color stands for False Negatives.\n",
    "- unc.png - uncertainty map, where pixels with uncertain prediction scores are marked in yellow (Note: In the case of the tested model, in most cases almost all of the pixels' prediction scores are very low or very high, which means that the map will almost always not include any yellow pixels.).\n",
    "\n",
    "If the model's prediction Jaccard Index Metric does not exceed 0.6, the following files are also created:<br>\n",
    "- roc.html - ROC curve.\n",
    "- prec_recall.html - precision-recall curve.\n",
    "- activation_hist.html - histogram of the model's activations scores (please note the logarithmic scale)."
   ],
   "cell_type": "markdown",
   "metadata": {}
  },
  {
   "cell_type": "code",
   "execution_count": 4,
   "metadata": {},
   "outputs": [
    {
     "output_type": "stream",
     "name": "stdout",
     "text": [
      "Processing Urban-LC80460282014171LGN00\n",
      "Scene prediction took 125.74753499031067 seconds\n",
      "Average inference time: 125.74753499031067 seconds\n",
      "Creating visualisation for LC80460282014171LGN00\n",
      "/home/bgrabowski/Documents/machine-learning/cloud_detection/utils.py:190: UserWarning:\n",
      "\n",
      "artifacts/cloud_detection_demo/eval_vis/LC80460282014171LGN00/gt.png is a low contrast image\n",
      "\n",
      "Lossy conversion from int64 to uint8. Range [0, 1]. Convert image to uint8 prior to saving to suppress this warning.\n",
      "Processing Barren-LC81390292014135LGN00\n",
      "Scene prediction took 127.28587102890015 seconds\n",
      "Average inference time: 126.51670300960541 seconds\n",
      "Creating visualisation for LC81390292014135LGN00\n",
      "/home/bgrabowski/Documents/machine-learning/cloud_detection/utils.py:190: UserWarning:\n",
      "\n",
      "artifacts/cloud_detection_demo/eval_vis/LC81390292014135LGN00/gt.png is a low contrast image\n",
      "\n",
      "Lossy conversion from int64 to uint8. Range [0, 1]. Convert image to uint8 prior to saving to suppress this warning.\n",
      "Will make insights for LC81390292014135LGN00\n",
      "thr dist variance: 3.4040578907701817e-06\n",
      "thr dist mean: 0.3529804072739952\n",
      "Optimal thr: 1.0\n"
     ]
    }
   ],
   "source": [
    "rpath.mkdir(parents=True, exist_ok=True)\n",
    "metrics_L8CCA = evaluate_model(\n",
    "    model=model,\n",
    "    thr=thr,\n",
    "    dpath=dpath,\n",
    "    rpath=rpath / \"eval_vis\",\n",
    "    vids=vids,\n",
    "    batch_size=batch_size,\n",
    "    img_ids=eval_imgs\n",
    ")"
   ]
  },
  {
   "source": [
    "Finally, we process the output metrics to obtain the mean metrics for the model evaluation."
   ],
   "cell_type": "markdown",
   "metadata": {}
  },
  {
   "cell_type": "code",
   "execution_count": 5,
   "metadata": {},
   "outputs": [
    {
     "output_type": "stream",
     "name": "stdout",
     "text": [
      "{'L8CCA_binary_crossentropy': 2.5090632, 'L8CCA_binary_accuracy': 0.8431798, 'L8CCA_jaccard_index_loss': 0.29946098, 'L8CCA_jaccard_index_metric': 0.700539, 'L8CCA_dice_coeff_metric': 0.7829864, 'L8CCA_recall': 0.95701694, 'L8CCA_precision': 0.6854487, 'L8CCA_specificity': 0.8053814}\n"
     ]
    }
   ],
   "source": [
    "mean_metrics_L8CCA = {}\n",
    "for key, value in metrics_L8CCA.items():\n",
    "    mean_metrics_L8CCA[key] = np.mean(list(value.values()))\n",
    "print(mean_metrics_L8CCA)"
   ]
  }
 ]
}