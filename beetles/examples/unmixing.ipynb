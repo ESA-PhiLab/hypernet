{
 "cells": [
  {
   "cell_type": "markdown",
   "source": [
    "If you plan on using this implementation, please cite our work:\n",
    "\n",
    "@INPROCEEDINGS{Tulczyjew2021IGARSS,\n",
    "author={Tulczyjew, Lukasz and Nalepa, Jakub},\n",
    "booktitle={IGARSS 2021 - 2021 IEEE International Geoscience \n",
    "and Remote Sensing Symposium},\n",
    "title={Investigating the impact of the training set size\n",
    "on deep learning-powered hyperspectral unmixing},\n",
    "year={2021},\n",
    "note={in press}}\n",
    "\n",
    "\n",
    "# Parameters description for the unmixing experiments\n",
    "Train and evaluate the convolutional neural network (CNN)\n",
    "as well as the deep convolutional autoencoder (DCAE)\n",
    "for the unmixing problem. <br><br>\n",
    "The CNN architecture utilizes several convolutional operations,\n",
    "concluded with fully-connected layers. The first part could be\n",
    "treated as a feature extractor, whereas the final segment of\n",
    "the model, basing on the selected representation, estimates the\n",
    "abundance for each endmember in the hyperspectral image.\n",
    "The dropout technique is utilized to prevent from overfitting in\n",
    "the spectral-spatial variant. Consequently, in the pixel-based approach,\n",
    "max pooling operations are employed.<br><br>\n",
    "The DCAE architecture constitutes an autoencoder-powered approach.\n",
    "The encoding part incorporates several convolutional layers,\n",
    "whereas the decoder constitutes a single fully-connected layer.\n",
    "Furthermore, the weights of the decoder are set to the\n",
    "endmembers matrix of a particular HSI, hence\n",
    "the condensed representation in the latent space, expresses the abundance\n",
    "of a particular pixel.<br><br>\n",
    "Exemplary hyperparameters to set:<br>\n",
    "\n",
    "\n",
    "- --data-file-path - path to the hyperspectral image (HSI).\n",
    "- --ground-truth-path - path to the ground truth map containing\n",
    "the fractions of abundances for entire HSI.\n",
    "- --train-size - magnitude of the learning set that is utilized\n",
    "to fine-tune the weights of the model.\n",
    "- --sub-test-size - size of the test set to evaluate\n",
    "the generalization of the model. It is sampled from the remaining\n",
    "HSI excluding the training subset. If not specified, all non-training samples\n",
    "constitute the test set.<br>Can be employed in the case of experiments\n",
    "when changing the magnitudes of training sets while keeping the size of testing\n",
    "sets constant.\n",
    "- --val-size - fraction or size of the validation subset, it is designed to\n",
    "monitor the overfitting.\n",
    "- --channels-idx - index of the spectral dimension in input HSI.\n",
    "- batch-size - number of samples per update step in the training phase.\n",
    "- --shuffle - indicates whether to shuffle the dataset in experiment.\n",
    "- --patience - stopping condition for a specific number of epochs without\n",
    "improvement.\n",
    "- --model-name - name of the utilized model, possible values:<br>\n",
    "unmixing_pixel_based_cnn, unmixing_cube_based_cnn, unmixing_pixel_based_dcae,\n",
    "unmixing_cube_based_dcae. The *cnn* suffix specifies the CNN architecture,\n",
    "whereas the *dcae* represents the autoencoder approach. Cube-based variant\n",
    "incorporates additional features in a form of a spatial extent\n",
    "of the neighboring pixels of a particular sample, whereas the pixel-based\n",
    "approach utilizes only the spectral information of a given sample.\n",
    "- --sample-size - number of spectral bands in a given HSI.\n",
    "- --neighborhood-size - size of the spatial extent which is employed for each\n",
    "sample in the form of local neighboring pixels. Most cases allows to leverage\n",
    "the quality of the segmentation as well as the unmixing.\n",
    "- --n-classes - number of endmembers in the HSI for which the abundances\n",
    "will be estimated by the model.\n",
    "- --lr - learning rate regulates the step size during weights updates in the training phase.\n",
    "- --epochs - second stopping condition, i.e., the maximum number of epochs.\n",
    "- --verbose - verbosity mode.\n",
    "- --save-data - indicates whether to save the training and test data."
   ],
   "metadata": {
    "collapsed": false
   }
  },
  {
   "cell_type": "markdown",
   "source": [
    "# Cube-based DCAE\n",
    "We specify the necessary parameters for the experiment."
   ],
   "metadata": {
    "collapsed": false
   }
  },
  {
   "cell_type": "code",
   "execution_count": 1,
   "outputs": [],
   "source": [
    "# Execute cube-based DCAE:\n",
    "from os.path import join\n",
    "\n",
    "base_path = r'../datasets/urban'\n",
    "data_file_path = join(base_path, 'urban.npy')\n",
    "ground_truth_path = join(base_path, 'urban_gt.npy')\n",
    "endmembers_path = join(base_path, 'urban_m.npy')\n",
    "train_size = 15500\n",
    "sub_test_size = 47249\n",
    "val_size = 0.1\n",
    "channels_idx = -1\n",
    "batch_size = 256\n",
    "shuffle = True\n",
    "patience = 3\n",
    "model_name = 'unmixing_cube_based_dcae'\n",
    "sample_size = 162\n",
    "neighborhood_size = 5\n",
    "n_classes = 6\n",
    "dest_path = join('../examples', 'unmixing_results')\n",
    "lr = 0.0005\n",
    "epochs = 10\n",
    "verbose = 0\n",
    "save_data = False\n",
    "use_mlflow = False\n",
    "seed = 1"
   ],
   "metadata": {
    "collapsed": false,
    "pycharm": {
     "name": "#%%\n"
    }
   }
  },
  {
   "cell_type": "code",
   "execution_count": 2,
   "outputs": [],
   "source": [
    "import os\n",
    "import warnings\n",
    "warnings.filterwarnings('ignore')\n",
    "\n",
    "import tensorflow as tf\n",
    "\n",
    "from ml_intuition import enums\n",
    "from ml_intuition.data.utils import parse_train_size, subsample_test_set, \\\n",
    "    plot_training_curve, show_statistics\n",
    "from scripts import prepare_data\n",
    "from scripts.unmixing import train_unmixing, evaluate_unmixing\n",
    "\n",
    "os.makedirs(dest_path, exist_ok=True)\n",
    "\n",
    "dcae_dest_path = join(dest_path, 'cube-based-dcae')\n",
    "os.makedirs(dcae_dest_path, exist_ok=True)"
   ],
   "metadata": {
    "collapsed": false,
    "pycharm": {
     "name": "#%%\n"
    }
   }
  },
  {
   "cell_type": "markdown",
   "source": [
    "# Prepare data\n",
    "We prepare data for the unmixing by utilizing the *prepare_data.main* method.\n",
    "It accepts various parameters such as path to the data file or ground-truth\n",
    "for a specific HSI. Furthermore, magnitude of the learning set can be also specified.\n",
    "Moreover, the method accepts the neighborhood size parameter, which specifies the\n",
    "spatial extent of each sample. For each run in the experiment, for the\n",
    "sake of reproducibility, it is possible to set a specific seed.\n",
    "The returned object is a dictionary with three keys: *train*, *test* and *val*.\n",
    "Each of them contains an additional dictionary with *data* and *labels* keys,\n",
    "holding corresponding *numpy.ndarray* objects with the data.\n",
    "For more details about the parameters, refer to the documentation\n",
    "of *prepare_data.main* function (located in *scripts/prepare_data*)."
   ],
   "metadata": {
    "collapsed": false,
    "pycharm": {
     "name": "#%% md\n"
    }
   }
  },
  {
   "cell_type": "code",
   "execution_count": 3,
   "outputs": [],
   "source": [
    "# Prepare data for unmixing:\n",
    "data = prepare_data.main(data_file_path=data_file_path,\n",
    "                         ground_truth_path=ground_truth_path,\n",
    "                         train_size=parse_train_size(train_size),\n",
    "                         val_size=val_size,\n",
    "                         stratified=False,\n",
    "                         background_label=-1,\n",
    "                         channels_idx=channels_idx,\n",
    "                         neighborhood_size=neighborhood_size,\n",
    "                         save_data=save_data,\n",
    "                         seed=seed,\n",
    "                         use_unmixing=True)\n",
    "# Subsample the test set to constitute a constant size:\n",
    "if sub_test_size is not None:\n",
    "    subsample_test_set(data[enums.Dataset.TEST], sub_test_size)"
   ],
   "metadata": {
    "collapsed": false,
    "pycharm": {
     "name": "#%%\n"
    }
   }
  },
  {
   "cell_type": "markdown",
   "source": [
    "# Train and evaluate the model\n",
    "Few parameters previously initialized are employed in this step e.g.,\n",
    "the name of the model, size of the spectral extent,\n",
    "learning rate and batch size.\n",
    "The results including the metrics are stored in *dcae_dest_path* directory."
   ],
   "metadata": {
    "collapsed": false
   }
  },
  {
   "cell_type": "code",
   "execution_count": 4,
   "outputs": [
    {
     "name": "stderr",
     "output_type": "stream",
     "text": [
      "c:\\users\\łukasz\\desktop\\machine-learning\\venv\\lib\\site-packages\\tensorflow\\python\\framework\\tensor_util.py:125: DeprecationWarning: np.asscalar(a) is deprecated since NumPy v1.16, use a.item() instead\n",
      "  tensor_proto.float_val.extend([np.asscalar(x) for x in proto_values])\n"
     ]
    },
    {
     "name": "stdout",
     "output_type": "stream",
     "text": [
      "_________________________________________________________________\n",
      "Layer (type)                 Output Shape              Param #   \n",
      "=================================================================\n",
      "conv3d (Conv3D)              (None, 3, 3, 160, 16)     448       \n",
      "_________________________________________________________________\n",
      "conv3d_1 (Conv3D)            (None, 1, 1, 158, 32)     13856     \n",
      "_________________________________________________________________\n",
      "conv3d_2 (Conv3D)            (None, 1, 1, 156, 64)     6208      \n",
      "_________________________________________________________________\n",
      "conv3d_3 (Conv3D)            (None, 1, 1, 154, 128)    24704     \n",
      "_________________________________________________________________\n",
      "flatten (Flatten)            (None, 19712)             0         \n",
      "_________________________________________________________________\n",
      "dense (Dense)                (None, 256)               5046528   \n",
      "_________________________________________________________________\n",
      "dropout (Dropout)            (None, 256)               0         \n",
      "_________________________________________________________________\n",
      "dense_1 (Dense)              (None, 6)                 1542      \n",
      "_________________________________________________________________\n",
      "softmax (Softmax)            (None, 6)                 0         \n",
      "_________________________________________________________________\n",
      "dense_2 (Dense)              (None, 162)               1134      \n",
      "=================================================================\n",
      "Total params: 5,094,420\n",
      "Trainable params: 5,093,286\n",
      "Non-trainable params: 1,134\n",
      "_________________________________________________________________\n"
     ]
    }
   ],
   "source": [
    "# Train the model:\n",
    "train_unmixing.train(model_name=model_name,\n",
    "                     dest_path=dcae_dest_path,\n",
    "                     data=data,\n",
    "                     sample_size=sample_size,\n",
    "                     neighborhood_size=neighborhood_size,\n",
    "                     n_classes=n_classes,\n",
    "                     lr=lr,\n",
    "                     batch_size=batch_size,\n",
    "                     epochs=epochs,\n",
    "                     verbose=verbose,\n",
    "                     shuffle=shuffle,\n",
    "                     patience=patience,\n",
    "                     endmembers_path=endmembers_path,\n",
    "                     seed=seed)\n",
    "# Evaluate the model:\n",
    "evaluate_unmixing.evaluate(\n",
    "    model_path=os.path.join(dcae_dest_path, model_name),\n",
    "    data=data,\n",
    "    dest_path=dcae_dest_path,\n",
    "    neighborhood_size=neighborhood_size,\n",
    "    batch_size=batch_size,\n",
    "    endmembers_path=endmembers_path)\n",
    "tf.keras.backend.clear_session()"
   ],
   "metadata": {
    "collapsed": false,
    "pycharm": {
     "name": "#%%\n"
    }
   }
  },
  {
   "cell_type": "code",
   "execution_count": 5,
   "outputs": [
    {
     "data": {
      "text/plain": "<Figure size 432x288 with 1 Axes>",
      "image/png": "[encoded data removed]"
     },
     "metadata": {
      "needs_background": "light"
     },
     "output_type": "display_data"
    },
    {
     "data": {
      "text/plain": "      aRMSE      aSAM  overallRMSE    rmsAAD  perClassSumRMSE  class0RMSE  \\\n0  0.052665  0.167482     0.080721  0.285665         0.474069    0.085252   \n\n   class1RMSE  class2RMSE  class3RMSE  class4RMSE  class5RMSE     rRMSE  \\\n0    0.102679    0.083158    0.052504    0.087284    0.063191  0.060676   \n\n         rSID  inference_time  \n0  3085.67749       28.327313  ",
      "text/html": "<div>\n<style scoped>\n    .dataframe tbody tr th:only-of-type {\n        vertical-align: middle;\n    }\n\n    .dataframe tbody tr th {\n        vertical-align: top;\n    }\n\n    .dataframe thead th {\n        text-align: right;\n    }\n</style>\n<table border=\"1\" class=\"dataframe\">\n  <thead>\n    <tr style=\"text-align: right;\">\n      <th></th>\n      <th>aRMSE</th>\n      <th>aSAM</th>\n      <th>overallRMSE</th>\n      <th>rmsAAD</th>\n      <th>perClassSumRMSE</th>\n      <th>class0RMSE</th>\n      <th>class1RMSE</th>\n      <th>class2RMSE</th>\n      <th>class3RMSE</th>\n      <th>class4RMSE</th>\n      <th>class5RMSE</th>\n      <th>rRMSE</th>\n      <th>rSID</th>\n      <th>inference_time</th>\n    </tr>\n  </thead>\n  <tbody>\n    <tr>\n      <th>0</th>\n      <td>0.052665</td>\n      <td>0.167482</td>\n      <td>0.080721</td>\n      <td>0.285665</td>\n      <td>0.474069</td>\n      <td>0.085252</td>\n      <td>0.102679</td>\n      <td>0.083158</td>\n      <td>0.052504</td>\n      <td>0.087284</td>\n      <td>0.063191</td>\n      <td>0.060676</td>\n      <td>3085.67749</td>\n      <td>28.327313</td>\n    </tr>\n  </tbody>\n</table>\n</div>"
     },
     "execution_count": 5,
     "metadata": {},
     "output_type": "execute_result"
    }
   ],
   "source": [
    "plot_training_curve(os.path.join(dcae_dest_path, 'training_metrics.csv'),\n",
    "                    curve_names=['loss', 'val_loss'],\n",
    "                    y_limit=False)\n",
    "show_statistics(os.path.join(dcae_dest_path, 'inference_metrics.csv'))"
   ],
   "metadata": {
    "collapsed": false,
    "pycharm": {
     "name": "#%%\n"
    }
   }
  },
  {
   "cell_type": "markdown",
   "source": [
    "# Pixel-based CNN\n",
    "We perform the same steps for the pixel-based CNN model, however a few parameters\n",
    "must be altered. Since we utilize only the spectral dimension, the\n",
    "*neighborhood_size* is set to *None*, the learning rate is also adjusted.\n",
    "The *endmembers_path* is also not needed anymore, since we train the\n",
    "model on the fractions of abundances of each endmember. The pipeline looks similar\n",
    "to the DCAE model."
   ],
   "metadata": {
    "collapsed": false
   }
  },
  {
   "cell_type": "code",
   "execution_count": 6,
   "outputs": [
    {
     "name": "stderr",
     "output_type": "stream",
     "text": [
      "c:\\users\\łukasz\\desktop\\machine-learning\\venv\\lib\\site-packages\\tensorflow\\python\\framework\\tensor_util.py:125: DeprecationWarning: np.asscalar(a) is deprecated since NumPy v1.16, use a.item() instead\n",
      "  tensor_proto.float_val.extend([np.asscalar(x) for x in proto_values])\n"
     ]
    },
    {
     "name": "stdout",
     "output_type": "stream",
     "text": [
      "_________________________________________________________________\n",
      "Layer (type)                 Output Shape              Param #   \n",
      "=================================================================\n",
      "conv3d (Conv3D)              (None, 1, 1, 158, 3)      18        \n",
      "_________________________________________________________________\n",
      "max_pooling3d (MaxPooling3D) (None, 1, 1, 79, 3)       0         \n",
      "_________________________________________________________________\n",
      "conv3d_1 (Conv3D)            (None, 1, 1, 76, 6)       78        \n",
      "_________________________________________________________________\n",
      "max_pooling3d_1 (MaxPooling3 (None, 1, 1, 38, 6)       0         \n",
      "_________________________________________________________________\n",
      "conv3d_2 (Conv3D)            (None, 1, 1, 34, 12)      372       \n",
      "_________________________________________________________________\n",
      "max_pooling3d_2 (MaxPooling3 (None, 1, 1, 17, 12)      0         \n",
      "_________________________________________________________________\n",
      "conv3d_3 (Conv3D)            (None, 1, 1, 14, 24)      1176      \n",
      "_________________________________________________________________\n",
      "max_pooling3d_3 (MaxPooling3 (None, 1, 1, 7, 24)       0         \n",
      "_________________________________________________________________\n",
      "flatten (Flatten)            (None, 168)               0         \n",
      "_________________________________________________________________\n",
      "dense (Dense)                (None, 192)               32448     \n",
      "_________________________________________________________________\n",
      "dense_1 (Dense)              (None, 150)               28950     \n",
      "_________________________________________________________________\n",
      "dense_2 (Dense)              (None, 6)                 906       \n",
      "=================================================================\n",
      "Total params: 63,948\n",
      "Trainable params: 63,948\n",
      "Non-trainable params: 0\n",
      "_________________________________________________________________\n"
     ]
    }
   ],
   "source": [
    "# Execute the pixel-based CNN:\n",
    "endmembers_path = None\n",
    "model_name = 'unmixing_pixel_based_cnn'\n",
    "lr = 0.01\n",
    "neighborhood_size = None\n",
    "cnn_dest_path = join(dest_path, 'pixel-based-cnn')\n",
    "os.makedirs(cnn_dest_path, exist_ok=True)\n",
    "\n",
    "# Prepare data for unmixing:\n",
    "data = prepare_data.main(data_file_path=data_file_path,\n",
    "                         ground_truth_path=ground_truth_path,\n",
    "                         train_size=parse_train_size(train_size),\n",
    "                         val_size=val_size,\n",
    "                         stratified=False,\n",
    "                         background_label=-1,\n",
    "                         channels_idx=channels_idx,\n",
    "                         neighborhood_size=neighborhood_size,\n",
    "                         save_data=save_data,\n",
    "                         seed=seed,\n",
    "                         use_unmixing=True)\n",
    "# Subsample the test set to constitute a constant size:\n",
    "if sub_test_size is not None:\n",
    "    subsample_test_set(data[enums.Dataset.TEST], sub_test_size)\n",
    "# Train the model:\n",
    "train_unmixing.train(model_name=model_name,\n",
    "                     dest_path=cnn_dest_path,\n",
    "                     data=data,\n",
    "                     sample_size=sample_size,\n",
    "                     neighborhood_size=neighborhood_size,\n",
    "                     n_classes=n_classes,\n",
    "                     lr=lr,\n",
    "                     batch_size=batch_size,\n",
    "                     epochs=epochs,\n",
    "                     verbose=verbose,\n",
    "                     shuffle=shuffle,\n",
    "                     patience=patience,\n",
    "                     endmembers_path=endmembers_path,\n",
    "                     seed=seed)\n",
    "# Evaluate the model:\n",
    "evaluate_unmixing.evaluate(\n",
    "    model_path=os.path.join(cnn_dest_path, model_name),\n",
    "    data=data,\n",
    "    dest_path=cnn_dest_path,\n",
    "    neighborhood_size=neighborhood_size,\n",
    "    batch_size=batch_size,\n",
    "    endmembers_path=endmembers_path)\n",
    "tf.keras.backend.clear_session()"
   ],
   "metadata": {
    "collapsed": false,
    "pycharm": {
     "name": "#%%\n"
    }
   }
  },
  {
   "cell_type": "code",
   "execution_count": 7,
   "outputs": [
    {
     "data": {
      "text/plain": "<Figure size 432x288 with 1 Axes>",
      "image/png": "[encoded data removed]"
     },
     "metadata": {
      "needs_background": "light"
     },
     "output_type": "display_data"
    },
    {
     "data": {
      "text/plain": "      aRMSE      aSAM  overallRMSE    rmsAAD  perClassSumRMSE  class0RMSE  \\\n0  0.023885  0.073451     0.032043  0.109212         0.189771    0.037084   \n\n   class1RMSE  class2RMSE  class3RMSE  class4RMSE  class5RMSE  inference_time  \n0    0.036499    0.033178    0.024482    0.024789    0.033738        1.865043  ",
      "text/html": "<div>\n<style scoped>\n    .dataframe tbody tr th:only-of-type {\n        vertical-align: middle;\n    }\n\n    .dataframe tbody tr th {\n        vertical-align: top;\n    }\n\n    .dataframe thead th {\n        text-align: right;\n    }\n</style>\n<table border=\"1\" class=\"dataframe\">\n  <thead>\n    <tr style=\"text-align: right;\">\n      <th></th>\n      <th>aRMSE</th>\n      <th>aSAM</th>\n      <th>overallRMSE</th>\n      <th>rmsAAD</th>\n      <th>perClassSumRMSE</th>\n      <th>class0RMSE</th>\n      <th>class1RMSE</th>\n      <th>class2RMSE</th>\n      <th>class3RMSE</th>\n      <th>class4RMSE</th>\n      <th>class5RMSE</th>\n      <th>inference_time</th>\n    </tr>\n  </thead>\n  <tbody>\n    <tr>\n      <th>0</th>\n      <td>0.023885</td>\n      <td>0.073451</td>\n      <td>0.032043</td>\n      <td>0.109212</td>\n      <td>0.189771</td>\n      <td>0.037084</td>\n      <td>0.036499</td>\n      <td>0.033178</td>\n      <td>0.024482</td>\n      <td>0.024789</td>\n      <td>0.033738</td>\n      <td>1.865043</td>\n    </tr>\n  </tbody>\n</table>\n</div>"
     },
     "execution_count": 7,
     "metadata": {},
     "output_type": "execute_result"
    }
   ],
   "source": [
    "plot_training_curve(os.path.join(cnn_dest_path, 'training_metrics.csv'),\n",
    "                    curve_names=['loss', 'val_loss'],\n",
    "                    y_limit=False)\n",
    "show_statistics(os.path.join(cnn_dest_path, 'inference_metrics.csv'))\n"
   ],
   "metadata": {
    "collapsed": false,
    "pycharm": {
     "name": "#%%\n"
    }
   }
  }
 ],
 "metadata": {
  "kernelspec": {
   "name": "python3",
   "language": "python",
   "display_name": "Python 3"
  },
  "language_info": {
   "codemirror_mode": {
    "name": "ipython",
    "version": 2
   },
   "file_extension": ".py",
   "mimetype": "text/x-python",
   "name": "python",
   "nbconvert_exporter": "python",
   "pygments_lexer": "ipython2",
   "version": "2.7.6"
  }
 },
 "nbformat": 4,
 "nbformat_minor": 0
}