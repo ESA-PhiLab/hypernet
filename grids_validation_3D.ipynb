{
 "cells": [
  {
   "cell_type": "code",
   "execution_count": null,
   "metadata": {},
   "outputs": [],
   "source": [
    "import os\n",
    "from random import randint\n",
    "from matplotlib import pyplot as plt\n",
    "from keras.models import load_model\n",
    "from keras.callbacks import ModelCheckpoint, EarlyStopping\n",
    "from python_research.experiments.multiple_feature_learning.utils.utils import load_patches, combine_patches\n",
    "from python_research.experiments.multiple_feature_learning.utils.dataset import Dataset\n",
    "from python_research.experiments.multiple_feature_learning.builders.keras_builders import build_model, build_settings_for_dataset\n",
    "from python_research.preprocessing.grids.grid_extraction import extract_grids\n",
    "%matplotlib inline\n",
    "\n",
    "PATCHES_DIRECTORY = \"\"\n",
    "DATASET_PATH = \"C:\\\\Users\\mmyller.KPLABS\\Documents\\datasets\\pavia\\PaviaU_corrected.npy\"\n",
    "DATASET_GT_PATH = \"C:\\\\Users\\mmyller.KPLABS\\Documents\\datasets\\pavia\\PaviaU_gt.npy\"\n",
    "OUTPUT_PATH = \"grids_validation_3D\\\\artifact\"\n",
    "PATCH_SIZE = (17, 30)\n",
    "PIXEL_NEIGHBOURHOOD = (7, 7)\n",
    "TOTAL_NUMBER_OF_TRAIN_SAMPLES = 2700\n",
    "CLASSES_COUNT = 9\n",
    "PATIENCE = 15\n",
    "EPOCHS = 200\n",
    "BATCH_SIZE = 64\n",
    "os.makedirs(\"grids_validation_3D\", exist_ok=True)\n",
    "\n",
    "\n",
    "# Load data if path to the folder with patches is specified\n",
    "if PATCHES_DIRECTORY != \"\":\n",
    "    train_val_data, test_data = load_patches(PATCHES_DIRECTORY, PIXEL_NEIGHBOURHOOD, CLASSES_COUNT)\n",
    "    dataset_image = test_data.x[:, :, randint(0, test_data.x.shape[-1])]\n",
    "# Extract grids from provided dataset\n",
    "else:\n",
    "    patches, test_set, dataset_image = extract_grids(DATASET_PATH, DATASET_GT_PATH, PATCH_SIZE, \n",
    "                                                     TOTAL_NUMBER_OF_TRAIN_SAMPLES)\n",
    "    train_val_data, test_data = combine_patches(patches[0], patches[1], test_set[0], test_set[1], \n",
    "                                                PIXEL_NEIGHBOURHOOD, CLASSES_COUNT)    \n",
    "# Show location of extracted grids\n",
    "plt.imshow(dataset_image)\n",
    "plt.show()\n"
   ]
  },
  {
   "cell_type": "code",
   "execution_count": null,
   "metadata": {},
   "outputs": [],
   "source": [
    "\n",
    "# Normalize data\n",
    "train_val_data.normalize_data(CLASSES_COUNT)\n",
    "# Normalize test data using min and max from train data\n",
    "test_data.x_test = (test_data.x_test - train_val_data.min) / (train_val_data.max - train_val_data.min)\n",
    "\n",
    "bands_count = test_data.x.shape[-1]\n",
    "# Build model\n",
    "settings = build_settings_for_dataset(PIXEL_NEIGHBOURHOOD)\n",
    "model = build_model(settings, CLASSES_COUNT, bands_count)\n",
    "print(model.summary())\n"
   ]
  },
  {
   "cell_type": "code",
   "execution_count": null,
   "metadata": {},
   "outputs": [],
   "source": [
    "# Callbacks\n",
    "early = EarlyStopping(patience=PATIENCE)\n",
    "checkpoint = ModelCheckpoint(OUTPUT_PATH + \"_model\", save_best_only=True)\n",
    "\n",
    "model.fit(x=train_val_data.x_train, y=train_val_data.y_train, batch_size=BATCH_SIZE, epochs=EPOCHS, verbose=False,\n",
    "          callbacks=[early, checkpoint], validation_data=[train_val_data.x_val, train_val_data.y_val])\n",
    "\n",
    "best_model = load_model(OUTPUT_PATH + \"_model\")\n",
    "\n",
    "# Evaluate test set score\n",
    "accuracy = best_model.evaluate(x=test_data.x_test, y=test_data.y_test)[1]\n",
    "print(\"Test set accuracy: {}\".format(accuracy))\n"
   ]
  },
  {
   "cell_type": "code",
   "execution_count": null,
   "metadata": {},
   "outputs": [],
   "source": []
  }
 ],
 "metadata": {
  "kernelspec": {
   "display_name": "Python 2",
   "language": "python",
   "name": "python2"
  },
  "language_info": {
   "codemirror_mode": {
    "name": "ipython",
    "version": 2
   },
   "file_extension": ".py",
   "mimetype": "text/x-python",
   "name": "python",
   "nbconvert_exporter": "python",
   "pygments_lexer": "ipython2",
   "version": "2.7.6"
  }
 },
 "nbformat": 4,
 "nbformat_minor": 0
}
