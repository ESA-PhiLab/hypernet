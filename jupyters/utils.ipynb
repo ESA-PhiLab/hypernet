{
 "cells": [
  {
   "cell_type": "code",
   "execution_count": null,
   "metadata": {},
   "outputs": [],
   "source": [
    "import os\n",
    "\n",
    "DATA_DIR = os.path.join('..', '..', 'hypernet-data')"
   ]
  },
  {
   "cell_type": "code",
   "execution_count": null,
   "metadata": {},
   "outputs": [],
   "source": [
    "import utils\n",
    "import numpy as np\n",
    "import spectral.io.envi as envi\n",
    "from gui.mappers import ByteColorMap, BandMapper\n",
    "\n",
    "input_file = envi.open(os.path.join(DATA_DIR, 'f080611t01p00r07rdn_c', 'f080611t01p00r07rdn_c_sc01_ort_img.hdr')\n",
    "input_data = input_file[:,:,:]\n",
    "\n",
    "byte_color_map = ByteColorMap()\n",
    "byte_color_map.add_point(0, [0, 0, 0])\n",
    "byte_color_map.add_point(32, [255, 0, 0])\n",
    "byte_color_map.add_point(128, [0, 255, 0])\n",
    "byte_color_map.add_point(192, [128, 0, 128])\n",
    "byte_color_map.add_point(255, [0, 0, 255])\n",
    "\n",
    "band_mapper = BandMapper(input_data)\n",
    "output_data = band_mapper.map_colors(byte_color_map, 30)\n",
    "\n",
    "utils.create_image(output_data)\n"
   ]
  },
  {
   "cell_type": "code",
   "execution_count": null,
   "metadata": {},
   "outputs": [],
   "source": [
    "import utils\n",
    "import spectral.io.envi as envi\n",
    "from gui.mappers import BandMapper\n",
    "\n",
    "input_file = envi.open(os.path.join(DATA_DIR, 'f080611t01p00r07rdn_c', 'f080611t01p00r07rdn_c_sc01_ort_img.hdr')\n",
    "input_data = input_file[:,:,:]\n",
    "\n",
    "band_mapper = BandMapper(input_data)\n",
    "image_data = band_mapper.map_visible(input_file.bands.centers)\n",
    "\n",
    "normalized_image = utils.normalize_to_byte(image_data)\n",
    "utils.create_image(normalized_image)\n"
   ]
  },
  {
   "cell_type": "code",
   "execution_count": null,
   "metadata": {},
   "outputs": [],
   "source": [
    "import utils\n",
    "import spectral.io.envi as envi\n",
    "from gui.mappers import BandMapper\n",
    "\n",
    "input_data = envi.open(os.path.join(DATA_DIR, 'samson_1.img.hdr')\n",
    "\n",
    "band_mapper = BandMapper(input_data)\n",
    "image_data = band_mapper.map_mixed(10, 40, 30)\n",
    "\n",
    "normalized_image = utils.normalize_to_byte(image_data)\n",
    "utils.create_image(normalized_image)\n"
   ]
  },
  {
   "cell_type": "code",
   "execution_count": null,
   "metadata": {},
   "outputs": [],
   "source": [
    "import utils\n",
    "import spectral.io.envi as envi\n",
    "import scipy.io\n",
    "from gui.mappers import BandMapper\n",
    "\n",
    "mat_file = scipy.io.loadmat(os.path.join(DATA_DIR, 'PaviaU.mat'))\n",
    "input_data = mat_file['paviaU']\n",
    "\n",
    "band_mapper = BandMapper(input_data)\n",
    "image_data = band_mapper.map_single(55)\n",
    "\n",
    "normalized_image = utils.normalize_to_byte(image_data)\n",
    "utils.create_image(normalized_image)\n"
   ]
  },
  {
   "cell_type": "code",
   "execution_count": null,
   "metadata": {},
   "outputs": [],
   "source": [
    "import utils\n",
    "import scipy.io\n",
    "from gui.mappers import GroundTruthMapper\n",
    "\n",
    "mat_file = scipy.io.loadmat(os.path.join(DATA_DIR, 'PaviaU_gt.mat'))\n",
    "ground_truth_data = mat_file['paviaU_gt']\n",
    "\n",
    "ground_truth_mapper = GroundTruthMapper(ground_truth_data)\n",
    "image_data = ground_truth_mapper.map_image()\n",
    "\n",
    "utils.create_image(image_data)\n"
   ]
  },
  {
   "cell_type": "code",
   "execution_count": null,
   "metadata": {},
   "outputs": [],
   "source": [
    "import utils\n",
    "import scipy.io\n",
    "from gui.mappers import BandMapper\n",
    "\n",
    "input_mat_file = scipy.io.loadmat(os.path.join(DATA_DIR, 'PaviaU.mat'))\n",
    "ground_truth_mat_file = scipy.io.loadmat(os.path.join(DATA_DIR, 'PaviaU_gt.mat'))\n",
    "input_data = input_mat_file['paviaU']\n",
    "ground_truth_data = ground_truth_mat_file['paviaU_gt']\n",
    "\n",
    "band_mapper = BandMapper(input_data)\n",
    "single_input_data = band_mapper.map_single(55)\n",
    "normalized_input_data = utils.normalize_to_zero_one(single_input_data)\n",
    "ground_truth_mapper = GroundTruthMapper(ground_truth_data)\n",
    "mapped_image = ground_truth_mapper.map_image()\n",
    "image_data = (mapped_image * normalized_input_data).astype(np.uint8)\n",
    "\n",
    "utils.create_image(image_data)\n"
   ]
  },
  {
   "cell_type": "code",
   "execution_count": null,
   "metadata": {},
   "outputs": [],
   "source": [
    "import utils\n",
    "import numpy as np\n",
    "from gui.mappers import BandMapper\n",
    "\n",
    "input_data = np.load(os.path.join(DATA_DIR, 'PaviaU_corrected.npy'))\n",
    "ground_truth = np.load(os.path.join(DATA_DIR, 'PaviaU_gt.npy'))\n",
    "\n",
    "band_mapper = BandMapper(input_data)\n",
    "image_data = band_mapper.map_single(55)\n",
    "\n",
    "normalized_image = utils.normalize_to_byte(image_data)\n",
    "\n",
    "utils.create_image(normalized_image)\n"
   ]
  },
  {
   "cell_type": "code",
   "execution_count": null,
   "metadata": {},
   "outputs": [],
   "source": [
    "import utils\n",
    "import numpy as np\n",
    "from gui.mappers import BandMapper\n",
    "from python_research.segmentation import Rect, randomize_positions, extract_rect\n",
    "\n",
    "input_data = np.load(os.path.join(DATA_DIR, 'PaviaU_corrected.npy'))\n",
    "\n",
    "bounds = Rect(0, 0, input_data.shape[0], input_data.shape[1])\n",
    "rects = [\n",
    "    Rect(0, 0, 100, 100),\n",
    "    Rect(0, 0, 120, 100),\n",
    "    Rect(0, 0, 100, 100)\n",
    "]\n",
    "rects = list(randomize_positions(rects, bounds))\n",
    "\n",
    "for rect in rects:\n",
    "    rect_data = extract_rect(input_data, rect)\n",
    "\n",
    "    band_mapper = BandMapper(rect_data)\n",
    "    image_data = band_mapper.map_single(10)\n",
    "\n",
    "    normalized_image = utils.normalize_to_byte(image_data)\n",
    "    utils.create_image(normalized_image)\n",
    "\n",
    "band_mapper = BandMapper(input_data)\n",
    "image_data = band_mapper.map_single(0)\n",
    "normalized_image = utils.normalize_to_byte(image_data)\n",
    "utils.create_image(normalized_image)\n"
   ]
  },
  {
   "cell_type": "code",
   "execution_count": null,
   "metadata": {},
   "outputs": [],
   "source": []
  }
 ],
 "metadata": {
  "git": {
   "suppress_outputs": true
  },
  "kernelspec": {
   "display_name": "Python 3",
   "language": "python",
   "name": "python3"
  },
  "language_info": {
   "codemirror_mode": {
    "name": "ipython",
    "version": 3
   },
   "file_extension": ".py",
   "mimetype": "text/x-python",
   "name": "python",
   "nbconvert_exporter": "python",
   "pygments_lexer": "ipython3",
   "version": "3.6.6"
  }
 },
 "nbformat": 4,
 "nbformat_minor": 2
}
