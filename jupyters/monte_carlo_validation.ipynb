{
 "cells": [
  {
   "cell_type": "code",
   "execution_count": null,
   "metadata": {},
   "outputs": [],
   "source": [
    "import os\n",
    "\n",
    "DATA_DIR = os.path.join('..', '..', 'hypernet-data')\n",
    "RESULTS_DIR = os.path.join('..', '..', 'hypernet-data', 'results', 'monte_carlo_validation')"
   ]
  },
  {
   "cell_type": "code",
   "execution_count": null,
   "metadata": {},
   "outputs": [],
   "source": [
    "from keras.models import load_model\n",
    "from keras.callbacks import ModelCheckpoint, EarlyStopping\n",
    "from python_research.experiments.multiple_feature_learning.builders.keras_builders import build_1d_model, build_3d_model, build_settings_for_dataset\n",
    "from python_research.experiments.utils.datasets.hyperspectral_dataset import HyperspectralDataset\n",
    "from python_research.experiments.utils.datasets.subset import BalancedSubset, UnbalancedSubset\n",
    "\n",
    "DATASET_PATH = os.path.join(DATA_DIR, 'PaviaU_corrected.npy')\n",
    "DATASET_GT_PATH = os.path.join(DATA_DIR, 'PaviaU_gt.npy')\n",
    "OUTPUT_PATH = RESULTS_DIR\n",
    "BALANCED = True\n",
    "TRAIN_SAMPLES_PER_CLASS_COUNT = 250\n",
    "TOTAL_NUMBER_OF_SAMPLES = 2700\n",
    "PIXEL_NEIGHBOURHOOD = 7\n",
    "CLASSES_COUNT = 9\n",
    "PATIENCE = 15\n",
    "EPOCHS = 200\n",
    "BATCH_SIZE = 64\n",
    "os.makedirs(\"monte_carlo_3D\", exist_ok=True)\n",
    "\n",
    "# Load data and split into train, val and test sets\n",
    "test_data = HyperspectralDataset(DATASET_PATH, DATASET_GT_PATH,\n",
    "                                 neighbourhood_size=PIXEL_NEIGHBOURHOOD)\n",
    "test_data.normalize_labels()\n",
    "bands_count = test_data.shape[-1]\n",
    "if PIXEL_NEIGHBOURHOOD == 1:\n",
    "    test_data.expand_dims(axis=-1)\n",
    "if BALANCED:\n",
    "    train_data = BalancedSubset(test_data, TRAIN_SAMPLES_PER_CLASS_COUNT)\n",
    "    val_data = BalancedSubset(train_data, 0.1)\n",
    "else:\n",
    "    train_data = UnbalancedSubset(test_data, TOTAL_NUMBER_OF_SAMPLES)\n",
    "    val_data = UnbalancedSubset(train_data, 0.1) \n",
    "\n",
    "# Build model, 1D or 3D\n",
    "if PIXEL_NEIGHBOURHOOD == 1:\n",
    "    model = build_1d_model((test_data.shape[1:]), 200, 5, CLASSES_COUNT)\n",
    "else:\n",
    "    settings = build_settings_for_dataset((PIXEL_NEIGHBOURHOOD,\n",
    "                                           PIXEL_NEIGHBOURHOOD))\n",
    "    model = build_3d_model(settings, CLASSES_COUNT, bands_count)\n",
    "\n",
    "print(model.summary())\n",
    "print(\"Training samples: {}\".format(train_data.shape))\n",
    "print(\"Validation samples: {}\".format(val_data.shape))\n",
    "print(\"Test samples: {}\".format(test_data.shape))"
   ]
  },
  {
   "cell_type": "code",
   "execution_count": null,
   "metadata": {},
   "outputs": [],
   "source": [
    "# Normalize data\n",
    "max_ = train_data.max if train_data.max > val_data.max else val_data.max\n",
    "min_ = train_data.min if train_data.min < val_data.min else val_data.min\n",
    "train_data.normalize_min_max(min_=min_, max_=max_)\n",
    "val_data.normalize_min_max(min_=min_, max_=max_)\n",
    "test_data.normalize_min_max(min_=min_, max_=max_)\n",
    "\n",
    "# Callbacks\n",
    "early = EarlyStopping(patience=PATIENCE)\n",
    "checkpoint = ModelCheckpoint(OUTPUT_PATH + \"_model\", save_best_only=True)\n",
    "\n",
    "# Model training\n",
    "model.fit(x=train_data.get_data(), y=train_data.get_one_hot_labels(CLASSES_COUNT), batch_size=BATCH_SIZE, epochs=EPOCHS, verbose=False, \n",
    "          callbacks=[early, checkpoint], validation_data=[val_data.get_data(), val_data.get_one_hot_labels(CLASSES_COUNT)])\n",
    "\n",
    "# Load best model\n",
    "best_model = load_model(OUTPUT_PATH + \"_model\")\n",
    "\n",
    "# Evaluate test set score\n",
    "accuracy = best_model.evaluate(x=test_data.get_data(), y=test_data.get_one_hot_labels(CLASSES_COUNT))[1]\n",
    "print(\"Test set accuracy: {}\".format(accuracy))"
   ]
  },
  {
   "cell_type": "code",
   "execution_count": null,
   "metadata": {},
   "outputs": [],
   "source": []
  },
  {
   "cell_type": "code",
   "execution_count": null,
   "metadata": {},
   "outputs": [],
   "source": []
  }
 ],
 "metadata": {
  "kernelspec": {
   "display_name": "Python 3",
   "language": "python",
   "name": "python3"
  },
  "language_info": {
   "codemirror_mode": {
    "name": "ipython",
    "version": 3
   },
   "file_extension": ".py",
   "mimetype": "text/x-python",
   "name": "python",
   "nbconvert_exporter": "python",
   "pygments_lexer": "ipython3",
   "version": "3.6.6"
  }
 },
 "nbformat": 4,
 "nbformat_minor": 1
}
