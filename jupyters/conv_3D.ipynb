{
 "cells": [
  {
   "cell_type": "code",
   "execution_count": 3,
   "metadata": {},
   "outputs": [],
   "source": [
    "from python_research.experiments.sota_models.bass.train_bass import main\n",
    "from python_research.experiments.sota_models.conv_3D.train_conv3D import main\n",
    "\n",
    "\n",
    "class Args(object):\n",
    "    \"\"\"\n",
    "    Arguments for BASS model - (Configuration 4).\n",
    "    \"\"\"\n",
    "    def __init__(self):\n",
    "        # Index of run. (Used for running batch scripts.):\n",
    "        self.run_idx = None\n",
    "        # Data type used by the model:\n",
    "        # (If training on GPU and CUDA is available could be: 'torch.cuda.FloatTensor' or else.)\n",
    "        self.dtype = 'torch.FloatTensor'\n",
    "        # If training on all bands: self.cont = None\n",
    "        # If training on selected bands: self.cont is the path to file containing indexes of bands.\n",
    "        self.cont = None\n",
    "        self.epochs = 999\n",
    "        # Paths to data, labels, destination directory and data set name:\n",
    "        self.data_path = None\n",
    "        self.labels_path = None\n",
    "        self.dest_path = None\n",
    "        self.data_name = None\n",
    "        # Size of the sliding window used to create samples:\n",
    "        self.neighbourhood_size = 7\n",
    "        # Size of the batch:\n",
    "        self.batch = 8\n",
    "        # Stopping condition - number of epochs without improvement:\n",
    "        self.patience = 7\n",
    "        # Number of classes:\n",
    "        self.classes = None\n",
    "        # Sizes of training and validation patches: (Per class.)\n",
    "        self.test_size = 0.1\n",
    "        self.val_size = 0.1\n",
    "        # Channels sizes in convolutional layers:\n",
    "        self.channels = [8, 8, 8]\n",
    "        # Input sample dimensionality:\n",
    "        self.input_dim = None\n"
   ]
  },
  {
   "cell_type": "code",
   "execution_count": 3,
   "metadata": {},
   "outputs": [
    {
     "name": "stdout",
     "output_type": "stream",
     "text": [
      "Salinas 30 bands:\nMonte Carlo data prep:\n"
     ]
    },
    {
     "name": "stdout",
     "output_type": "stream",
     "text": [
      "Reducing bands from: C:\\Users\\ltulczyjew\\Desktop\\software\\python_research\\experiments\\attention_based_selected_bands\\salinas\\0.035.txt\n"
     ]
    },
    {
     "name": "stdout",
     "output_type": "stream",
     "text": [
      "[ 32  33  34  35  36  37  38  39  40  41  42  43  44  45  46  47  48  49\n  50  51  52  53  54 105 106 107 108 169 170 171]\n"
     ]
    },
    {
     "name": "stdout",
     "output_type": "stream",
     "text": [
      "Training -> Epoch: 0 Accuracy: 0.5601092896174863 Loss: 1.13571035861969\n"
     ]
    },
    {
     "name": "stdout",
     "output_type": "stream",
     "text": [
      "Validation -> Epoch: 0 Accuracy: 0.6222527472527473 Loss: 0.9020578861236572\nSaving improvement...\n"
     ]
    },
    {
     "name": "stdout",
     "output_type": "stream",
     "text": [
      "Training -> Epoch: 1 Accuracy: 0.7106622114216282 Loss: 0.7411036491394043\n"
     ]
    },
    {
     "name": "stdout",
     "output_type": "stream",
     "text": [
      "Validation -> Epoch: 1 Accuracy: 0.7396978021978022 Loss: 0.693327784538269\nSaving improvement...\n"
     ]
    },
    {
     "name": "stdout",
     "output_type": "stream",
     "text": [
      "Training -> Epoch: 2 Accuracy: 0.7676184690157959 Loss: 0.6166563034057617\n"
     ]
    },
    {
     "name": "stdout",
     "output_type": "stream",
     "text": [
      "Validation -> Epoch: 2 Accuracy: 0.8406593406593407 Loss: 0.4556959271430969\nSaving improvement...\n"
     ]
    },
    {
     "name": "stdout",
     "output_type": "stream",
     "text": [
      "Training -> Epoch: 3 Accuracy: 0.7997417982989065 Loss: 0.5353484153747559\n"
     ]
    },
    {
     "name": "stdout",
     "output_type": "stream",
     "text": [
      "Validation -> Epoch: 3 Accuracy: 0.8255494505494505 Loss: 0.40603047609329224\n"
     ]
    },
    {
     "name": "stdout",
     "output_type": "stream",
     "text": [
      "Training -> Epoch: 4 Accuracy: 0.8140947752126367 Loss: 0.4850974977016449\n"
     ]
    },
    {
     "name": "stdout",
     "output_type": "stream",
     "text": [
      "Validation -> Epoch: 4 Accuracy: 0.8894230769230769 Loss: 0.30019667744636536\nSaving improvement...\n"
     ]
    },
    {
     "name": "stdout",
     "output_type": "stream",
     "text": [
      "Training -> Epoch: 5 Accuracy: 0.825410085054678 Loss: 0.45744380354881287\n"
     ]
    },
    {
     "name": "stdout",
     "output_type": "stream",
     "text": [
      "Validation -> Epoch: 5 Accuracy: 0.853021978021978 Loss: 0.3249354064464569\n"
     ]
    },
    {
     "name": "stdout",
     "output_type": "stream",
     "text": [
      "Training -> Epoch: 6 Accuracy: 0.8345990279465371 Loss: 0.42085394263267517\n"
     ]
    },
    {
     "name": "stdout",
     "output_type": "stream",
     "text": [
      "Validation -> Epoch: 6 Accuracy: 0.9093406593406593 Loss: 0.23728841543197632\nSaving improvement...\n"
     ]
    },
    {
     "name": "stdout",
     "output_type": "stream",
     "text": [
      "Training -> Epoch: 7 Accuracy: 0.844775212636695 Loss: 0.40618807077407837\n"
     ]
    },
    {
     "name": "stdout",
     "output_type": "stream",
     "text": [
      "Validation -> Epoch: 7 Accuracy: 0.8818681318681318 Loss: 0.28927141427993774\n"
     ]
    },
    {
     "name": "stdout",
     "output_type": "stream",
     "text": [
      "Training -> Epoch: 8 Accuracy: 0.8559386391251519 Loss: 0.37708282470703125\n"
     ]
    },
    {
     "name": "stdout",
     "output_type": "stream",
     "text": [
      "Validation -> Epoch: 8 Accuracy: 0.9114010989010989 Loss: 0.23404455184936523\nSaving improvement...\n"
     ]
    },
    {
     "name": "stdout",
     "output_type": "stream",
     "text": [
      "Training -> Epoch: 9 Accuracy: 0.8554829890643986 Loss: 0.3772399425506592\n"
     ]
    },
    {
     "name": "stdout",
     "output_type": "stream",
     "text": [
      "Validation -> Epoch: 9 Accuracy: 0.9072802197802198 Loss: 0.23028266429901123\n"
     ]
    },
    {
     "name": "stdout",
     "output_type": "stream",
     "text": [
      "Training -> Epoch: 10 Accuracy: 0.8696840826245443 Loss: 0.34084352850914\n"
     ]
    },
    {
     "name": "stdout",
     "output_type": "stream",
     "text": [
      "Validation -> Epoch: 10 Accuracy: 0.8853021978021978 Loss: 0.2798330783843994\n"
     ]
    },
    {
     "name": "stdout",
     "output_type": "stream",
     "text": [
      "Training -> Epoch: 11 Accuracy: 0.8655832320777643 Loss: 0.34068718552589417\n"
     ]
    },
    {
     "name": "stdout",
     "output_type": "stream",
     "text": [
      "Validation -> Epoch: 11 Accuracy: 0.9203296703296703 Loss: 0.1976771503686905\nSaving improvement...\n"
     ]
    },
    {
     "name": "stdout",
     "output_type": "stream",
     "text": [
      "Training -> Epoch: 12 Accuracy: 0.8735571081409478 Loss: 0.32881036400794983\n"
     ]
    },
    {
     "name": "stdout",
     "output_type": "stream",
     "text": [
      "Validation -> Epoch: 12 Accuracy: 0.9223901098901099 Loss: 0.2203560322523117\nSaving improvement...\n"
     ]
    },
    {
     "name": "stdout",
     "output_type": "stream",
     "text": [
      "Training -> Epoch: 13 Accuracy: 0.8740127582017011 Loss: 0.3266232907772064\n"
     ]
    },
    {
     "name": "stdout",
     "output_type": "stream",
     "text": [
      "Validation -> Epoch: 13 Accuracy: 0.8949175824175825 Loss: 0.26944082975387573\n"
     ]
    },
    {
     "name": "stdout",
     "output_type": "stream",
     "text": [
      "Training -> Epoch: 14 Accuracy: 0.87568347509113 Loss: 0.322348952293396\n"
     ]
    },
    {
     "name": "stdout",
     "output_type": "stream",
     "text": [
      "Validation -> Epoch: 14 Accuracy: 0.8887362637362637 Loss: 0.22638820111751556\n"
     ]
    },
    {
     "name": "stdout",
     "output_type": "stream",
     "text": [
      "Training -> Epoch: 15 Accuracy: 0.8797843256379101 Loss: 0.30587294697761536\n"
     ]
    },
    {
     "name": "stdout",
     "output_type": "stream",
     "text": [
      "Validation -> Epoch: 15 Accuracy: 0.9120879120879121 Loss: 0.2353544533252716\n"
     ]
    },
    {
     "name": "stdout",
     "output_type": "stream",
     "text": [
      "Training -> Epoch: 16 Accuracy: 0.88115127582017 Loss: 0.30988094210624695\n"
     ]
    },
    {
     "name": "stdout",
     "output_type": "stream",
     "text": [
      "Validation -> Epoch: 16 Accuracy: 0.9168956043956044 Loss: 0.20026753842830658\n"
     ]
    },
    {
     "name": "stdout",
     "output_type": "stream",
     "text": [
      "Training -> Epoch: 17 Accuracy: 0.8843408262454435 Loss: 0.2894563674926758\n"
     ]
    },
    {
     "name": "stdout",
     "output_type": "stream",
     "text": [
      "Validation -> Epoch: 17 Accuracy: 0.9340659340659341 Loss: 0.1660776436328888\nSaving improvement...\n"
     ]
    },
    {
     "name": "stdout",
     "output_type": "stream",
     "text": [
      "Training -> Epoch: 18 Accuracy: 0.8926944106925881 Loss: 0.2743079364299774\n"
     ]
    },
    {
     "name": "stdout",
     "output_type": "stream",
     "text": [
      "Validation -> Epoch: 18 Accuracy: 0.9162087912087912 Loss: 0.19168099761009216\n"
     ]
    },
    {
     "name": "stdout",
     "output_type": "stream",
     "text": [
      "Training -> Epoch: 19 Accuracy: 0.8882897934386391 Loss: 0.28231173753738403\n"
     ]
    },
    {
     "name": "stdout",
     "output_type": "stream",
     "text": [
      "Validation -> Epoch: 19 Accuracy: 0.9210164835164835 Loss: 0.1930498331785202\n"
     ]
    },
    {
     "name": "stdout",
     "output_type": "stream",
     "text": [
      "Training -> Epoch: 20 Accuracy: 0.892010935601458 Loss: 0.28133392333984375\n"
     ]
    },
    {
     "name": "stdout",
     "output_type": "stream",
     "text": [
      "Validation -> Epoch: 20 Accuracy: 0.8846153846153846 Loss: 0.27332770824432373\n"
     ]
    },
    {
     "name": "stdout",
     "output_type": "stream",
     "text": [
      "Training -> Epoch: 21 Accuracy: 0.8888213851761847 Loss: 0.28171226382255554\n"
     ]
    },
    {
     "name": "stdout",
     "output_type": "stream",
     "text": [
      "Validation -> Epoch: 21 Accuracy: 0.8935439560439561 Loss: 0.271650493144989\n"
     ]
    },
    {
     "name": "stdout",
     "output_type": "stream",
     "text": [
      "Training -> Epoch: 22 Accuracy: 0.8907199270959902 Loss: 0.2837485373020172\n"
     ]
    },
    {
     "name": "stdout",
     "output_type": "stream",
     "text": [
      "Validation -> Epoch: 22 Accuracy: 0.915521978021978 Loss: 0.1714109629392624\n"
     ]
    },
    {
     "name": "stdout",
     "output_type": "stream",
     "text": [
      "Testing -> Accuracy: 0.9271978021978022 Loss: 0.20421847701072693\nSaving test results...\n"
     ]
    }
   ],
   "source": [
    "print('Salinas 30 bands:')\n",
    "args = Args()\n",
    "args.data_path = r'C:\\Users\\ltulczyjew\\Desktop\\data\\Salinas.mat'\n",
    "args.labels_path = r'C:\\Users\\ltulczyjew\\Desktop\\data\\Salinas_gt.mat'\n",
    "args.dest_path = r'C:\\Users\\ltulczyjew\\Desktop\\results'\n",
    "args.classes = 16\n",
    "args.cont =\\\n",
    "    r'C:\\Users\\ltulczyjew\\Desktop\\software\\python_research\\experiments\\attention_based_selected_bands\\salinas\\0.035.txt'\n",
    "args.input_dim = [30, 7, 7]\n",
    "args.data_name = 'Salinas'\n",
    "args.run_idx = 1\n",
    "main(args=args)\n"
   ]
  },
  {
   "cell_type": "code",
   "execution_count": 6,
   "metadata": {},
   "outputs": [
    {
     "name": "stdout",
     "output_type": "stream",
     "text": [
      "PaviaU 8 bands:\nMonte Carlo data prep:\n"
     ]
    },
    {
     "name": "stdout",
     "output_type": "stream",
     "text": [
      "Reducing bands from: C:\\Users\\ltulczyjew\\Desktop\\software\\python_research\\experiments\\attention_based_selected_bands\\pavia\\0.005.txt\n"
     ]
    },
    {
     "name": "stdout",
     "output_type": "stream",
     "text": [
      "[  0   1   2   3   4   5 101 102]\n"
     ]
    },
    {
     "name": "stdout",
     "output_type": "stream",
     "text": [
      "Training -> Epoch: 0 Accuracy: 0.5254112808460635 Loss: 1.0725624561309814\nValidation -> Epoch: 0 Accuracy: 0.6738095238095239 Loss: 0.7079566121101379\nSaving improvement...\n"
     ]
    },
    {
     "name": "stdout",
     "output_type": "stream",
     "text": [
      "Training -> Epoch: 1 Accuracy: 0.6686715481171548 Loss: 0.7006419897079468\nValidation -> Epoch: 1 Accuracy: 0.694047619047619 Loss: 0.6848962903022766\nSaving improvement...\n"
     ]
    },
    {
     "name": "stdout",
     "output_type": "stream",
     "text": [
      "Training -> Epoch: 2 Accuracy: 0.6912918410041841 Loss: 0.6513957977294922\nValidation -> Epoch: 2 Accuracy: 0.7345238095238096 Loss: 0.5866521000862122\nSaving improvement...\n"
     ]
    },
    {
     "name": "stdout",
     "output_type": "stream",
     "text": [
      "Training -> Epoch: 3 Accuracy: 0.7084205020920502 Loss: 0.6163724660873413\nValidation -> Epoch: 3 Accuracy: 0.7547619047619047 Loss: 0.5601885914802551\nSaving improvement...\n"
     ]
    },
    {
     "name": "stdout",
     "output_type": "stream",
     "text": [
      "Training -> Epoch: 4 Accuracy: 0.7207112970711297 Loss: 0.5901978015899658\nValidation -> Epoch: 4 Accuracy: 0.7714285714285715 Loss: 0.5669974684715271\nSaving improvement...\n"
     ]
    },
    {
     "name": "stdout",
     "output_type": "stream",
     "text": [
      "Training -> Epoch: 5 Accuracy: 0.7377092050209205 Loss: 0.5685297250747681\nValidation -> Epoch: 5 Accuracy: 0.7738095238095238 Loss: 0.5120295286178589\nSaving improvement...\n"
     ]
    },
    {
     "name": "stdout",
     "output_type": "stream",
     "text": [
      "Training -> Epoch: 6 Accuracy: 0.7422855648535565 Loss: 0.5444406270980835\nValidation -> Epoch: 6 Accuracy: 0.7928571428571428 Loss: 0.5015031099319458\nSaving improvement...\n"
     ]
    },
    {
     "name": "stdout",
     "output_type": "stream",
     "text": [
      "Training -> Epoch: 7 Accuracy: 0.7578451882845189 Loss: 0.5252313613891602\nValidation -> Epoch: 7 Accuracy: 0.8130952380952381 Loss: 0.4856691360473633\nSaving improvement...\n"
     ]
    },
    {
     "name": "stdout",
     "output_type": "stream",
     "text": [
      "Training -> Epoch: 8 Accuracy: 0.7621600418410042 Loss: 0.5190696716308594\nValidation -> Epoch: 8 Accuracy: 0.7964285714285714 Loss: 0.4970180094242096\n"
     ]
    },
    {
     "name": "stdout",
     "output_type": "stream",
     "text": [
      "Training -> Epoch: 9 Accuracy: 0.7798117154811716 Loss: 0.49255603551864624\nValidation -> Epoch: 9 Accuracy: 0.8023809523809524 Loss: 0.4623958468437195\n"
     ]
    },
    {
     "name": "stdout",
     "output_type": "stream",
     "text": [
      "Training -> Epoch: 10 Accuracy: 0.7846495815899581 Loss: 0.4808243215084076\nValidation -> Epoch: 10 Accuracy: 0.7821428571428571 Loss: 0.47873470187187195\n"
     ]
    },
    {
     "name": "stdout",
     "output_type": "stream",
     "text": [
      "Training -> Epoch: 11 Accuracy: 0.7864801255230126 Loss: 0.47876954078674316\nValidation -> Epoch: 11 Accuracy: 0.7857142857142857 Loss: 0.47792482376098633\n"
     ]
    },
    {
     "name": "stdout",
     "output_type": "stream",
     "text": [
      "Training -> Epoch: 12 Accuracy: 0.7956328451882845 Loss: 0.4597160220146179\nValidation -> Epoch: 12 Accuracy: 0.8142857142857143 Loss: 0.45778825879096985\nSaving improvement...\n"
     ]
    },
    {
     "name": "stdout",
     "output_type": "stream",
     "text": [
      "Training -> Epoch: 13 Accuracy: 0.8028242677824268 Loss: 0.4461953341960907\nValidation -> Epoch: 13 Accuracy: 0.8047619047619048 Loss: 0.45462819933891296\n"
     ]
    },
    {
     "name": "stdout",
     "output_type": "stream",
     "text": [
      "Training -> Epoch: 14 Accuracy: 0.7972018828451883 Loss: 0.4446806311607361\nValidation -> Epoch: 14 Accuracy: 0.8142857142857143 Loss: 0.42551150918006897\n"
     ]
    },
    {
     "name": "stdout",
     "output_type": "stream",
     "text": [
      "Training -> Epoch: 15 Accuracy: 0.805439330543933 Loss: 0.43827852606773376\nValidation -> Epoch: 15 Accuracy: 0.8035714285714286 Loss: 0.41699281334877014\n"
     ]
    },
    {
     "name": "stdout",
     "output_type": "stream",
     "text": [
      "Training -> Epoch: 16 Accuracy: 0.8080543933054394 Loss: 0.42678746581077576\nValidation -> Epoch: 16 Accuracy: 0.8214285714285714 Loss: 0.40637755393981934\nSaving improvement...\n"
     ]
    },
    {
     "name": "stdout",
     "output_type": "stream",
     "text": [
      "Training -> Epoch: 17 Accuracy: 0.8134152719665272 Loss: 0.42132294178009033\nValidation -> Epoch: 17 Accuracy: 0.8 Loss: 0.4355160593986511\n"
     ]
    },
    {
     "name": "stdout",
     "output_type": "stream",
     "text": [
      "Training -> Epoch: 18 Accuracy: 0.8110617154811716 Loss: 0.4207194149494171\nValidation -> Epoch: 18 Accuracy: 0.8071428571428572 Loss: 0.40890219807624817\n"
     ]
    },
    {
     "name": "stdout",
     "output_type": "stream",
     "text": [
      "Training -> Epoch: 19 Accuracy: 0.8198221757322176 Loss: 0.402016282081604\nValidation -> Epoch: 19 Accuracy: 0.8285714285714286 Loss: 0.392779141664505\nSaving improvement...\n"
     ]
    },
    {
     "name": "stdout",
     "output_type": "stream",
     "text": [
      "Training -> Epoch: 20 Accuracy: 0.8241370292887029 Loss: 0.39827513694763184\nValidation -> Epoch: 20 Accuracy: 0.8202380952380952 Loss: 0.4005490243434906\n"
     ]
    },
    {
     "name": "stdout",
     "output_type": "stream",
     "text": [
      "Training -> Epoch: 21 Accuracy: 0.821260460251046 Loss: 0.39000558853149414\nValidation -> Epoch: 21 Accuracy: 0.8321428571428572 Loss: 0.3682924509048462\nSaving improvement...\n"
     ]
    },
    {
     "name": "stdout",
     "output_type": "stream",
     "text": [
      "Training -> Epoch: 22 Accuracy: 0.8255753138075314 Loss: 0.38602253794670105\nValidation -> Epoch: 22 Accuracy: 0.8321428571428572 Loss: 0.388992041349411\n"
     ]
    },
    {
     "name": "stdout",
     "output_type": "stream",
     "text": [
      "Training -> Epoch: 23 Accuracy: 0.8296286610878661 Loss: 0.3929474651813507\nValidation -> Epoch: 23 Accuracy: 0.8452380952380952 Loss: 0.3526657223701477\nSaving improvement...\n"
     ]
    },
    {
     "name": "stdout",
     "output_type": "stream",
     "text": [
      "Training -> Epoch: 24 Accuracy: 0.8321129707112971 Loss: 0.37165501713752747\nValidation -> Epoch: 24 Accuracy: 0.8369047619047619 Loss: 0.37498852610588074\n"
     ]
    },
    {
     "name": "stdout",
     "output_type": "stream",
     "text": [
      "Training -> Epoch: 25 Accuracy: 0.8340742677824268 Loss: 0.37450721859931946\nValidation -> Epoch: 25 Accuracy: 0.8404761904761905 Loss: 0.36466845870018005\n"
     ]
    },
    {
     "name": "stdout",
     "output_type": "stream",
     "text": [
      "Training -> Epoch: 26 Accuracy: 0.8376046025104602 Loss: 0.3682774007320404\nValidation -> Epoch: 26 Accuracy: 0.8083333333333333 Loss: 0.4298255145549774\n"
     ]
    },
    {
     "name": "stdout",
     "output_type": "stream",
     "text": [
      "Training -> Epoch: 27 Accuracy: 0.8288441422594143 Loss: 0.3758552670478821\nValidation -> Epoch: 27 Accuracy: 0.8238095238095238 Loss: 0.4029409885406494\n"
     ]
    },
    {
     "name": "stdout",
     "output_type": "stream",
     "text": [
      "Training -> Epoch: 28 Accuracy: 0.8433577405857741 Loss: 0.35628852248191833\nValidation -> Epoch: 28 Accuracy: 0.830952380952381 Loss: 0.3855521082878113\n"
     ]
    },
    {
     "name": "stdout",
     "output_type": "stream",
     "text": [
      "Training -> Epoch: 29 Accuracy: 0.8420502092050209 Loss: 0.3522590100765228\nValidation -> Epoch: 29 Accuracy: 0.8380952380952381 Loss: 0.36919018626213074\n"
     ]
    },
    {
     "name": "stdout",
     "output_type": "stream",
     "text": [
      "Training -> Epoch: 30 Accuracy: 0.8442730125523012 Loss: 0.35178816318511963\nValidation -> Epoch: 30 Accuracy: 0.8464285714285714 Loss: 0.3635820150375366\nSaving improvement...\n"
     ]
    },
    {
     "name": "stdout",
     "output_type": "stream",
     "text": [
      "Training -> Epoch: 31 Accuracy: 0.8487186192468619 Loss: 0.34707111120224\nValidation -> Epoch: 31 Accuracy: 0.8357142857142857 Loss: 0.35127755999565125\n"
     ]
    },
    {
     "name": "stdout",
     "output_type": "stream",
     "text": [
      "Training -> Epoch: 32 Accuracy: 0.84375 Loss: 0.34426987171173096\nValidation -> Epoch: 32 Accuracy: 0.8464285714285714 Loss: 0.357466459274292\n"
     ]
    },
    {
     "name": "stdout",
     "output_type": "stream",
     "text": [
      "Training -> Epoch: 33 Accuracy: 0.8526412133891214 Loss: 0.34017443656921387\nValidation -> Epoch: 33 Accuracy: 0.8369047619047619 Loss: 0.3683602511882782\n"
     ]
    },
    {
     "name": "stdout",
     "output_type": "stream",
     "text": [
      "Training -> Epoch: 34 Accuracy: 0.8539487447698745 Loss: 0.3389430344104767\nValidation -> Epoch: 34 Accuracy: 0.8380952380952381 Loss: 0.356518417596817\n"
     ]
    },
    {
     "name": "stdout",
     "output_type": "stream",
     "text": [
      "Training -> Epoch: 35 Accuracy: 0.8551255230125523 Loss: 0.3253614604473114\nValidation -> Epoch: 35 Accuracy: 0.8511904761904762 Loss: 0.3458119034767151\nSaving improvement...\n"
     ]
    },
    {
     "name": "stdout",
     "output_type": "stream",
     "text": [
      "Training -> Epoch: 36 Accuracy: 0.8553870292887029 Loss: 0.32501405477523804\nValidation -> Epoch: 36 Accuracy: 0.8583333333333333 Loss: 0.3329710364341736\nSaving improvement...\n"
     ]
    },
    {
     "name": "stdout",
     "output_type": "stream",
     "text": [
      "Training -> Epoch: 37 Accuracy: 0.8580020920502092 Loss: 0.3272584080696106\nValidation -> Epoch: 37 Accuracy: 0.8452380952380952 Loss: 0.3909558653831482\n"
     ]
    },
    {
     "name": "stdout",
     "output_type": "stream",
     "text": [
      "Training -> Epoch: 38 Accuracy: 0.859571129707113 Loss: 0.3212920129299164\nValidation -> Epoch: 38 Accuracy: 0.85 Loss: 0.3656666576862335\n"
     ]
    },
    {
     "name": "stdout",
     "output_type": "stream",
     "text": [
      "Training -> Epoch: 39 Accuracy: 0.8590481171548117 Loss: 0.3158259093761444\nValidation -> Epoch: 39 Accuracy: 0.8523809523809524 Loss: 0.3757380545139313\n"
     ]
    },
    {
     "name": "stdout",
     "output_type": "stream",
     "text": [
      "Training -> Epoch: 40 Accuracy: 0.8582635983263598 Loss: 0.31940215826034546\nValidation -> Epoch: 40 Accuracy: 0.8476190476190476 Loss: 0.31574222445487976\n"
     ]
    },
    {
     "name": "stdout",
     "output_type": "stream",
     "text": [
      "Training -> Epoch: 41 Accuracy: 0.8676778242677824 Loss: 0.3001122772693634\nValidation -> Epoch: 41 Accuracy: 0.8547619047619047 Loss: 0.3645152151584625\n"
     ]
    },
    {
     "name": "stdout",
     "output_type": "stream",
     "text": [
      "Training -> Epoch: 42 Accuracy: 0.8606171548117155 Loss: 0.31259649991989136\nValidation -> Epoch: 42 Accuracy: 0.8583333333333333 Loss: 0.3318781852722168\n"
     ]
    },
    {
     "name": "stdout",
     "output_type": "stream",
     "text": [
      "Training -> Epoch: 43 Accuracy: 0.8604864016736402 Loss: 0.30918464064598083\nValidation -> Epoch: 43 Accuracy: 0.8511904761904762 Loss: 0.34279677271842957\n"
     ]
    },
    {
     "name": "stdout",
     "output_type": "stream",
     "text": [
      "Training -> Epoch: 44 Accuracy: 0.8668933054393305 Loss: 0.29962289333343506\nValidation -> Epoch: 44 Accuracy: 0.8702380952380953 Loss: 0.3052762746810913\nSaving improvement...\n"
     ]
    },
    {
     "name": "stdout",
     "output_type": "stream",
     "text": [
      "Training -> Epoch: 45 Accuracy: 0.8638859832635983 Loss: 0.302264928817749\nValidation -> Epoch: 45 Accuracy: 0.8535714285714285 Loss: 0.3397599756717682\n"
     ]
    },
    {
     "name": "stdout",
     "output_type": "stream",
     "text": [
      "Training -> Epoch: 46 Accuracy: 0.8653242677824268 Loss: 0.3006831407546997\nValidation -> Epoch: 46 Accuracy: 0.8428571428571429 Loss: 0.36282214522361755\n"
     ]
    },
    {
     "name": "stdout",
     "output_type": "stream",
     "text": [
      "Training -> Epoch: 47 Accuracy: 0.8636244769874477 Loss: 0.29488298296928406\nValidation -> Epoch: 47 Accuracy: 0.875 Loss: 0.32419684529304504\nSaving improvement...\n"
     ]
    },
    {
     "name": "stdout",
     "output_type": "stream",
     "text": [
      "Training -> Epoch: 48 Accuracy: 0.8685930962343096 Loss: 0.2980448305606842\nValidation -> Epoch: 48 Accuracy: 0.8595238095238096 Loss: 0.3320328891277313\n"
     ]
    },
    {
     "name": "stdout",
     "output_type": "stream",
     "text": [
      "Training -> Epoch: 49 Accuracy: 0.8692468619246861 Loss: 0.29542291164398193\nValidation -> Epoch: 49 Accuracy: 0.8702380952380953 Loss: 0.3204752206802368\n"
     ]
    },
    {
     "name": "stdout",
     "output_type": "stream",
     "text": [
      "Training -> Epoch: 50 Accuracy: 0.8710774058577406 Loss: 0.29011520743370056\nValidation -> Epoch: 50 Accuracy: 0.8571428571428571 Loss: 0.34493812918663025\n"
     ]
    },
    {
     "name": "stdout",
     "output_type": "stream",
     "text": [
      "Training -> Epoch: 51 Accuracy: 0.8739539748953975 Loss: 0.28790947794914246\nValidation -> Epoch: 51 Accuracy: 0.8595238095238096 Loss: 0.32687392830848694\n"
     ]
    },
    {
     "name": "stdout",
     "output_type": "stream",
     "text": [
      "Training -> Epoch: 52 Accuracy: 0.8706851464435147 Loss: 0.2939261496067047\nValidation -> Epoch: 52 Accuracy: 0.8595238095238096 Loss: 0.3681000769138336\n"
     ]
    },
    {
     "name": "stdout",
     "output_type": "stream",
     "text": [
      "Training -> Epoch: 53 Accuracy: 0.8765690376569037 Loss: 0.28820541501045227\nValidation -> Epoch: 53 Accuracy: 0.875 Loss: 0.3080413043498993\n"
     ]
    },
    {
     "name": "stdout",
     "output_type": "stream",
     "text": [
      "Training -> Epoch: 54 Accuracy: 0.8811453974895398 Loss: 0.2814052700996399\nValidation -> Epoch: 54 Accuracy: 0.875 Loss: 0.2995742857456207\n"
     ]
    },
    {
     "name": "stdout",
     "output_type": "stream",
     "text": [
      "Training -> Epoch: 55 Accuracy: 0.8743462343096234 Loss: 0.28122520446777344\nValidation -> Epoch: 55 Accuracy: 0.8511904761904762 Loss: 0.33948174118995667\n"
     ]
    },
    {
     "name": "stdout",
     "output_type": "stream",
     "text": [
      "Training -> Epoch: 56 Accuracy: 0.8795763598326359 Loss: 0.27297940850257874\nValidation -> Epoch: 56 Accuracy: 0.8464285714285714 Loss: 0.3547462522983551\n"
     ]
    },
    {
     "name": "stdout",
     "output_type": "stream",
     "text": [
      "Training -> Epoch: 57 Accuracy: 0.8755230125523012 Loss: 0.27075839042663574\nValidation -> Epoch: 57 Accuracy: 0.888095238095238 Loss: 0.29694199562072754\nSaving improvement...\n"
     ]
    },
    {
     "name": "stdout",
     "output_type": "stream",
     "text": [
      "Training -> Epoch: 58 Accuracy: 0.8832374476987448 Loss: 0.2699541449546814\nValidation -> Epoch: 58 Accuracy: 0.8630952380952381 Loss: 0.3294651508331299\n"
     ]
    },
    {
     "name": "stdout",
     "output_type": "stream",
     "text": [
      "Training -> Epoch: 59 Accuracy: 0.8798378661087866 Loss: 0.275160551071167\nValidation -> Epoch: 59 Accuracy: 0.8607142857142858 Loss: 0.35857921838760376\n"
     ]
    },
    {
     "name": "stdout",
     "output_type": "stream",
     "text": [
      "Training -> Epoch: 60 Accuracy: 0.8798378661087866 Loss: 0.2816234827041626\nValidation -> Epoch: 60 Accuracy: 0.861904761904762 Loss: 0.39554283022880554\n"
     ]
    },
    {
     "name": "stdout",
     "output_type": "stream",
     "text": [
      "Training -> Epoch: 61 Accuracy: 0.8828451882845189 Loss: 0.2784055471420288\nValidation -> Epoch: 61 Accuracy: 0.8726190476190476 Loss: 0.2970574200153351\n"
     ]
    },
    {
     "name": "stdout",
     "output_type": "stream",
     "text": [
      "Training -> Epoch: 62 Accuracy: 0.8845449790794979 Loss: 0.26412490010261536\nValidation -> Epoch: 62 Accuracy: 0.8666666666666667 Loss: 0.3265210688114166\n"
     ]
    },
    {
     "name": "stdout",
     "output_type": "stream",
     "text": [
      "Training -> Epoch: 63 Accuracy: 0.8855910041841004 Loss: 0.27160319685935974\nValidation -> Epoch: 63 Accuracy: 0.8845238095238095 Loss: 0.28298160433769226\n"
     ]
    },
    {
     "name": "stdout",
     "output_type": "stream",
     "text": [
      "Training -> Epoch: 64 Accuracy: 0.8832374476987448 Loss: 0.26229599118232727\nValidation -> Epoch: 64 Accuracy: 0.8690476190476191 Loss: 0.32850345969200134\nTesting -> Accuracy: 0.8583333333333333 Loss: 0.3219791650772095\nSaving test results...\n"
     ]
    }
   ],
   "source": [
    "print('PaviaU 8 bands:')\n",
    "args = Args()\n",
    "args.data_path = r'C:\\Users\\ltulczyjew\\Desktop\\data\\PaviaU.mat'\n",
    "args.labels_path = r'C:\\Users\\ltulczyjew\\Desktop\\data\\PaviaU_gt.mat'\n",
    "args.dest_path = r'C:\\Users\\ltulczyjew\\Desktop\\results'\n",
    "args.classes = 9\n",
    "args.cont = \\\n",
    "    r'C:\\Users\\ltulczyjew\\Desktop\\software\\python_research\\experiments\\attention_based_selected_bands\\pavia\\0.005.txt'\n",
    "args.input_dim = [8, 7, 7]\n",
    "args.data_name = 'PaviaU'\n",
    "args.run_idx = 1\n",
    "main(args=args)\n"
   ]
  },
  {
   "cell_type": "code",
   "execution_count": 7,
   "metadata": {},
   "outputs": [
    {
     "name": "stdout",
     "output_type": "stream",
     "text": [
      "PaviaU all bands:\nMonte Carlo data prep:\n"
     ]
    },
    {
     "name": "stdout",
     "output_type": "stream",
     "text": [
      "Training -> Epoch: 0 Accuracy: 0.6270564042303173 Loss: 0.8704347610473633\n"
     ]
    },
    {
     "name": "stdout",
     "output_type": "stream",
     "text": [
      "Validation -> Epoch: 0 Accuracy: 0.6869047619047619 Loss: 0.6147536039352417\nSaving improvement...\n"
     ]
    },
    {
     "name": "stdout",
     "output_type": "stream",
     "text": [
      "Training -> Epoch: 1 Accuracy: 0.7118200836820083 Loss: 0.6177400350570679\n"
     ]
    },
    {
     "name": "stdout",
     "output_type": "stream",
     "text": [
      "Validation -> Epoch: 1 Accuracy: 0.6821428571428572 Loss: 0.5807790756225586\n"
     ]
    },
    {
     "name": "stdout",
     "output_type": "stream",
     "text": [
      "Training -> Epoch: 2 Accuracy: 0.7225418410041841 Loss: 0.5830295085906982\n"
     ]
    },
    {
     "name": "stdout",
     "output_type": "stream",
     "text": [
      "Validation -> Epoch: 2 Accuracy: 0.7488095238095238 Loss: 0.4809148907661438\nSaving improvement...\n"
     ]
    },
    {
     "name": "stdout",
     "output_type": "stream",
     "text": [
      "Training -> Epoch: 3 Accuracy: 0.7488232217573222 Loss: 0.5439501404762268\n"
     ]
    },
    {
     "name": "stdout",
     "output_type": "stream",
     "text": [
      "Validation -> Epoch: 3 Accuracy: 0.8142857142857143 Loss: 0.4385823607444763\nSaving improvement...\n"
     ]
    },
    {
     "name": "stdout",
     "output_type": "stream",
     "text": [
      "Training -> Epoch: 4 Accuracy: 0.774581589958159 Loss: 0.5045739412307739\n"
     ]
    },
    {
     "name": "stdout",
     "output_type": "stream",
     "text": [
      "Validation -> Epoch: 4 Accuracy: 0.7702380952380953 Loss: 0.46875694394111633\n"
     ]
    },
    {
     "name": "stdout",
     "output_type": "stream",
     "text": [
      "Training -> Epoch: 5 Accuracy: 0.7778504184100419 Loss: 0.49858713150024414\n"
     ]
    },
    {
     "name": "stdout",
     "output_type": "stream",
     "text": [
      "Validation -> Epoch: 5 Accuracy: 0.8 Loss: 0.43065232038497925\n"
     ]
    },
    {
     "name": "stdout",
     "output_type": "stream",
     "text": [
      "Training -> Epoch: 6 Accuracy: 0.7875261506276151 Loss: 0.47924694418907166\n"
     ]
    },
    {
     "name": "stdout",
     "output_type": "stream",
     "text": [
      "Validation -> Epoch: 6 Accuracy: 0.7583333333333333 Loss: 0.48673442006111145\n"
     ]
    },
    {
     "name": "stdout",
     "output_type": "stream",
     "text": [
      "Training -> Epoch: 7 Accuracy: 0.7955020920502092 Loss: 0.4678876996040344\n"
     ]
    },
    {
     "name": "stdout",
     "output_type": "stream",
     "text": [
      "Validation -> Epoch: 7 Accuracy: 0.8773809523809524 Loss: 0.3236998915672302\nSaving improvement...\n"
     ]
    },
    {
     "name": "stdout",
     "output_type": "stream",
     "text": [
      "Training -> Epoch: 8 Accuracy: 0.8143305439330544 Loss: 0.4384603500366211\n"
     ]
    },
    {
     "name": "stdout",
     "output_type": "stream",
     "text": [
      "Validation -> Epoch: 8 Accuracy: 0.8666666666666667 Loss: 0.3313888907432556\n"
     ]
    },
    {
     "name": "stdout",
     "output_type": "stream",
     "text": [
      "Training -> Epoch: 9 Accuracy: 0.8157688284518828 Loss: 0.4278419315814972\n"
     ]
    },
    {
     "name": "stdout",
     "output_type": "stream",
     "text": [
      "Validation -> Epoch: 9 Accuracy: 0.8261904761904761 Loss: 0.37984609603881836\n"
     ]
    },
    {
     "name": "stdout",
     "output_type": "stream",
     "text": [
      "Training -> Epoch: 10 Accuracy: 0.821652719665272 Loss: 0.41229262948036194\n"
     ]
    },
    {
     "name": "stdout",
     "output_type": "stream",
     "text": [
      "Validation -> Epoch: 10 Accuracy: 0.8261904761904761 Loss: 0.35506200790405273\n"
     ]
    },
    {
     "name": "stdout",
     "output_type": "stream",
     "text": [
      "Training -> Epoch: 11 Accuracy: 0.8153765690376569 Loss: 0.41732972860336304\n"
     ]
    },
    {
     "name": "stdout",
     "output_type": "stream",
     "text": [
      "Validation -> Epoch: 11 Accuracy: 0.8797619047619047 Loss: 0.3076012432575226\nSaving improvement...\n"
     ]
    },
    {
     "name": "stdout",
     "output_type": "stream",
     "text": [
      "Training -> Epoch: 12 Accuracy: 0.8301516736401674 Loss: 0.3931000828742981\n"
     ]
    },
    {
     "name": "stdout",
     "output_type": "stream",
     "text": [
      "Validation -> Epoch: 12 Accuracy: 0.9071428571428571 Loss: 0.26976239681243896\nSaving improvement...\n"
     ]
    },
    {
     "name": "stdout",
     "output_type": "stream",
     "text": [
      "Training -> Epoch: 13 Accuracy: 0.8466265690376569 Loss: 0.3633192479610443\n"
     ]
    },
    {
     "name": "stdout",
     "output_type": "stream",
     "text": [
      "Validation -> Epoch: 13 Accuracy: 0.8940476190476191 Loss: 0.2497323900461197\n"
     ]
    },
    {
     "name": "stdout",
     "output_type": "stream",
     "text": [
      "Training -> Epoch: 14 Accuracy: 0.8476725941422594 Loss: 0.3680228292942047\n"
     ]
    },
    {
     "name": "stdout",
     "output_type": "stream",
     "text": [
      "Validation -> Epoch: 14 Accuracy: 0.8642857142857143 Loss: 0.32351553440093994\n"
     ]
    },
    {
     "name": "stdout",
     "output_type": "stream",
     "text": [
      "Training -> Epoch: 15 Accuracy: 0.8466265690376569 Loss: 0.3596341907978058\n"
     ]
    },
    {
     "name": "stdout",
     "output_type": "stream",
     "text": [
      "Validation -> Epoch: 15 Accuracy: 0.8988095238095238 Loss: 0.2568854093551636\n"
     ]
    },
    {
     "name": "stdout",
     "output_type": "stream",
     "text": [
      "Training -> Epoch: 16 Accuracy: 0.8559100418410042 Loss: 0.33827248215675354\n"
     ]
    },
    {
     "name": "stdout",
     "output_type": "stream",
     "text": [
      "Validation -> Epoch: 16 Accuracy: 0.9011904761904762 Loss: 0.2364724725484848\n"
     ]
    },
    {
     "name": "stdout",
     "output_type": "stream",
     "text": [
      "Training -> Epoch: 17 Accuracy: 0.8543410041841004 Loss: 0.3503081500530243\n"
     ]
    },
    {
     "name": "stdout",
     "output_type": "stream",
     "text": [
      "Validation -> Epoch: 17 Accuracy: 0.8833333333333333 Loss: 0.28183287382125854\n"
     ]
    },
    {
     "name": "stdout",
     "output_type": "stream",
     "text": [
      "Training -> Epoch: 18 Accuracy: 0.8659780334728033 Loss: 0.3295397162437439\n"
     ]
    },
    {
     "name": "stdout",
     "output_type": "stream",
     "text": [
      "Validation -> Epoch: 18 Accuracy: 0.8928571428571429 Loss: 0.23004150390625\n"
     ]
    },
    {
     "name": "stdout",
     "output_type": "stream",
     "text": [
      "Training -> Epoch: 19 Accuracy: 0.8619246861924686 Loss: 0.31948110461235046\n"
     ]
    },
    {
     "name": "stdout",
     "output_type": "stream",
     "text": [
      "Validation -> Epoch: 19 Accuracy: 0.8809523809523809 Loss: 0.23575924336910248\n"
     ]
    },
    {
     "name": "stdout",
     "output_type": "stream",
     "text": [
      "Testing -> Accuracy: 0.8952380952380953 Loss: 0.310178279876709\nSaving test results...\n"
     ]
    }
   ],
   "source": [
    "print('PaviaU all bands:')\n",
    "args = Args()\n",
    "args.data_path = r'C:\\Users\\ltulczyjew\\Desktop\\data\\PaviaU.mat'\n",
    "args.labels_path = r'C:\\Users\\ltulczyjew\\Desktop\\data\\PaviaU_gt.mat'\n",
    "args.dest_path = r'C:\\Users\\ltulczyjew\\Desktop\\results'\n",
    "args.classes = 9\n",
    "args.cont = None\n",
    "args.input_dim = [103, 7, 7]\n",
    "args.data_name = 'PaviaU'\n",
    "args.run_idx = 1\n",
    "main(args=args)\n"
   ]
  },
  {
   "cell_type": "code",
   "execution_count": null,
   "metadata": {},
   "outputs": [],
   "source": []
  }
 ],
 "metadata": {
  "kernelspec": {
   "display_name": "Python 2",
   "language": "python",
   "name": "python2"
  },
  "language_info": {
   "codemirror_mode": {
    "name": "ipython",
    "version": 2
   },
   "file_extension": ".py",
   "mimetype": "text/x-python",
   "name": "python",
   "nbconvert_exporter": "python",
   "pygments_lexer": "ipython2",
   "version": "2.7.6"
  }
 },
 "nbformat": 4,
 "nbformat_minor": 0
}
