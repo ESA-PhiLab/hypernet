{
 "cells": [
  {
   "cell_type": "markdown",
   "metadata": {},
   "source": [
    "#<font size=\"5\">3D Convolutional Neural Network runner</font>\n",
    "In order to run 3D CNN, number of arguments need to be specified:\n",
    "* `run_idx` - Index of the experiment run.\n",
    "* `epochs` - Total number of epochs.\n",
    "* `data_path` - Path to the dataset.\n",
    "* `data_name` - Argument used for naming the directory containing artifacts.\n",
    "* `neighborhood_size` - Size of the spatial dimensionality of samples.\n",
    "* `labels_path` - Path to ground truth map which can be either a *matlab* or *numpy* file.\n",
    "* `batch` - Size of the batch.\n",
    "* `patience` - Stopping condition for the model-i.e. number of epochs without improvement.\n",
    "* `dest_path` - Path to the directory designed for storing artifacts.\n",
    "* `classes` - Number of classes.\n",
    "* `test_size` - Size of the patch of samples designed for testing.\n",
    "* `val_size` - Size of the patch of samples designed for validation.\n",
    "* `channels` - Number of channels in each convolutional layer. This argument should be passed as a list of intergers or strings, e.g. `[10, 10, 10]`.\n",
    "* `input_dim` - Dimensionality of the input sample. This argument should be passed as a list of intergers or strings, e.g. `[103, 7, 7]`.\n",
    "* `cont` - Path to the file containing selected bands, when training on the whole spectrum this argument should be `None`."
   ]
  },
  {
   "cell_type": "code",
   "execution_count": null,
   "metadata": {},
   "outputs": [],
   "source": [
    "import os\n",
    "\n",
    "DATA_DIR = os.getenv(\"HYPERNET_DATA_DIR\", os.path.join(\"..\", \"..\", \"hypernet-data\"))\n",
    "RESULTS_DIR = os.path.join(\n",
    "    os.getenv(\"HYPERNET_RESULTS_DIR\", os.path.join(\"..\", \"..\", \"hypernet-data\", \"results\")),\n",
    "    \"conv_3d\"\n",
    ")\n"
   ]
  },
  {
   "cell_type": "code",
   "execution_count": null,
   "metadata": {},
   "outputs": [],
   "source": [
    "from python_research.experiments.sota_models.conv_3D.train_conv3D import main, Arguments\n",
    "\n",
    "arguments = Arguments(\n",
    "    run_idx=1,\n",
    "    epochs=999,\n",
    "    data_path=os.path.join(DATA_DIR, \"PaviaU_corrected.npy\"),\n",
    "    data_name=\"Pavia University\",\n",
    "    neighborhood_size=7,\n",
    "    labels_path=os.path.join(DATA_DIR, \"PaviaU_gt.npy\"),\n",
    "    batch=64,\n",
    "    patience=5,\n",
    "    dest_path=RESULTS_DIR,\n",
    "    classes=9,\n",
    "    test_size=0.1,\n",
    "    val_size=0.1,\n",
    "    channels=[10, 10, 10],\n",
    "    input_dim=[103, 7, 7],\n",
    "    cont=None\n",
    ")\n",
    "\n",
    "main(args=arguments)\n"
   ]
  }
 ],
 "metadata": {
  "kernelspec": {
   "display_name": "Python 3",
   "language": "python",
   "name": "python3"
  },
  "language_info": {
   "codemirror_mode": {
    "name": "ipython",
    "version": 3
   },
   "file_extension": ".py",
   "mimetype": "text/x-python",
   "name": "python",
   "nbconvert_exporter": "python",
   "pygments_lexer": "ipython3",
   "version": "3.6.6"
  }
 },
 "nbformat": 4,
 "nbformat_minor": 1
}
