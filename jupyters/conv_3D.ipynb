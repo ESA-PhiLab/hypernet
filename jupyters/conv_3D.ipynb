{
 "cells": [
  {
   "cell_type": "code",
   "execution_count": null,
   "metadata": {},
   "outputs": [],
   "source": [
    "import os\n",
    "\n",
    "DATA_DIR = os.getenv('HYPERNET_DATA_DIR', os.path.join('..', '..', 'hypernet-data'))\n",
    "RESULTS_DIR = os.path.join(os.getenv('HYPERNET_RESULTS_DIR', os.path.join('..', '..', 'hypernet-data', 'results')), 'conv_3d')"
   ]
  },
  {
   "cell_type": "code",
   "execution_count": null,
   "metadata": {},
   "outputs": [],
   "source": [
    "from python_research.experiments.sota_models.bass.train_bass import main\n",
    "from python_research.experiments.sota_models.conv_3D.train_conv3D import main\n",
    "\n",
    "\n",
    "class Args(object):\n",
    "    \"\"\"\n",
    "    Arguments for BASS model - (Configuration 4).\n",
    "    \"\"\"\n",
    "    def __init__(self):\n",
    "        # Index of run. (Used for running batch scripts.):\n",
    "        self.run_idx = None\n",
    "        # Data type used by the model:\n",
    "        # (If training on GPU and CUDA is available could be: 'torch.cuda.FloatTensor' or else.)\n",
    "        self.dtype = 'torch.FloatTensor'\n",
    "        # If training on all bands: self.cont = None\n",
    "        # If training on selected bands: self.cont is the path to file containing indexes of bands.\n",
    "        self.cont = None\n",
    "        self.epochs = 999\n",
    "        # Paths to data, labels, destination directory and data set name:\n",
    "        self.data_path = None\n",
    "        self.labels_path = None\n",
    "        self.dest_path = None\n",
    "        self.data_name = None\n",
    "        # Size of the sliding window used to create samples:\n",
    "        self.neighborhood_size = 7\n",
    "        # Size of the batch:\n",
    "        self.batch = 8\n",
    "        # Stopping condition - number of epochs without improvement:\n",
    "        self.patience = 7\n",
    "        # Number of classes:\n",
    "        self.classes = None\n",
    "        # Sizes of training and validation patches: (Per class.)\n",
    "        self.test_size = 0.1\n",
    "        self.val_size = 0.1\n",
    "        # Channels sizes in convolutional layers:\n",
    "        self.channels = [8, 8, 8]\n",
    "        # Input sample dimensionality:\n",
    "        self.input_dim = None\n"
   ]
  },
  {
   "cell_type": "code",
   "execution_count": null,
   "metadata": {},
   "outputs": [],
   "source": [
    "print('Salinas 30 bands:')\n",
    "args = Args()\n",
    "args.data_path = os.path.join(DATA_DIR, 'Salinas.mat')\n",
    "args.labels_path = os.path.join(DATA_DIR, 'Salinas_gt.mat')\n",
    "args.dest_path = RESULTS_DIR\n",
    "args.classes = 16\n",
    "args.cont = os.path.join(r'C:\\Users\\ltulczyjew\\Desktop\\software', 'python_research',\n",
    "                         'experiments', 'attention_based_selected_bands', 'salinas', '0.035.txt')\n",
    "args.input_dim = [30, 7, 7]\n",
    "args.data_name = 'Salinas'\n",
    "args.run_idx = 1\n",
    "main(args=args)\n"
   ]
  },
  {
   "cell_type": "code",
   "execution_count": null,
   "metadata": {},
   "outputs": [],
   "source": [
    "print('PaviaU all bands:')\n",
    "args = Args()\n",
    "args.data_path = os.path.join(DATA_DIR, 'PaviaU.mat')\n",
    "args.labels_path = os.path.join(DATA_DIR, 'PaviaU_gt.mat')\n",
    "args.dest_path = RESULTS_DIR\n",
    "args.classes = 9\n",
    "args.cont = None\n",
    "args.input_dim = [103, 7, 7]\n",
    "args.data_name = 'PaviaU'\n",
    "args.run_idx = 1\n",
    "main(args=args)\n"
   ]
  },
  {
   "cell_type": "code",
   "execution_count": null,
   "metadata": {},
   "outputs": [],
   "source": []
  }
 ],
 "metadata": {
  "kernelspec": {
   "display_name": "Python 3",
   "language": "python",
   "name": "python3"
  },
  "language_info": {
   "codemirror_mode": {
    "name": "ipython",
    "version": 3
   },
   "file_extension": ".py",
   "mimetype": "text/x-python",
   "name": "python",
   "nbconvert_exporter": "python",
   "pygments_lexer": "ipython3",
   "version": "3.6.6"
  }
 },
 "nbformat": 4,
 "nbformat_minor": 1
}
