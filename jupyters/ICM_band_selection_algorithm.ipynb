{
 "cells": [
  {
   "cell_type": "code",
   "execution_count": null,
   "metadata": {},
   "outputs": [],
   "source": [
    "from python_research.experiments.band_selection_algorithms.BS_IC.improved_class_map import \\\n",
    "    generate_pseudo_ground_truth_map\n",
    "\n",
    "\n",
    "class Args(object):\n",
    "    def __init__(self):\n",
    "        self.bands_num = 20\n",
    "        self.r = 5\n",
    "        self.training_patch = 0.5\n",
    "        self.data_path = r'C:\\Users\\ltulczyjew\\Desktop\\Band_Selection_Algorithms\\data\\Indian_pines.mat'\n",
    "        self.ref_map_path = r'C:\\Users\\ltulczyjew\\Desktop\\Band_Selection_Algorithms\\data\\Indian_pines_gt.mat'\n",
    "        self.dest_path = r'C:\\Users\\ltulczyjew\\Desktop\\Band_Selection_Algorithms\\selected_bands'\n",
    "\n",
    "\n",
    "args = Args()\n",
    "generate_pseudo_ground_truth_map(args)\n"
   ]
  },
  {
   "cell_type": "code",
   "execution_count": null,
   "metadata": {},
   "outputs": [],
   "source": [
    "import numpy as np\n",
    "\n",
    "from python_research.experiments.band_selection_algorithms.BS_IC.select_bands import select_bands\n",
    "\n",
    "\n",
    "class Args(object):\n",
    "    def __init__(self):\n",
    "        self.bands_num = 20\n",
    "        self.r = 5\n",
    "        self.training_patch = 0.5\n",
    "        self.data_path = r'C:\\Users\\ltulczyjew\\Desktop\\Band_Selection_Algorithms\\data\\Indian_pines.mat'\n",
    "        self.ref_map_path = r'C:\\Users\\ltulczyjew\\Desktop\\Band_Selection_Algorithms\\data\\Indian_pines_gt.mat'\n",
    "        self.dest_path = r'C:\\Users\\ltulczyjew\\Desktop\\Band_Selection_Algorithms\\selected_bands'\n",
    "\n",
    "\n",
    "args = Args()\n",
    "map_ = np.load(r'C:\\Users\\ltulczyjew\\Desktop\\Band_Selection_Algorithms\\selected_bands\\pseudo_ground_truth_map.npy')\n",
    "select_bands(map_.astype(int), args)\n"
   ]
  },
  {
   "cell_type": "code",
   "execution_count": null,
   "metadata": {},
   "outputs": [],
   "source": []
  }
 ],
 "metadata": {
  "kernelspec": {
   "display_name": "Python 2",
   "language": "python",
   "name": "python2"
  },
  "language_info": {
   "codemirror_mode": {
    "name": "ipython",
    "version": 2
   },
   "file_extension": ".py",
   "mimetype": "text/x-python",
   "name": "python",
   "nbconvert_exporter": "python",
   "pygments_lexer": "ipython2",
   "version": "2.7.6"
  }
 },
 "nbformat": 4,
 "nbformat_minor": 0
}
