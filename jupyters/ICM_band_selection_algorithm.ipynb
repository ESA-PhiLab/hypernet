{
 "cells": [
  {
   "cell_type": "code",
   "execution_count": null,
   "metadata": {},
   "outputs": [],
   "source": [
    "import os\n",
    "\n",
    "DATA_DIR = os.path.join('..', '..', 'hypernet-data')\n",
    "RESULTS_DIR = os.path.join('..', '..', 'hypernet-data', 'results', 'icm_band_selection')"
   ]
  },
  {
   "cell_type": "code",
   "execution_count": null,
   "metadata": {},
   "outputs": [],
   "source": [
    "from python_research.experiments.band_selection_algorithms.BS_IC.improved_class_map import \\\n",
    "    generate_pseudo_ground_truth_map\n",
    "\n",
    "\n",
    "class Args(object):\n",
    "    def __init__(self):\n",
    "        # Number of bands to select:\n",
    "        self.bands_num = 20\n",
    "        # Size of the guided filter used for convolution over reference map:\n",
    "        self.r = 5\n",
    "        # Fraction of samples designed for SVM training. (Per class.)\n",
    "        self.training_patch = 0.5\n",
    "        # Paths to data, labels and destination directory:\n",
    "        self.data_path = os.path.join(DATA_DIR, 'Indian_pines.mat')\n",
    "        self.ref_map_path = os.path.join(DATA_DIR, 'Indian_pines_gt.mat')\n",
    "        self.dest_path = RESULTS_DIR\n",
    "\n",
    "\n",
    "args = Args()\n",
    "generate_pseudo_ground_truth_map(args)\n"
   ]
  },
  {
   "cell_type": "code",
   "execution_count": null,
   "metadata": {},
   "outputs": [],
   "source": [
    "import os\n",
    "\n",
    "import numpy as np\n",
    "\n",
    "from python_research.experiments.band_selection_algorithms.BS_IC.select_bands import select_bands\n",
    "\n",
    "args = Args()\n",
    "map_ = np.load(os.path.join(args.dest_path, 'pseudo_ground_truth_map.npy'))\n",
    "# Pass  parsed arguments and pseudo ground truth map as type \"int\":\n",
    "select_bands(map_.astype(int), args)\n"
   ]
  },
  {
   "cell_type": "code",
   "execution_count": null,
   "metadata": {},
   "outputs": [],
   "source": []
  }
 ],
 "metadata": {
  "kernelspec": {
   "display_name": "Python 3",
   "language": "python",
   "name": "python3"
  },
  "language_info": {
   "codemirror_mode": {
    "name": "ipython",
    "version": 3
   },
   "file_extension": ".py",
   "mimetype": "text/x-python",
   "name": "python",
   "nbconvert_exporter": "python",
   "pygments_lexer": "ipython3",
   "version": "3.6.6"
  }
 },
 "nbformat": 4,
 "nbformat_minor": 1
}
