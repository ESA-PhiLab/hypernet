{
 "cells": [
  {
   "cell_type": "code",
   "execution_count": null,
   "metadata": {},
   "outputs": [],
   "source": [
    "from python_research.experiments.band_selection_algorithms.BS_IC.improved_class_map import \\\n",
    "    generate_pseudo_ground_truth_map\n",
    "\n",
    "\n",
    "class Args(object):\n",
    "    def __init__(self):\n",
    "        # Number of bands to select:\n",
    "        self.bands_num = 20\n",
    "        # Size of the guided filter used for convolution over reference map:\n",
    "        self.r = 5\n",
    "        # Fraction of samples designed for SVM training. (Per class.)\n",
    "        self.training_patch = 0.5\n",
    "        # Paths to data, labels and destination directory:\n",
    "        self.data_path = r'C:\\Users\\ltulczyjew\\Desktop\\data\\Indian_pines.mat'\n",
    "        self.ref_map_path = r'C:\\Users\\ltulczyjew\\Desktop\\data\\Indian_pines_gt.mat'\n",
    "        self.dest_path = r'C:\\Users\\ltulczyjew\\Desktop\\results'\n",
    "\n",
    "\n",
    "args = Args()\n",
    "generate_pseudo_ground_truth_map(args)\n"
   ]
  },
  {
   "cell_type": "code",
   "execution_count": null,
   "metadata": {},
   "outputs": [],
   "source": [
    "import os\n",
    "\n",
    "import numpy as np\n",
    "\n",
    "from python_research.experiments.band_selection_algorithms.BS_IC.select_bands import select_bands\n",
    "\n",
    "args = Args()\n",
    "map_ = np.load(os.path.join(args.dest_path, 'pseudo_ground_truth_map.npy'))\n",
    "# Pass  parsed arguments and pseudo ground truth map as type \"int\":\n",
    "select_bands(map_.astype(int), args)\n"
   ]
  },
  {
   "cell_type": "code",
   "execution_count": null,
   "metadata": {},
   "outputs": [],
   "source": []
  }
 ],
 "metadata": {
  "kernelspec": {
   "display_name": "Python 2",
   "language": "python",
   "name": "python2"
  },
  "language_info": {
   "codemirror_mode": {
    "name": "ipython",
    "version": 2
   },
   "file_extension": ".py",
   "mimetype": "text/x-python",
   "name": "python",
   "nbconvert_exporter": "python",
   "pygments_lexer": "ipython2",
   "version": "2.7.6"
  }
 },
 "nbformat": 4,
 "nbformat_minor": 0
}
