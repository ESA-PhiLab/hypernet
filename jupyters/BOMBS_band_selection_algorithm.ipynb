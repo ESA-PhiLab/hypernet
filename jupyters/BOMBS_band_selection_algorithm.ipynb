{
 "cells": [
  {
   "cell_type": "code",
   "execution_count": 2,
   "metadata": {},
   "outputs": [],
   "source": [
    "import os\n",
    "\n",
    "import numpy as np\n",
    "\n",
    "from python_research.experiments.band_selection_algorithms.BOMBS.runner import run\n",
    "\n",
    "\n",
    "class Args(object):\n",
    "    \"\"\"\n",
    "    Class containing arguments for running BOMBS selection algorithm.\n",
    "    The default values are taken from the document itself.\n",
    "    \"\"\"\n",
    "    def __init__(self):\n",
    "        # Total number of generations:\n",
    "        self.G = 999999999\n",
    "        # Maximum number of generations, (stopping condition):\n",
    "        self.Gmax = 100\n",
    "        # Sizes of various populations:\n",
    "        self.Na = 20\n",
    "        self.Nd = 100\n",
    "        self.Nc = 100\n",
    "        self.TD_size = 110\n",
    "        self.P_init_size = 200\n",
    "        # Number of bands to be selected:\n",
    "        self.bands_per_antibody = None\n",
    "        # Paths to data, labels and destination directory:\n",
    "        self.data_path = None\n",
    "        self.ref_map_path = None\n",
    "        self.dest_path = None\n",
    "\n",
    "\n",
    "# Bands taken from the paper:\n",
    "BOMBS_salinas = [12, 19, 25, 35, 45, 50, 58, 64, 73, 78, 94, 104, 116, 129, 143, 153, 163, 170, 176, 184, 194]\n",
    "BOMBS_paviaU = [3, 7, 19, 22, 31, 37, 42, 50, 57, 62, 69, 74, 76, 83, 86, 89, 93, 95, 98, 101]\n",
    "\n",
    "\n",
    "def get_correlation_coefficient(selected_bands, reference_bands):\n",
    "    corr_coff = np.corrcoef(np.asarray(selected_bands), np.asarray(reference_bands))\n",
    "    print(corr_coff)\n"
   ]
  },
  {
   "cell_type": "code",
   "execution_count": 31,
   "metadata": {},
   "outputs": [
    {
     "name": "stdout",
     "output_type": "stream",
     "text": [
      "PaviaU selecting 20 bands:\n"
     ]
    },
    {
     "name": "stdout",
     "output_type": "stream",
     "text": [
      "Generation: 1/2\nBands of the best individual in the whole population: [  3   7  14  16  19  33  37  38  53  72  78  79  87  88  90  91  96  97\n 100 101]\nEntropy: 6.403602525935637 Distance: 7.527976020500772\n"
     ]
    },
    {
     "name": "stdout",
     "output_type": "stream",
     "text": [
      "Generation: 2/2\nBands of the best individual in the whole population: [  1   2   3  14  16  17  22  40  44  73  74  77  84  85  89  90  92  95\n 101 102]\nEntropy: 6.340800976739221 Distance: 7.569086774978274\n"
     ]
    },
    {
     "name": "stdout",
     "output_type": "stream",
     "text": [
      "Bail...\nFinal 20 selected bands:\nBands of the best individual in the whole population: [  1   2   3  14  16  17  22  40  44  73  74  77  84  85  89  90  92  95\n 101 102]\nEntropy: 6.340800976739221 Distance: 7.569086774978274\n[[1.         0.97996451]\n [0.97996451 1.        ]]\n"
     ]
    }
   ],
   "source": [
    "print('PaviaU selecting 20 bands:')\n",
    "args = Args()\n",
    "args.data_path = r'C:\\Users\\ltulczyjew\\Desktop\\data\\PaviaU.mat'\n",
    "args.ref_map_path = r'C:\\Users\\ltulczyjew\\Desktop\\data\\PaviaU_gt.mat'\n",
    "args.dest_path = r'C:\\Users\\ltulczyjew\\Desktop\\results'\n",
    "args.bands_per_antibody = 20\n",
    "args.Gmax = 2\n",
    "run(args=args)\n",
    "\n",
    "selected_bands = np.loadtxt(os.path.join(args.dest_path, 'best_individual_bands')).astype(int)\n",
    "get_correlation_coefficient(selected_bands, BOMBS_paviaU)\n"
   ]
  },
  {
   "cell_type": "code",
   "execution_count": 27,
   "metadata": {},
   "outputs": [
    {
     "name": "stdout",
     "output_type": "stream",
     "text": [
      "Salinas selecting 21 bands:\n"
     ]
    },
    {
     "name": "stdout",
     "output_type": "stream",
     "text": [
      "Generation: 1/2\nBands of the best individual in the whole population: [  4  10  13  21  30  31  51  52  62  73  75  89  93  95 104 118 134 138\n 169 179 182]\nEntropy: 6.270779842295538 Distance: 7.9766599770807485\n"
     ]
    },
    {
     "name": "stdout",
     "output_type": "stream",
     "text": [
      "Generation: 2/2\nBands of the best individual in the whole population: [  4  10  13  21  31  34  50  51  61  72  74  91  92  93 102 116 131 139\n 170 180 182]\nEntropy: 6.312307785212983 Distance: 8.04039273901933\n"
     ]
    },
    {
     "name": "stdout",
     "output_type": "stream",
     "text": [
      "Bail...\nFinal 21 selected bands:\nBands of the best individual in the whole population: [  4  10  13  21  31  34  50  51  61  72  74  91  92  93 102 116 131 139\n 170 180 182]\nEntropy: 6.312307785212983 Distance: 8.04039273901933\n[[1.         0.98244282]\n [0.98244282 1.        ]]\n"
     ]
    }
   ],
   "source": [
    "print('Salinas selecting 21 bands:')\n",
    "args = Args()\n",
    "args.data_path = r'C:\\Users\\ltulczyjew\\Desktop\\data\\Salinas.mat'\n",
    "args.ref_map_path = r'C:\\Users\\ltulczyjew\\Desktop\\data\\Salinas_gt.mat'\n",
    "args.dest_path = r'C:\\Users\\ltulczyjew\\Desktop\\results'\n",
    "args.bands_per_antibody = 21\n",
    "args.Gmax = 2\n",
    "run(args=args)\n",
    "\n",
    "selected_bands = np.loadtxt(os.path.join(args.dest_path, 'best_individual_bands')).astype(int)\n",
    "get_correlation_coefficient(selected_bands, BOMBS_salinas)\n"
   ]
  },
  {
   "cell_type": "code",
   "execution_count": null,
   "metadata": {},
   "outputs": [],
   "source": []
  }
 ],
 "metadata": {
  "kernelspec": {
   "display_name": "Python 2",
   "language": "python",
   "name": "python2"
  },
  "language_info": {
   "codemirror_mode": {
    "name": "ipython",
    "version": 2
   },
   "file_extension": ".py",
   "mimetype": "text/x-python",
   "name": "python",
   "nbconvert_exporter": "python",
   "pygments_lexer": "ipython2",
   "version": "2.7.6"
  }
 },
 "nbformat": 4,
 "nbformat_minor": 0
}
