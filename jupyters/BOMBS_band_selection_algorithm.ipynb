{
 "cells": [
  {
   "cell_type": "code",
   "execution_count": 3,
   "metadata": {},
   "outputs": [],
   "source": [
    "import os\n",
    "\n",
    "import numpy as np\n",
    "\n",
    "from python_research.experiments.band_selection_algorithms.BOMBS.runner import run\n",
    "\n",
    "\n",
    "class Args(object):\n",
    "    \"\"\"\n",
    "    Class containing arguments for running BOMBS selection algorithm.\n",
    "    The default values are taken from the document itself.\n",
    "    \"\"\"\n",
    "    def __init__(self):\n",
    "        # Total number of generations:\n",
    "        self.G = 999999999\n",
    "        # Maximum number of generations, (stopping condition):\n",
    "        self.Gmax = 100\n",
    "        # Sizes of various populations:\n",
    "        self.Na = 20\n",
    "        self.Nd = 100\n",
    "        self.Nc = 100\n",
    "        self.TD_size = 110\n",
    "        self.P_init_size = 200\n",
    "        # Number of bands to be selected:\n",
    "        self.bands_per_antibody = None\n",
    "        # Paths to data, labels and destination directory:\n",
    "        self.data_path = None\n",
    "        self.ref_map_path = None\n",
    "        self.dest_path = None\n",
    "\n",
    "\n",
    "# Bands taken from the paper:\n",
    "BOMBS_salinas = [12, 19, 25, 35, 45, 50, 58, 64, 73, 78, 94, 104, 116, 129, 143, 153, 163, 170, 176, 184, 194]\n",
    "BOMBS_paviaU = [3, 7, 19, 22, 31, 37, 42, 50, 57, 62, 69, 74, 76, 83, 86, 89, 93, 95, 98, 101]\n",
    "\n",
    "\n",
    "def get_correlation_coefficient(selected_bands, reference_bands):\n",
    "    corr_coff = np.corrcoef(np.asarray(selected_bands), np.asarray(reference_bands))\n",
    "    print(corr_coff)\n"
   ]
  },
  {
   "cell_type": "code",
   "execution_count": 31,
   "metadata": {},
   "outputs": [
    {
     "name": "stdout",
     "output_type": "stream",
     "text": [
      "PaviaU selecting 20 bands:\n"
     ]
    },
    {
     "name": "stdout",
     "output_type": "stream",
     "text": [
      "Generation: 1/2\nBands of the best individual in the whole population: [  3   7  14  16  19  33  37  38  53  72  78  79  87  88  90  91  96  97\n 100 101]\nEntropy: 6.403602525935637 Distance: 7.527976020500772\n"
     ]
    },
    {
     "name": "stdout",
     "output_type": "stream",
     "text": [
      "Generation: 2/2\nBands of the best individual in the whole population: [  1   2   3  14  16  17  22  40  44  73  74  77  84  85  89  90  92  95\n 101 102]\nEntropy: 6.340800976739221 Distance: 7.569086774978274\n"
     ]
    },
    {
     "name": "stdout",
     "output_type": "stream",
     "text": [
      "Bail...\nFinal 20 selected bands:\nBands of the best individual in the whole population: [  1   2   3  14  16  17  22  40  44  73  74  77  84  85  89  90  92  95\n 101 102]\nEntropy: 6.340800976739221 Distance: 7.569086774978274\n[[1.         0.97996451]\n [0.97996451 1.        ]]\n"
     ]
    }
   ],
   "source": [
    "print('PaviaU selecting 20 bands:')\n",
    "args = Args()\n",
    "args.data_path = r'C:\\Users\\ltulczyjew\\Desktop\\data\\PaviaU.mat'\n",
    "args.ref_map_path = r'C:\\Users\\ltulczyjew\\Desktop\\data\\PaviaU_gt.mat'\n",
    "args.dest_path = r'C:\\Users\\ltulczyjew\\Desktop\\results'\n",
    "args.bands_per_antibody = 20\n",
    "args.Gmax = 2\n",
    "run(args=args)\n",
    "\n",
    "selected_bands = np.loadtxt(os.path.join(args.dest_path, 'best_individual_bands')).astype(int)\n",
    "get_correlation_coefficient(selected_bands, BOMBS_paviaU)\n"
   ]
  },
  {
   "cell_type": "code",
   "execution_count": 4,
   "metadata": {},
   "outputs": [
    {
     "name": "stdout",
     "output_type": "stream",
     "text": [
      "Salinas selecting 21 bands:\n"
     ]
    },
    {
     "name": "stdout",
     "output_type": "stream",
     "text": [
      "Generation: 1/2\nBands of the best individual in the whole population: [ 16  23  31  47  58  83  88  91  98 105 120 134 147 175 182 187 190 191\n 195 204 213]\nEntropy: 6.341301939479614 Distance: 7.831044735456097\n"
     ]
    },
    {
     "name": "stdout",
     "output_type": "stream",
     "text": [
      "Generation: 2/2\nBands of the best individual in the whole population: [ 16  23  31  47  58  83  88  91  98 105 120 134 147 175 182 187 190 191\n 195 204 213]\nEntropy: 6.341301939479614 Distance: 7.831044735456097\n"
     ]
    },
    {
     "ename": "KeyboardInterrupt",
     "evalue": "",
     "traceback": [
      "\u001b[1;31m---------------------------------------------------------------------------\u001b[0m",
      "\u001b[1;31mKeyboardInterrupt\u001b[0m                         Traceback (most recent call last)",
      "\u001b[1;32m<ipython-input-4-aa64113e6714>\u001b[0m in \u001b[0;36m<module>\u001b[1;34m\u001b[0m\n\u001b[0;32m      6\u001b[0m \u001b[0margs\u001b[0m\u001b[1;33m.\u001b[0m\u001b[0mbands_per_antibody\u001b[0m \u001b[1;33m=\u001b[0m \u001b[1;36m21\u001b[0m\u001b[1;33m\u001b[0m\u001b[1;33m\u001b[0m\u001b[0m\n\u001b[0;32m      7\u001b[0m \u001b[0margs\u001b[0m\u001b[1;33m.\u001b[0m\u001b[0mGmax\u001b[0m \u001b[1;33m=\u001b[0m \u001b[1;36m2\u001b[0m\u001b[1;33m\u001b[0m\u001b[1;33m\u001b[0m\u001b[0m\n\u001b[1;32m----> 8\u001b[1;33m \u001b[0mrun\u001b[0m\u001b[1;33m(\u001b[0m\u001b[0margs\u001b[0m\u001b[1;33m=\u001b[0m\u001b[0margs\u001b[0m\u001b[1;33m)\u001b[0m\u001b[1;33m\u001b[0m\u001b[1;33m\u001b[0m\u001b[0m\n\u001b[0m\u001b[0;32m      9\u001b[0m \u001b[1;33m\u001b[0m\u001b[0m\n\u001b[0;32m     10\u001b[0m \u001b[0mselected_bands\u001b[0m \u001b[1;33m=\u001b[0m \u001b[0mnp\u001b[0m\u001b[1;33m.\u001b[0m\u001b[0mloadtxt\u001b[0m\u001b[1;33m(\u001b[0m\u001b[0mos\u001b[0m\u001b[1;33m.\u001b[0m\u001b[0mpath\u001b[0m\u001b[1;33m.\u001b[0m\u001b[0mjoin\u001b[0m\u001b[1;33m(\u001b[0m\u001b[0margs\u001b[0m\u001b[1;33m.\u001b[0m\u001b[0mdest_path\u001b[0m\u001b[1;33m,\u001b[0m \u001b[1;34m'best_individual_bands'\u001b[0m\u001b[1;33m)\u001b[0m\u001b[1;33m)\u001b[0m\u001b[1;33m.\u001b[0m\u001b[0mastype\u001b[0m\u001b[1;33m(\u001b[0m\u001b[0mint\u001b[0m\u001b[1;33m)\u001b[0m\u001b[1;33m\u001b[0m\u001b[1;33m\u001b[0m\u001b[0m\n",
      "\u001b[1;32m~\\Desktop\\software\\python_research\\experiments\\band_selection_algorithms\\BOMBS\\runner.py\u001b[0m in \u001b[0;36mrun\u001b[1;34m(args)\u001b[0m\n\u001b[0;32m     40\u001b[0m         \u001b[0mmodel\u001b[0m\u001b[1;33m.\u001b[0m\u001b[0mserialize_individuals\u001b[0m\u001b[1;33m(\u001b[0m\u001b[1;33m)\u001b[0m\u001b[1;33m\u001b[0m\u001b[1;33m\u001b[0m\u001b[0m\n\u001b[0;32m     41\u001b[0m         \u001b[0mmodel\u001b[0m\u001b[1;33m.\u001b[0m\u001b[0mactive_population_selection\u001b[0m\u001b[1;33m(\u001b[0m\u001b[1;33m)\u001b[0m\u001b[1;33m\u001b[0m\u001b[1;33m\u001b[0m\u001b[0m\n\u001b[1;32m---> 42\u001b[1;33m         \u001b[0mmodel\u001b[0m\u001b[1;33m.\u001b[0m\u001b[0mclone_crossover_mutation\u001b[0m\u001b[1;33m(\u001b[0m\u001b[0mgeneration_idx\u001b[0m\u001b[1;33m=\u001b[0m\u001b[0mg\u001b[0m\u001b[1;33m)\u001b[0m\u001b[1;33m\u001b[0m\u001b[1;33m\u001b[0m\u001b[0m\n\u001b[0m\u001b[0;32m     43\u001b[0m         \u001b[0mmodel\u001b[0m\u001b[1;33m.\u001b[0m\u001b[0mupdate_antibody_population\u001b[0m\u001b[1;33m(\u001b[0m\u001b[1;33m)\u001b[0m\u001b[1;33m\u001b[0m\u001b[1;33m\u001b[0m\u001b[0m\n\u001b[0;32m     44\u001b[0m         \u001b[0mmodel\u001b[0m\u001b[1;33m.\u001b[0m\u001b[0mend_generation\u001b[0m\u001b[1;33m(\u001b[0m\u001b[1;33m)\u001b[0m\u001b[1;33m\u001b[0m\u001b[1;33m\u001b[0m\u001b[0m\n",
      "\u001b[1;32m~\\Desktop\\software\\python_research\\experiments\\band_selection_algorithms\\BOMBS\\immune_system_based_model.py\u001b[0m in \u001b[0;36mclone_crossover_mutation\u001b[1;34m(self, generation_idx)\u001b[0m\n\u001b[0;32m    100\u001b[0m         \"\"\"\n\u001b[0;32m    101\u001b[0m         \u001b[0mself\u001b[0m\u001b[1;33m.\u001b[0m\u001b[0mproportional_cloning\u001b[0m\u001b[1;33m(\u001b[0m\u001b[1;33m)\u001b[0m\u001b[1;33m\u001b[0m\u001b[1;33m\u001b[0m\u001b[0m\n\u001b[1;32m--> 102\u001b[1;33m         \u001b[0mself\u001b[0m\u001b[1;33m.\u001b[0m\u001b[0mwhole_arithmetic_crossover\u001b[0m\u001b[1;33m(\u001b[0m\u001b[1;33m)\u001b[0m\u001b[1;33m\u001b[0m\u001b[1;33m\u001b[0m\u001b[0m\n\u001b[0m\u001b[0;32m    103\u001b[0m         \u001b[0mself\u001b[0m\u001b[1;33m.\u001b[0m\u001b[0mheterogeneous_mutation\u001b[0m\u001b[1;33m(\u001b[0m\u001b[0mgeneration_idx\u001b[0m\u001b[1;33m)\u001b[0m\u001b[1;33m\u001b[0m\u001b[1;33m\u001b[0m\u001b[0m\n\u001b[0;32m    104\u001b[0m \u001b[1;33m\u001b[0m\u001b[0m\n",
      "\u001b[1;32m~\\Desktop\\software\\python_research\\experiments\\band_selection_algorithms\\BOMBS\\immune_system_based_model.py\u001b[0m in \u001b[0;36mwhole_arithmetic_crossover\u001b[1;34m(self)\u001b[0m\n\u001b[0;32m    142\u001b[0m             \u001b[0mgamma\u001b[0m \u001b[1;33m=\u001b[0m \u001b[0mnp\u001b[0m\u001b[1;33m.\u001b[0m\u001b[0mrandom\u001b[0m\u001b[1;33m.\u001b[0m\u001b[0mrandint\u001b[0m\u001b[1;33m(\u001b[0m\u001b[0mlow\u001b[0m\u001b[1;33m=\u001b[0m\u001b[1;36m0\u001b[0m\u001b[1;33m,\u001b[0m \u001b[0mhigh\u001b[0m\u001b[1;33m=\u001b[0m\u001b[1;36m2\u001b[0m\u001b[1;33m,\u001b[0m \u001b[0mdtype\u001b[0m\u001b[1;33m=\u001b[0m\u001b[0mint\u001b[0m\u001b[1;33m)\u001b[0m\u001b[1;33m\u001b[0m\u001b[1;33m\u001b[0m\u001b[0m\n\u001b[0;32m    143\u001b[0m             \u001b[0mantibody\u001b[0m \u001b[1;33m=\u001b[0m \u001b[0ma_i\u001b[0m \u001b[1;33m*\u001b[0m \u001b[0mgamma\u001b[0m \u001b[1;33m+\u001b[0m \u001b[0mc_j\u001b[0m \u001b[1;33m*\u001b[0m \u001b[1;33m(\u001b[0m\u001b[1;36m1\u001b[0m \u001b[1;33m-\u001b[0m \u001b[0mgamma\u001b[0m\u001b[1;33m)\u001b[0m\u001b[1;33m\u001b[0m\u001b[1;33m\u001b[0m\u001b[0m\n\u001b[1;32m--> 144\u001b[1;33m             \u001b[0mantibody\u001b[0m \u001b[1;33m=\u001b[0m \u001b[0mself\u001b[0m\u001b[1;33m.\u001b[0m\u001b[0m_copy\u001b[0m\u001b[1;33m(\u001b[0m\u001b[0mantibody\u001b[0m\u001b[1;33m.\u001b[0m\u001b[0mbands_ids\u001b[0m\u001b[1;33m.\u001b[0m\u001b[0mcopy\u001b[0m\u001b[1;33m(\u001b[0m\u001b[1;33m)\u001b[0m\u001b[1;33m)\u001b[0m\u001b[1;33m\u001b[0m\u001b[1;33m\u001b[0m\u001b[0m\n\u001b[0m\u001b[0;32m    145\u001b[0m             \u001b[0mself\u001b[0m\u001b[1;33m.\u001b[0m\u001b[0mC_prime\u001b[0m\u001b[1;33m.\u001b[0m\u001b[0mappend\u001b[0m\u001b[1;33m(\u001b[0m\u001b[0mantibody\u001b[0m\u001b[1;33m)\u001b[0m\u001b[1;33m\u001b[0m\u001b[1;33m\u001b[0m\u001b[0m\n\u001b[0;32m    146\u001b[0m \u001b[1;33m\u001b[0m\u001b[0m\n",
      "\u001b[1;32m~\\Desktop\\software\\python_research\\experiments\\band_selection_algorithms\\BOMBS\\immune_system_based_model.py\u001b[0m in \u001b[0;36m_copy\u001b[1;34m(self, bands_ids, deep)\u001b[0m\n\u001b[0;32m     84\u001b[0m         \"\"\"\n\u001b[0;32m     85\u001b[0m         antibody_copy = Antibody(selected_bands=load_data(self.args.data_path,\n\u001b[1;32m---> 86\u001b[1;33m                                                           self.args.ref_map_path)[..., np.unique(bands_ids)],\n\u001b[0m\u001b[0;32m     87\u001b[0m                                  \u001b[0mbands_ids\u001b[0m\u001b[1;33m=\u001b[0m\u001b[0mbands_ids\u001b[0m\u001b[1;33m,\u001b[0m\u001b[1;33m\u001b[0m\u001b[1;33m\u001b[0m\u001b[0m\n\u001b[0;32m     88\u001b[0m                                  data_path=self.args.data_path, ref_map_path=self.args.ref_map_path)\n",
      "\u001b[1;32m~\\Desktop\\software\\python_research\\experiments\\band_selection_algorithms\\BOMBS\\utils.py\u001b[0m in \u001b[0;36mload_data\u001b[1;34m(path, ref_map_path, drop_bg)\u001b[0m\n\u001b[0;32m    129\u001b[0m     \u001b[1;32massert\u001b[0m \u001b[0mdata\u001b[0m \u001b[1;32mis\u001b[0m \u001b[1;32mnot\u001b[0m \u001b[1;32mNone\u001b[0m \u001b[1;32mand\u001b[0m \u001b[0mref_map_path\u001b[0m \u001b[1;32mis\u001b[0m \u001b[1;32mnot\u001b[0m \u001b[1;32mNone\u001b[0m\u001b[1;33m,\u001b[0m \u001b[1;34m'There is no data to be loaded.'\u001b[0m\u001b[1;33m\u001b[0m\u001b[1;33m\u001b[0m\u001b[0m\n\u001b[0;32m    130\u001b[0m     \u001b[0mdata\u001b[0m \u001b[1;33m=\u001b[0m \u001b[0mdata\u001b[0m\u001b[1;33m.\u001b[0m\u001b[0mastype\u001b[0m\u001b[1;33m(\u001b[0m\u001b[0mfloat\u001b[0m\u001b[1;33m)\u001b[0m\u001b[1;33m\u001b[0m\u001b[1;33m\u001b[0m\u001b[0m\n\u001b[1;32m--> 131\u001b[1;33m     \u001b[0mmin_\u001b[0m \u001b[1;33m=\u001b[0m \u001b[0mnp\u001b[0m\u001b[1;33m.\u001b[0m\u001b[0mamin\u001b[0m\u001b[1;33m(\u001b[0m\u001b[0mdata\u001b[0m\u001b[1;33m)\u001b[0m\u001b[1;33m\u001b[0m\u001b[1;33m\u001b[0m\u001b[0m\n\u001b[0m\u001b[0;32m    132\u001b[0m     \u001b[0mmax_\u001b[0m \u001b[1;33m=\u001b[0m \u001b[0mnp\u001b[0m\u001b[1;33m.\u001b[0m\u001b[0mamax\u001b[0m\u001b[1;33m(\u001b[0m\u001b[0mdata\u001b[0m\u001b[1;33m)\u001b[0m\u001b[1;33m\u001b[0m\u001b[1;33m\u001b[0m\u001b[0m\n\u001b[0;32m    133\u001b[0m     \u001b[0mdata\u001b[0m \u001b[1;33m=\u001b[0m \u001b[1;33m(\u001b[0m\u001b[0mdata\u001b[0m \u001b[1;33m-\u001b[0m \u001b[0mmin_\u001b[0m\u001b[1;33m)\u001b[0m \u001b[1;33m/\u001b[0m \u001b[1;33m(\u001b[0m\u001b[0mmax_\u001b[0m \u001b[1;33m-\u001b[0m \u001b[0mmin_\u001b[0m\u001b[1;33m)\u001b[0m\u001b[1;33m\u001b[0m\u001b[1;33m\u001b[0m\u001b[0m\n",
      "\u001b[1;32m~\\AppData\\Local\\Continuum\\anaconda3\\lib\\site-packages\\numpy\\core\\fromnumeric.py\u001b[0m in \u001b[0;36mamin\u001b[1;34m(a, axis, out, keepdims, initial)\u001b[0m\n\u001b[0;32m   2440\u001b[0m     \"\"\"\n\u001b[0;32m   2441\u001b[0m     return _wrapreduction(a, np.minimum, 'min', axis, None, out, keepdims=keepdims,\n\u001b[1;32m-> 2442\u001b[1;33m                           initial=initial)\n\u001b[0m\u001b[0;32m   2443\u001b[0m \u001b[1;33m\u001b[0m\u001b[0m\n\u001b[0;32m   2444\u001b[0m \u001b[1;33m\u001b[0m\u001b[0m\n",
      "\u001b[1;32m~\\AppData\\Local\\Continuum\\anaconda3\\lib\\site-packages\\numpy\\core\\fromnumeric.py\u001b[0m in \u001b[0;36m_wrapreduction\u001b[1;34m(obj, ufunc, method, axis, dtype, out, **kwargs)\u001b[0m\n\u001b[0;32m     81\u001b[0m                 \u001b[1;32mreturn\u001b[0m \u001b[0mreduction\u001b[0m\u001b[1;33m(\u001b[0m\u001b[0maxis\u001b[0m\u001b[1;33m=\u001b[0m\u001b[0maxis\u001b[0m\u001b[1;33m,\u001b[0m \u001b[0mout\u001b[0m\u001b[1;33m=\u001b[0m\u001b[0mout\u001b[0m\u001b[1;33m,\u001b[0m \u001b[1;33m**\u001b[0m\u001b[0mpasskwargs\u001b[0m\u001b[1;33m)\u001b[0m\u001b[1;33m\u001b[0m\u001b[1;33m\u001b[0m\u001b[0m\n\u001b[0;32m     82\u001b[0m \u001b[1;33m\u001b[0m\u001b[0m\n\u001b[1;32m---> 83\u001b[1;33m     \u001b[1;32mreturn\u001b[0m \u001b[0mufunc\u001b[0m\u001b[1;33m.\u001b[0m\u001b[0mreduce\u001b[0m\u001b[1;33m(\u001b[0m\u001b[0mobj\u001b[0m\u001b[1;33m,\u001b[0m \u001b[0maxis\u001b[0m\u001b[1;33m,\u001b[0m \u001b[0mdtype\u001b[0m\u001b[1;33m,\u001b[0m \u001b[0mout\u001b[0m\u001b[1;33m,\u001b[0m \u001b[1;33m**\u001b[0m\u001b[0mpasskwargs\u001b[0m\u001b[1;33m)\u001b[0m\u001b[1;33m\u001b[0m\u001b[1;33m\u001b[0m\u001b[0m\n\u001b[0m\u001b[0;32m     84\u001b[0m \u001b[1;33m\u001b[0m\u001b[0m\n\u001b[0;32m     85\u001b[0m \u001b[1;33m\u001b[0m\u001b[0m\n",
      "\u001b[1;31mKeyboardInterrupt\u001b[0m: "
     ],
     "output_type": "error"
    }
   ],
   "source": [
    "print('Salinas selecting 21 bands:')\n",
    "args = Args()\n",
    "args.data_path = r'C:\\Users\\ltulczyjew\\Desktop\\data\\Salinas.mat'\n",
    "args.ref_map_path = r'C:\\Users\\ltulczyjew\\Desktop\\data\\Salinas_gt.mat'\n",
    "args.dest_path = r'C:\\Users\\ltulczyjew\\Desktop\\results'\n",
    "args.bands_per_antibody = 21\n",
    "args.Gmax = 2\n",
    "run(args=args)\n",
    "\n",
    "selected_bands = np.loadtxt(os.path.join(args.dest_path, 'best_individual_bands')).astype(int)\n",
    "get_correlation_coefficient(selected_bands, BOMBS_salinas)\n"
   ]
  },
  {
   "cell_type": "code",
   "execution_count": null,
   "metadata": {},
   "outputs": [],
   "source": []
  }
 ],
 "metadata": {
  "kernelspec": {
   "display_name": "Python 2",
   "language": "python",
   "name": "python2"
  },
  "language_info": {
   "codemirror_mode": {
    "name": "ipython",
    "version": 2
   },
   "file_extension": ".py",
   "mimetype": "text/x-python",
   "name": "python",
   "nbconvert_exporter": "python",
   "pygments_lexer": "ipython2",
   "version": "2.7.6"
  }
 },
 "nbformat": 4,
 "nbformat_minor": 0
}
