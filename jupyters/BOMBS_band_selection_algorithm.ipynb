{
 "cells": [
  {
   "cell_type": "code",
   "execution_count": null,
   "metadata": {},
   "outputs": [],
   "source": [
    "import os\n",
    "\n",
    "DATA_DIR = os.getenv(\"HYPERNET_DATA_DIR\", os.path.join(\"..\", \"..\", \"hypernet-data\"))\n",
    "RESULTS_DIR = os.path.join(\n",
    "    os.getenv(\"HYPERNET_RESULTS_DIR\", os.path.join(\"..\", \"..\", \"hypernet-data\", \"results\")),\n",
    "    \"bombs\"\n",
    ")\n"
   ]
  },
  {
   "cell_type": "code",
   "execution_count": null,
   "metadata": {},
   "outputs": [],
   "source": [
    "from python_research.experiments.band_selection_algorithms.bombs.runner import main\n",
    "from python_research.experiments.band_selection_algorithms.bombs.utils import Arguments\n",
    "\n",
    "arguments = Arguments(\n",
    "    bands_per_antibody=10,\n",
    "    data_path=os.path.join(DATA_DIR, \"PaviaU_corrected.npy\"),\n",
    "    ref_map_path=os.path.join(DATA_DIR, \"PaviaU_gt.npy\"),\n",
    "    dest_path=RESULTS_DIR,\n",
    "    Gmax=2,\n",
    "    Na=20,\n",
    "    Nd=100,\n",
    "    Nc=100,\n",
    "    TD_size=110,\n",
    "    P_init_size=200,\n",
    ")\n",
    "main(args=arguments)\n"
   ]
  }
 ],
 "metadata": {
  "kernelspec": {
   "display_name": "Python 3",
   "language": "python",
   "name": "python3"
  },
  "language_info": {
   "codemirror_mode": {
    "name": "ipython",
    "version": 3
   },
   "file_extension": ".py",
   "mimetype": "text/x-python",
   "name": "python",
   "nbconvert_exporter": "python",
   "pygments_lexer": "ipython3",
   "version": "3.6.6"
  }
 },
 "nbformat": 4,
 "nbformat_minor": 1
}
