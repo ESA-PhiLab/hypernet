{
 "cells": [
  {
   "cell_type": "code",
   "execution_count": null,
   "metadata": {},
   "outputs": [],
   "source": [
    "from python_research.experiments.band_selection_algorithms.BOMBS.runner import run\n",
    "\n",
    "\n",
    "class Args(object):\n",
    "    def __init__(self):\n",
    "        self.G = 999999999\n",
    "        # Max. number of generations:\n",
    "        self.Gmax = 100\n",
    "        # Sizes of populations:\n",
    "        self.Na = 20\n",
    "        self.Nd = 100\n",
    "        self.Nc = 100\n",
    "        self.TD_size = 110\n",
    "        self.P_init_size = 200\n",
    "        # Number of selected bands:\n",
    "        self.bands_per_antibody = 21\n",
    "        self.data_path = r'C:\\Users\\ltulczyjew\\Desktop\\Band_Selection_Algorithms\\data\\Salinas_corrected.mat'\n",
    "        self.ref_map_path = r'C:\\Users\\ltulczyjew\\Desktop\\Band_Selection_Algorithms\\data\\Salinas_gt.mat'\n",
    "        self.dest_path = r'C:\\Users\\ltulczyjew\\Desktop\\Band_Selection_Algorithms\\selected_bands'\n"
   ]
  },
  {
   "cell_type": "code",
   "execution_count": null,
   "metadata": {},
   "outputs": [],
   "source": [
    "print('PaviaU run:')\n",
    "run(Args())\n"
   ]
  },
  {
   "cell_type": "code",
   "execution_count": null,
   "metadata": {},
   "outputs": [],
   "source": [
    "import numpy as np\n",
    "\n",
    "selected_bands = np.loadtxt(r'C:\\Users\\ltulczyjew\\Desktop\\Band_Selection_Algorithms\\selected_bands\\best_individual_bands', dtype=int)\n",
    "BOMBS_paviaU_bands = [3, 7, 19, 22, 31, 37, 42, 50, 57, 62, 69, 74, 76, 83, 86, 89, 93, 95, 98, 101]\n",
    "\n",
    "correlation = np.corrcoef(BOMBS_paviaU_bands, selected_bands)\n",
    "print(correlation)\n"
   ]
  },
  {
   "cell_type": "code",
   "execution_count": null,
   "metadata": {},
   "outputs": [],
   "source": [
    "print('Salinas run:')\n",
    "run(Args())\n"
   ]
  },
  {
   "cell_type": "code",
   "execution_count": null,
   "metadata": {},
   "outputs": [],
   "source": [
    "import numpy as np\n",
    "\n",
    "selected_bands = [7, 9, 12, 13, 17, 35, 44, 48, 54, 64, 66, 80, 81, 84, 88, 93, 98, 102, 120, 164, 199]\n",
    "salinas = [12, 19, 25, 35, 45, 50, 58, 64, 73, 78, 94, 104, 116, 129, 143, 153, 163, 170, 176, 184, 194]\n",
    "print(np.corrcoef(salinas, selected_bands))\n"
   ]
  },
  {
   "cell_type": "code",
   "execution_count": null,
   "metadata": {},
   "outputs": [],
   "source": [
    "from IPython.core.display import Image, display\n",
    "\n",
    "display(\n",
    "    Image(r'C:\\Users\\ltulczyjew\\Desktop\\results_for_bass.PNG', width=300, height=200, unconfined=True))\n"
   ]
  },
  {
   "cell_type": "code",
   "execution_count": null,
   "metadata": {},
   "outputs": [],
   "source": []
  }
 ],
 "metadata": {
  "kernelspec": {
   "display_name": "Python 2",
   "language": "python",
   "name": "python2"
  },
  "language_info": {
   "codemirror_mode": {
    "name": "ipython",
    "version": 2
   },
   "file_extension": ".py",
   "mimetype": "text/x-python",
   "name": "python",
   "nbconvert_exporter": "python",
   "pygments_lexer": "ipython2",
   "version": "2.7.6"
  }
 },
 "nbformat": 4,
 "nbformat_minor": 0
}
