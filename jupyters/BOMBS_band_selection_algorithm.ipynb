{
 "cells": [
  {
   "cell_type": "code",
   "execution_count": null,
   "metadata": {},
   "outputs": [],
   "source": [
    "import os\n",
    "\n",
    "import numpy as np\n",
    "\n",
    "from python_research.experiments.band_selection_algorithms.BOMBS.runner import run\n",
    "\n",
    "\n",
    "class Args(object):\n",
    "    \"\"\"\n",
    "    Class containing arguments for running BOMBS selection algorithm.\n",
    "    The default values are taken from the document itself.\n",
    "    \"\"\"\n",
    "    def __init__(self):\n",
    "        # Total number of generations:\n",
    "        self.G = 999999999\n",
    "        # Maximum number of generations, (stopping condition):\n",
    "        self.Gmax = 100\n",
    "        # Sizes of various populations:\n",
    "        self.Na = 20\n",
    "        self.Nd = 100\n",
    "        self.Nc = 100\n",
    "        self.TD_size = 110\n",
    "        self.P_init_size = 200\n",
    "        # Number of bands to be selected:\n",
    "        self.bands_per_antibody = None\n",
    "        # Paths to data, labels and destination directory:\n",
    "        self.data_path = None\n",
    "        self.ref_map_path = None\n",
    "        self.dest_path = None\n",
    "\n",
    "\n",
    "# Bands taken from the paper:\n",
    "BOMBS_salinas = [12, 19, 25, 35, 45, 50, 58, 64, 73, 78, 94, 104, 116, 129, 143, 153, 163, 170, 176, 184, 194]\n",
    "BOMBS_paviaU = [3, 7, 19, 22, 31, 37, 42, 50, 57, 62, 69, 74, 76, 83, 86, 89, 93, 95, 98, 101]\n",
    "\n",
    "\n",
    "def get_correlation_coefficient(selected_bands, reference_bands):\n",
    "    corr_coff = np.corrcoef(np.asarray(selected_bands), np.asarray(reference_bands))\n",
    "    print(corr_coff)\n"
   ]
  },
  {
   "cell_type": "code",
   "execution_count": null,
   "metadata": {},
   "outputs": [],
   "source": [
    "print('PaviaU selecting 20 bands:')\n",
    "args = Args()\n",
    "args.data_path = r'C:\\Users\\ltulczyjew\\Desktop\\data\\PaviaU.mat'\n",
    "args.ref_map_path = r'C:\\Users\\ltulczyjew\\Desktop\\data\\PaviaU_gt.mat'\n",
    "args.dest_path = r'C:\\Users\\ltulczyjew\\Desktop\\results'\n",
    "args.bands_per_antibody = 20\n",
    "args.Gmax = 2\n",
    "run(args=args)\n",
    "\n",
    "selected_bands = np.loadtxt(os.path.join(args.dest_path, 'best_individual_bands')).astype(int)\n",
    "get_correlation_coefficient(selected_bands, BOMBS_paviaU)\n"
   ]
  },
  {
   "cell_type": "code",
   "execution_count": null,
   "metadata": {},
   "outputs": [],
   "source": [
    "print('Salinas selecting 21 bands:')\n",
    "args = Args()\n",
    "args.data_path = r'C:\\Users\\ltulczyjew\\Desktop\\data\\Salinas.mat'\n",
    "args.ref_map_path = r'C:\\Users\\ltulczyjew\\Desktop\\data\\Salinas_gt.mat'\n",
    "args.dest_path = r'C:\\Users\\ltulczyjew\\Desktop\\results'\n",
    "args.bands_per_antibody = 21\n",
    "args.Gmax = 2\n",
    "run(args=args)\n",
    "\n",
    "selected_bands = np.loadtxt(os.path.join(args.dest_path, 'best_individual_bands')).astype(int)\n",
    "get_correlation_coefficient(selected_bands, BOMBS_salinas)\n"
   ]
  },
  {
   "cell_type": "code",
   "execution_count": null,
   "metadata": {},
   "outputs": [],
   "source": []
  }
 ],
 "metadata": {
  "kernelspec": {
   "display_name": "Python 2",
   "language": "python",
   "name": "python2"
  },
  "language_info": {
   "codemirror_mode": {
    "name": "ipython",
    "version": 2
   },
   "file_extension": ".py",
   "mimetype": "text/x-python",
   "name": "python",
   "nbconvert_exporter": "python",
   "pygments_lexer": "ipython2",
   "version": "2.7.6"
  }
 },
 "nbformat": 4,
 "nbformat_minor": 0
}
