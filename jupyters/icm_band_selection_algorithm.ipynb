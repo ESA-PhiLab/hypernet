{
 "cells": [
  {
   "cell_type": "markdown",
   "metadata": {},
   "source": [
    "#<font size=\"5\">ICM band selection algorithm runner</font>\n",
    "In order to run ICM band selection algoritm, number of arguments need to be specified.\n",
    "* `data_path` - Path to the dataset, which can be either a matlab or numpy file.\n",
    "* `ref_map_path` - Path to the reference map, i.e. the ground truth map, which can be either a matlab or numpy file.\n",
    "* `dest_path` - Destination path of the directory designed for storing artifacts.\n",
    "* `radius_size` - Radius size of the square window used for *edge-preserving filtering*.\n",
    "* `trainng_patch` - Size of the patch designed for training the SVM classifier.\n",
    "* `bands_num` - Number of bands to select."
   ]
  },
  {
   "cell_type": "code",
   "execution_count": null,
   "metadata": {},
   "outputs": [],
   "source": [
    "import os\n",
    "\n",
    "DATA_DIR = os.getenv(\"HYPERNET_DATA_DIR\", os.path.join(\"..\", \"..\", \"hypernet-data\"))\n",
    "RESULTS_DIR = os.path.join(\n",
    "    os.getenv(\"HYPERNET_RESULTS_DIR\", os.path.join(\"..\", \"..\", \"hypernet-data\", \"results\")),\n",
    "    \"icm_band_selection\"\n",
    ")\n"
   ]
  },
  {
   "cell_type": "code",
   "execution_count": null,
   "metadata": {},
   "outputs": [],
   "source": [
    "from python_research.experiments.band_selection_algorithms.icm.runner import main, Arguments\n",
    "\n",
    "arguments = Arguments(\n",
    "\n",
    "    data_path=os.path.join(DATA_DIR, \"PaviaU_corrected.npy\"),\n",
    "    ref_map_path=os.path.join(DATA_DIR, \"PaviaU_gt.npy\"),\n",
    "    dest_path=RESULTS_DIR,\n",
    "    radius_size=5,\n",
    "    training_patch=0.1,\n",
    "    bands_num=5\n",
    ")\n",
    "main(args=arguments)\n"
   ]
  }
 ],
 "metadata": {
  "kernelspec": {
   "display_name": "Python 3",
   "language": "python",
   "name": "python3"
  },
  "language_info": {
   "codemirror_mode": {
    "name": "ipython",
    "version": 3
   },
   "file_extension": ".py",
   "mimetype": "text/x-python",
   "name": "python",
   "nbconvert_exporter": "python",
   "pygments_lexer": "ipython3",
   "version": "3.6.6"
  }
 },
 "nbformat": 4,
 "nbformat_minor": 1
}
