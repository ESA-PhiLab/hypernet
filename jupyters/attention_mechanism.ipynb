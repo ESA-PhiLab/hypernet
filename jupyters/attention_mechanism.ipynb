{
 "cells": [
  {
   "cell_type": "code",
   "execution_count": null,
   "metadata": {},
   "outputs": [],
   "source": [
    "from python_research.experiments.hsi_attention.HSI.main import run\n",
    "\n",
    "\n",
    "class Args(object):\n",
    "    def __init__(self):\n",
    "        self.dataset = ''\n",
    "        self.validation_proportion = 0.1\n",
    "        self.test_proportion = 0.1\n",
    "        self.epochs = 100\n",
    "        self.patience = 5\n",
    "        self.modules = 2\n",
    "        self.output_dir = ''\n",
    "        self.batch_size = 200\n",
    "        self.uses_attention = True\n"
   ]
  },
  {
   "cell_type": "code",
   "execution_count": null,
   "metadata": {},
   "outputs": [],
   "source": [
    "args = Args()\n",
    "args.dataset = 'pavia'\n",
    "args.output_dir = r'C:\\Users\\ltulczyjew\\Desktop\\software\\python_research\\experiments\\hsi_attention\\HSI\\runners\\pavia_2_modules_run_2'\n",
    "run(args)\n"
   ]
  },
  {
   "cell_type": "code",
   "execution_count": null,
   "metadata": {},
   "outputs": [],
   "source": [
    "import pickle\n",
    "\n",
    "import matplotlib.pyplot as plt\n",
    "import numpy as np\n",
    "\n",
    "heatmaps = pickle.load(open(\n",
    "    r'C:\\Users\\ltulczyjew\\Desktop\\software\\python_research\\experiments\\hsi_attention\\HSI\\runners\\pavia_2_modules_run_2\\pavia_attention_bands.pkl',\n",
    "    'rb'))\n",
    "pass\n",
    "\n",
    "mean_ = np.mean(np.asarray(heatmaps), axis=0)\n",
    "plt.plot(mean_)\n",
    "plt.title('Averaged heatmap from the attention modules.')\n",
    "plt.xlabel('Spectral bands')\n",
    "plt.show()\n"
   ]
  },
  {
   "cell_type": "code",
   "execution_count": null,
   "metadata": {},
   "outputs": [],
   "source": []
  }
 ],
 "metadata": {
  "kernelspec": {
   "display_name": "Python 2",
   "language": "python",
   "name": "python2"
  },
  "language_info": {
   "codemirror_mode": {
    "name": "ipython",
    "version": 2
   },
   "file_extension": ".py",
   "mimetype": "text/x-python",
   "name": "python",
   "nbconvert_exporter": "python",
   "pygments_lexer": "ipython2",
   "version": "2.7.6"
  }
 },
 "nbformat": 4,
 "nbformat_minor": 0
}
