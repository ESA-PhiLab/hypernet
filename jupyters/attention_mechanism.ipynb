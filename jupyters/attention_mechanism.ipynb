{
 "cells": [
  {
   "cell_type": "markdown",
   "metadata": {},
   "source": [
    "<font size=\"5\">Attention Mechanism</font>\n",
    "=\n",
    "Attention-based network that reuses convolutional activations at different depths of a deep architecture,\n",
    "identifying the most informative regions of the spectrum.\n",
    "In order to run the model, number of arguments need to be specifed:\n",
    "* `dataset_path` - Path to the dataset which can be either a *matlab* or *numpy* file.\n",
    "* `labels_path` - Path to ground truth map which can be either a *matlab* or *numpy* file.\n",
    "* `selected_bands` - Path to the file containing selected bands, (if it is necessary, otherwise should be `None`).\n",
    "This parameter should be equal to `None` if model is using attention, (in order to avoid band selection on reduced dataset).\n",
    "* `validation` - Size of the patch for validation samples.\n",
    "* `test` - Size of the patch for test samples.\n",
    "* `epochs` - Total number of epochs.\n",
    "* `modules` - Specifies how many modules the attention-based network should have, this can be either: 2, 3 or 4.\n",
    "* `patience` - Stopping condition for the model-i.e. number of epochs without improvement.\n",
    "* `output_dir` - Path to the directory designed for storing artifacts.\n",
    "* `batch_size` - Size of the batch for the model.\n",
    "* `attn` - Specifies if model should use attention, e.g. (`yes, true, t, y, 1`) or (`no, false, f, n, 0`).\n",
    "If this arguments is *false*, model will only train and evaluate on data.\n",
    "Since the model did not engage attention modules, there will be no band selection.\n",
    "* `run_idx` - Index of the running experiment.\n",
    "* `cont` - *Contamination* parameter used in the band selection process.\n",
    "\n",
    "[Link to paper](https://arxiv.org/abs/1811.02667) "
   ]
  },
  {
   "cell_type": "code",
   "execution_count": null,
   "metadata": {},
   "outputs": [],
   "source": [
    "import os\n",
    "\n",
    "DATA_DIR = os.getenv(\"HYPERNET_DATA_DIR\", os.path.join(\"..\", \"..\", \"hypernet-data\"))\n",
    "RESULTS_DIR = os.path.join(\n",
    "    os.getenv(\"HYPERNET_RESULTS_DIR\", os.path.join(\"..\", \"..\", \"hypernet-data\", \"results\")),\n",
    "    \"attention\"\n",
    ")\n"
   ]
  },
  {
   "cell_type": "code",
   "execution_count": null,
   "metadata": {},
   "outputs": [],
   "source": [
    "from python_research.experiments.hsi_attention.arguments import Arguments\n",
    "from python_research.experiments.hsi_attention.train_attention import main\n",
    "\n",
    "arguments = Arguments(\n",
    "    dataset_path=os.path.join(DATA_DIR, \"PaviaU_corrected.npy\"),\n",
    "    labels_path=os.path.join(DATA_DIR, \"PaviaU_gt.npy\"),\n",
    "    selected_bands=None,\n",
    "    validation=0.1,\n",
    "    test=0.1,\n",
    "    epochs=9999,\n",
    "    modules=2,\n",
    "    patience=5,\n",
    "    output_dir=RESULTS_DIR,\n",
    "    batch_size=200,\n",
    "    attn=\"y\",\n",
    "    run_idx=str(1),\n",
    "    cont=0.1\n",
    ")\n",
    "\n",
    "main(args=arguments)\n"
   ]
  }
 ],
 "metadata": {
  "kernelspec": {
   "display_name": "Python 3",
   "language": "python",
   "name": "python3"
  },
  "language_info": {
   "codemirror_mode": {
    "name": "ipython",
    "version": 3
   },
   "file_extension": ".py",
   "mimetype": "text/x-python",
   "name": "python",
   "nbconvert_exporter": "python",
   "pygments_lexer": "ipython3",
   "version": "3.6.6"
  }
 },
 "nbformat": 4,
 "nbformat_minor": 1
}
