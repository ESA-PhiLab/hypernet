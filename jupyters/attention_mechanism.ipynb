{
 "cells": [
  {
   "cell_type": "code",
   "execution_count": null,
   "metadata": {},
   "outputs": [],
   "source": [
    "import os\n",
    "\n",
    "DATA_DIR = os.getenv('HYPERNET_DATA_DIR', os.path.join('..', '..', 'hypernet-data'))\n",
    "RESULTS_DIR = os.path.join(os.getenv('HYPERNET_RESULTS_DIR', os.path.join('..', '..', 'hypernet-data', 'results')),\n",
    "                           'attention')"
   ]
  },
  {
   "cell_type": "code",
   "execution_count": null,
   "metadata": {},
   "outputs": [],
   "source": [
    "class Args(object):\n",
    "    def __init__(self):\n",
    "        self.dataset_path = ''\n",
    "        self.labels_path = ''\n",
    "        self.validation = 0.1\n",
    "        self.test = 0.1\n",
    "        self.epochs = 100\n",
    "        self.patience = 5\n",
    "        self.modules = 2\n",
    "        self.output_dir = ''\n",
    "        self.batch_size = 200\n",
    "        self.run_idx = '1'\n",
    "        self.cont = 0.05\n",
    "        self.uses_attention = True"
   ]
  },
  {
   "cell_type": "code",
   "execution_count": null,
   "metadata": {},
   "outputs": [],
   "source": [
    "from python_research.experiments.hsi_attention.main import run, eval_heatmaps\n",
    "\n",
    "args = Args()\n",
    "args.dataset_path = os.path.join(DATA_DIR, 'PaviaU_corrected.npy')\n",
    "args.labels_path = os.path.join(DATA_DIR, 'PaviaU_gt.npy')\n",
    "args.output_dir = RESULTS_DIR\n",
    "run(args)\n",
    "selected_bands = eval_heatmaps(args)\n",
    "run(args, selected_bands)"
   ]
  },
  {
   "cell_type": "code",
   "execution_count": null,
   "metadata": {},
   "outputs": [],
   "source": []
  }
 ],
 "metadata": {
  "kernelspec": {
   "display_name": "Python 3",
   "language": "python",
   "name": "python3"
  },
  "language_info": {
   "codemirror_mode": {
    "name": "ipython",
    "version": 3
   },
   "file_extension": ".py",
   "mimetype": "text/x-python",
   "name": "python",
   "nbconvert_exporter": "python",
   "pygments_lexer": "ipython3",
   "version": "3.6.6"
  }
 },
 "nbformat": 4,
 "nbformat_minor": 1
}
