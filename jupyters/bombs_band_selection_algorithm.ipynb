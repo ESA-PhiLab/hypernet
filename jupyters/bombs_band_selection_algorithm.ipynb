{
 "cells": [
  {
   "cell_type": "markdown",
   "metadata": {},
   "source": [
    "<font size=\"5\">BOMBS band selection algorithm runner</font>\n",
    "=\n",
    "In order to run BOMBS band selection algorithm, number of arguments need to be specifed.\n",
    "* `bands_per_antibody` - Number of bands to select.\n",
    "* `data_path` - Path to the dataset, which can be either a *matlab* or *numpy* file.\n",
    "* `ref_map_path` - Path to the reference map, i.e. the ground truth map, which can be either a *matlab* or *numpy* file.\n",
    "* `dest_path` - Destination path of the directory designed for storing artifacts.\n",
    "* `Gmax` - Maximum number of iterations of the algorithm-this is the stopping condition.\n",
    "* `Na` - Maximum size of active population.\n",
    "* `Nd` - Maximum size of dominant population.\n",
    "* `Nc` - Maximum size of clone population.\n",
    "* `TD_size` - Initial size of temporary dominant population.\n",
    "* `P_init_size` - Initial size of population *P*.\n",
    "\n",
    "[Link to paper](https://www.sciencedirect.com/science/article/pii/S1568494618303326)"
   ]
  },
  {
   "cell_type": "code",
   "execution_count": null,
   "metadata": {},
   "outputs": [],
   "source": [
    "import os\n",
    "\n",
    "DATA_DIR = os.getenv(\"HYPERNET_DATA_DIR\", os.path.join(\"..\", \"..\", \"hypernet-data\"))\n",
    "RESULTS_DIR = os.path.join(\n",
    "    os.getenv(\"HYPERNET_RESULTS_DIR\", os.path.join(\"..\", \"..\", \"hypernet-data\", \"results\")),\n",
    "    \"bombs_band_selection\"\n",
    ")\n"
   ]
  },
  {
   "cell_type": "code",
   "execution_count": null,
   "metadata": {},
   "outputs": [],
   "source": [
    "from python_research.experiments.band_selection_algorithms.bombs.runner import main\n",
    "from python_research.experiments.band_selection_algorithms.bombs.utils import Arguments\n",
    "\n",
    "arguments = Arguments(\n",
    "    bands_per_antibody=10,\n",
    "    data_path=os.path.join(DATA_DIR, \"PaviaU_corrected.npy\"),\n",
    "    ref_map_path=os.path.join(DATA_DIR, \"PaviaU_gt.npy\"),\n",
    "    dest_path=RESULTS_DIR,\n",
    "    Gmax=10,\n",
    "    Na=20,\n",
    "    Nd=100,\n",
    "    Nc=100,\n",
    "    TD_size=110,\n",
    "    P_init_size=200,\n",
    ")\n",
    "main(args=arguments)\n"
   ]
  }
 ],
 "metadata": {
  "kernelspec": {
   "display_name": "Python 3",
   "language": "python",
   "name": "python3"
  },
  "language_info": {
   "codemirror_mode": {
    "name": "ipython",
    "version": 3
   },
   "file_extension": ".py",
   "mimetype": "text/x-python",
   "name": "python",
   "nbconvert_exporter": "python",
   "pygments_lexer": "ipython3",
   "version": "3.6.7"
  }
 },
 "nbformat": 4,
 "nbformat_minor": 1
}
