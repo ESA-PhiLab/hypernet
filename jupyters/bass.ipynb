{
 "cells": [
  {
   "cell_type": "markdown",
   "metadata": {},
   "source": [
    "<font size=\"5\">BASS model runner</font>\n",
    "=\n",
    "In order to run BASS model, number of arguments need to be specified:\n",
    "* `run_idx` - Index of the experiment run.\n",
    "* `cont` - Path to the file containing selected bands, when training on the whole spectrum this argument should be `None`.\n",
    "* `epochs` - Total number of epochs.\n",
    "* `data_path` - Path to the dataset.\n",
    "* `data_name` - Argument used for naming the directory containing artifacts.\n",
    "* `neighborhood_size` - Size of the spatial dimensionality of samples.\n",
    "* `batch` - Size of the batch.\n",
    "* `train_size` - Number of samples per class designed for training.\n",
    "* `val_size` - Number of samples per class designed for validation.\n",
    "* `patience` - Stopping condition for the model-i.e. number of epochs without improvement.\n",
    "* `nb` - Number of convolutional blocks in the second block of the network, i.e. `14` and `5` for *Salinas Valley* and *Pavia University* respectively.\n",
    "* `in_channels` - Number of input channels for first block of the network.\n",
    "* `out_channels` - Number of output channels for first block of the network.\n",
    "* `labels_path` - Path to ground truth map which can be either a *matlab* or *numpy* file.\n",
    "* `dest_path` - Path to the directory designed for storing artifacts.\n",
    "* `classes` - Number of classes.\n",
    "\n",
    "[Link to paper](https://ieeexplore.ieee.org/abstract/document/7938656)"
   ]
  },
  {
   "cell_type": "code",
   "execution_count": null,
   "metadata": {},
   "outputs": [],
   "source": [
    "import os\n",
    "\n",
    "DATA_DIR = os.getenv(\"HYPERNET_DATA_DIR\", os.path.join(\"..\", \"..\", \"hypernet-data\"))\n",
    "RESULTS_DIR = os.path.join(\n",
    "    os.getenv(\"HYPERNET_RESULTS_DIR\", os.path.join(\"..\", \"..\", \"hypernet-data\", \"results\")),\n",
    "    \"bass\"\n",
    ")\n"
   ]
  },
  {
   "cell_type": "code",
   "execution_count": null,
   "metadata": {},
   "outputs": [],
   "source": [
    "from python_research.experiments.sota_models.bass.train_bass import main, Arguments\n",
    "\n",
    "arguments = Arguments(\n",
    "    run_idx=1,\n",
    "    cont=None,\n",
    "    epochs=999,\n",
    "    data_path=os.path.join(DATA_DIR, \"PaviaU_corrected.npy\"),\n",
    "    data_name=\"Pavia University\",\n",
    "    neighborhood_size=5,\n",
    "    batch=64,\n",
    "    train_size=250,\n",
    "    val_size=50,\n",
    "    patience=5,\n",
    "    nb=14,\n",
    "    in_channels=224,\n",
    "    out_channels=224,\n",
    "    labels_path=os.path.join(DATA_DIR, \"PaviaU_gt.npy\"),\n",
    "    dest_path=RESULTS_DIR,\n",
    "    classes=16,\n",
    ")\n",
    "\n",
    "main(args=arguments)\n"
   ]
  }
 ],
 "metadata": {
  "kernelspec": {
   "display_name": "Python 3",
   "language": "python",
   "name": "python3"
  },
  "language_info": {
   "codemirror_mode": {
    "name": "ipython",
    "version": 3
   },
   "file_extension": ".py",
   "mimetype": "text/x-python",
   "name": "python",
   "nbconvert_exporter": "python",
   "pygments_lexer": "ipython3",
   "version": "3.6.6"
  }
 },
 "nbformat": 4,
 "nbformat_minor": 1
}
