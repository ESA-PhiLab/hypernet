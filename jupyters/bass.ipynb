{
 "cells": [
  {
   "cell_type": "code",
   "execution_count": null,
   "metadata": {},
   "outputs": [],
   "source": [
    "from python_research.experiments.sota_models.bass.train_bass import main\n",
    "\n",
    "\n",
    "class Args(object):\n",
    "    \"\"\"\n",
    "    Arguments for BASS model - (Configuration 4) network.\n",
    "    \"\"\"\n",
    "    def __init__(self):\n",
    "        # Index of run:\n",
    "        self.run_idx = 1\n",
    "        # When training on GPU:\n",
    "        # self.dtype = torch.cuda.FloatTensor\n",
    "        # On CPU:\n",
    "        self.dtype = 'torch.FloatTensor'\n",
    "\n",
    "        # If we train on the whole data block, not on selected bands:\n",
    "        # self.cont = None\n",
    "        # Else, the path to file containing selected bands is passed:\n",
    "        self.cont = \\\n",
    "            r'C:\\Users\\ltulczyjew\\Desktop\\software\\python_research\\experiments\\attention_based_selected_bands\\pavia\\0.05.txt'\n",
    "\n",
    "        self.epochs = 999\n",
    "        # Path to data set:\n",
    "        self.data_set = r'C:\\Users\\ltulczyjew\\Desktop\\data\\PaviaU.mat'\n",
    "        # Path to labels:\n",
    "        self.labels = r'C:\\Users\\ltulczyjew\\Desktop\\data\\PaviaU_gt.mat'\n",
    "        self.data_name = 'Salinas'\n",
    "        self.neighbourhood_size = 5\n",
    "        self.batch = 8\n",
    "        self.patience = 10\n",
    "        # Path to the destination directory for artifacts.\n",
    "        self.dest_path = r'C:\\Users\\ltulczyjew\\Desktop\\results'\n",
    "        self.classes = 9\n",
    "        self.train_size = 200\n",
    "        self.val_size = 50\n",
    "        # Number of chunks in block 2, for Salinas = 14, PaviaU = 5:\n",
    "        self.nb = 5\n",
    "        # Number of input channels to the first block:\n",
    "        self.in_channels = 28\n",
    "        # Number of output channels in the first block:\n",
    "        self.out_channels = 100\n"
   ]
  },
  {
   "cell_type": "code",
   "execution_count": null,
   "metadata": {},
   "outputs": [],
   "source": [
    "print('PaviaU all bands:')\n",
    "main(Args())\n"
   ]
  },
  {
   "cell_type": "code",
   "execution_count": null,
   "metadata": {},
   "outputs": [],
   "source": [
    "print('Salinas all bands:')\n",
    "main(Args())\n"
   ]
  },
  {
   "cell_type": "code",
   "execution_count": null,
   "metadata": {},
   "outputs": [],
   "source": [
    "print('Salinas 28 bands:')\n",
    "main(Args())\n"
   ]
  },
  {
   "cell_type": "code",
   "execution_count": null,
   "metadata": {},
   "outputs": [],
   "source": [
    "print('PaviaU 28 bands:')\n",
    "main(Args())\n"
   ]
  },
  {
   "cell_type": "code",
   "execution_count": null,
   "metadata": {},
   "outputs": [],
   "source": []
  }
 ],
 "metadata": {
  "kernelspec": {
   "display_name": "Python 2",
   "language": "python",
   "name": "python2"
  },
  "language_info": {
   "codemirror_mode": {
    "name": "ipython",
    "version": 2
   },
   "file_extension": ".py",
   "mimetype": "text/x-python",
   "name": "python",
   "nbconvert_exporter": "python",
   "pygments_lexer": "ipython2",
   "version": "2.7.6"
  }
 },
 "nbformat": 4,
 "nbformat_minor": 0
}
