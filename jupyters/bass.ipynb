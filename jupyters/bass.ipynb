{
 "cells": [
  {
   "cell_type": "code",
   "execution_count": 4,
   "metadata": {},
   "outputs": [],
   "source": [
    "from python_research.experiments.sota_models.bass.train_bass import main\n",
    "\n",
    "\n",
    "class Args(object):\n",
    "    \"\"\"\n",
    "    Arguments for BASS model - (Configuration 4).\n",
    "    \"\"\"\n",
    "    def __init__(self):\n",
    "        # Index of run. (Used for running batch scripts.):\n",
    "        self.run_idx = None\n",
    "        # Data type used by the model:\n",
    "        # (If training on GPU and CUDA is available could be: 'torch.cuda.FloatTensor' or else.)\n",
    "        self.dtype = 'torch.FloatTensor'\n",
    "        # If training on all bands: self.cont = None\n",
    "        # If training on selected bands: self.cont is the path to file containing indexes of bands.\n",
    "        self.cont = None\n",
    "        self.epochs = 999\n",
    "        # Paths to data, labels, destination directory and data set name:\n",
    "        self.data_path = None\n",
    "        self.labels_path = None\n",
    "        self.dest_path = None\n",
    "        self.data_name = None\n",
    "        # Size of the sliding window used to create samples:\n",
    "        self.neighbourhood_size = 5\n",
    "        # Size of the batch:\n",
    "        self.batch = 4\n",
    "        # Stopping condition - number of epochs without improvement:\n",
    "        self.patience = 10\n",
    "        # Number of classes:\n",
    "        self.classes = None\n",
    "        # Sizes of training and validation sets: (Per class.)\n",
    "        self.train_size = 200\n",
    "        self.val_size = 50\n",
    "        # Number of blocks in second layer: (For Salinas: 14, PaviaU: 5)\n",
    "        self.nb = None\n",
    "        # Number of input channels to the first block:\n",
    "        self.in_channels = None\n",
    "        # Number of output channels in the first block:\n",
    "        self.out_channels = None\n"
   ]
  },
  {
   "cell_type": "code",
   "execution_count": 5,
   "metadata": {},
   "outputs": [
    {
     "name": "stdout",
     "output_type": "stream",
     "text": [
      "PaviaU all bands:\nBalanced data preparation:\n"
     ]
    },
    {
     "name": "stdout",
     "output_type": "stream",
     "text": [
      "Training -> Epoch: 0 Accuracy: 0.365 Loss: 1.599615454673767\nValidation -> Epoch: 0 Accuracy: 0.7165178571428571 Loss: 0.7842636704444885\nSaving improvement...\n"
     ]
    },
    {
     "name": "stdout",
     "output_type": "stream",
     "text": [
      "Training -> Epoch: 1 Accuracy: 0.6419039145907474 Loss: 0.8272917866706848\nValidation -> Epoch: 1 Accuracy: 0.7544642857142857 Loss: 0.5969299674034119\nSaving improvement...\n"
     ]
    },
    {
     "name": "stdout",
     "output_type": "stream",
     "text": [
      "Training -> Epoch: 2 Accuracy: 0.6743772241992882 Loss: 0.6989496350288391\nValidation -> Epoch: 2 Accuracy: 0.6919642857142857 Loss: 0.621582567691803\n"
     ]
    },
    {
     "name": "stdout",
     "output_type": "stream",
     "text": [
      "Training -> Epoch: 3 Accuracy: 0.6890569395017794 Loss: 0.6428266167640686\nValidation -> Epoch: 3 Accuracy: 0.7700892857142857 Loss: 0.5380551218986511"
     ]
    },
    {
     "name": "stdout",
     "output_type": "stream",
     "text": [
      "\nSaving improvement...\n"
     ]
    },
    {
     "name": "stdout",
     "output_type": "stream",
     "text": [
      "Training -> Epoch: 4 Accuracy: 0.7090747330960854 Loss: 0.600735068321228\nValidation -> Epoch: 4 Accuracy: 0.7723214285714286 Loss: 0.4985590875148773\nSaving improvement...\n"
     ]
    },
    {
     "name": "stdout",
     "output_type": "stream",
     "text": [
      "Training -> Epoch: 5 Accuracy: 0.7344306049822064 Loss: 0.5704877376556396\nValidation -> Epoch: 5 Accuracy: 0.7522321428571429 Loss: 0.5200324654579163\n"
     ]
    },
    {
     "name": "stdout",
     "output_type": "stream",
     "text": [
      "Training -> Epoch: 6 Accuracy: 0.728202846975089 Loss: 0.5652030110359192\nValidation -> Epoch: 6 Accuracy: 0.7857142857142857 Loss: 0.4610672891139984\nSaving improvement...\n"
     ]
    },
    {
     "name": "stdout",
     "output_type": "stream",
     "text": [
      "Training -> Epoch: 7 Accuracy: 0.7495551601423488 Loss: 0.5342236161231995\nValidation -> Epoch: 7 Accuracy: 0.7879464285714286 Loss: 0.4744545519351959\nSaving improvement...\n"
     ]
    },
    {
     "name": "stdout",
     "output_type": "stream",
     "text": [
      "Training -> Epoch: 8 Accuracy: 0.7531138790035588 Loss: 0.5058497190475464\nValidation -> Epoch: 8 Accuracy: 0.7857142857142857 Loss: 0.4351404011249542\n"
     ]
    },
    {
     "name": "stdout",
     "output_type": "stream",
     "text": [
      "Training -> Epoch: 9 Accuracy: 0.7580071174377224 Loss: 0.4871777296066284\nValidation -> Epoch: 9 Accuracy: 0.7522321428571429 Loss: 0.4777115285396576\n"
     ]
    },
    {
     "name": "stdout",
     "output_type": "stream",
     "text": [
      "Training -> Epoch: 10 Accuracy: 0.744661921708185 Loss: 0.5002482533454895\nValidation -> Epoch: 10 Accuracy: 0.8013392857142857 Loss: 0.4633495509624481\nSaving improvement...\n"
     ]
    },
    {
     "name": "stdout",
     "output_type": "stream",
     "text": [
      "Training -> Epoch: 11 Accuracy: 0.7766903914590747 Loss: 0.48124831914901733\nValidation -> Epoch: 11 Accuracy: 0.7678571428571429 Loss: 0.4463788568973541\n"
     ]
    },
    {
     "name": "stdout",
     "output_type": "stream",
     "text": [
      "Training -> Epoch: 12 Accuracy: 0.7673487544483986 Loss: 0.4775595963001251\nValidation -> Epoch: 12 Accuracy: 0.7924107142857143 Loss: 0.4104389548301697\n"
     ]
    },
    {
     "name": "stdout",
     "output_type": "stream",
     "text": [
      "Training -> Epoch: 13 Accuracy: 0.770017793594306 Loss: 0.4551810920238495\nValidation -> Epoch: 13 Accuracy: 0.7879464285714286 Loss: 0.4390159249305725\n"
     ]
    },
    {
     "name": "stdout",
     "output_type": "stream",
     "text": [
      "Training -> Epoch: 14 Accuracy: 0.7953736654804271 Loss: 0.43455320596694946\nValidation -> Epoch: 14 Accuracy: 0.8191964285714286 Loss: 0.3677442967891693\nSaving improvement...\n"
     ]
    },
    {
     "name": "stdout",
     "output_type": "stream",
     "text": [
      "Training -> Epoch: 15 Accuracy: 0.7864768683274022 Loss: 0.4177592992782593\nValidation -> Epoch: 15 Accuracy: 0.78125 Loss: 0.4019058644771576\n"
     ]
    },
    {
     "name": "stdout",
     "output_type": "stream",
     "text": [
      "Training -> Epoch: 16 Accuracy: 0.7780249110320284 Loss: 0.43339625000953674\nValidation -> Epoch: 16 Accuracy: 0.7790178571428571 Loss: 0.43524622917175293\n"
     ]
    },
    {
     "name": "stdout",
     "output_type": "stream",
     "text": [
      "Training -> Epoch: 17 Accuracy: 0.7913701067615658 Loss: 0.42788684368133545\nValidation -> Epoch: 17 Accuracy: 0.7991071428571429 Loss: 0.41938692331314087\n"
     ]
    },
    {
     "name": "stdout",
     "output_type": "stream",
     "text": [
      "Training -> Epoch: 18 Accuracy: 0.7887010676156584 Loss: 0.42671144008636475\nValidation -> Epoch: 18 Accuracy: 0.7991071428571429 Loss: 0.3808235228061676\n"
     ]
    },
    {
     "name": "stdout",
     "output_type": "stream",
     "text": [
      "Training -> Epoch: 19 Accuracy: 0.8056049822064056 Loss: 0.4001448154449463\nValidation -> Epoch: 19 Accuracy: 0.8058035714285714 Loss: 0.40148988366127014\n"
     ]
    },
    {
     "name": "stdout",
     "output_type": "stream",
     "text": [
      "Training -> Epoch: 20 Accuracy: 0.8158362989323843 Loss: 0.39545828104019165\nValidation -> Epoch: 20 Accuracy: 0.8370535714285714 Loss: 0.3758586347103119\nSaving improvement...\n"
     ]
    },
    {
     "name": "stdout",
     "output_type": "stream",
     "text": [
      "Training -> Epoch: 21 Accuracy: 0.8122775800711743 Loss: 0.40017807483673096\nValidation -> Epoch: 21 Accuracy: 0.8214285714285714 Loss: 0.39821767807006836\n"
     ]
    },
    {
     "name": "stdout",
     "output_type": "stream",
     "text": [
      "Training -> Epoch: 22 Accuracy: 0.8069395017793595 Loss: 0.40188491344451904\nValidation -> Epoch: 22 Accuracy: 0.8348214285714286 Loss: 0.36325803399086\n"
     ]
    },
    {
     "name": "stdout",
     "output_type": "stream",
     "text": [
      "Training -> Epoch: 23 Accuracy: 0.824288256227758 Loss: 0.3870810568332672\nValidation -> Epoch: 23 Accuracy: 0.8370535714285714 Loss: 0.4074738621711731\n"
     ]
    },
    {
     "name": "stdout",
     "output_type": "stream",
     "text": [
      "Training -> Epoch: 24 Accuracy: 0.8158362989323843 Loss: 0.40573909878730774\nValidation -> Epoch: 24 Accuracy: 0.8348214285714286 Loss: 0.39796462655067444\n"
     ]
    },
    {
     "name": "stdout",
     "output_type": "stream",
     "text": [
      "Training -> Epoch: 25 Accuracy: 0.8274021352313167 Loss: 0.3908759653568268\nValidation -> Epoch: 25 Accuracy: 0.8013392857142857 Loss: 0.372638076543808\n"
     ]
    },
    {
     "name": "stdout",
     "output_type": "stream",
     "text": [
      "Training -> Epoch: 26 Accuracy: 0.8149466192170819 Loss: 0.3770912289619446\nValidation -> Epoch: 26 Accuracy: 0.8169642857142857 Loss: 0.3635215163230896\n"
     ]
    },
    {
     "name": "stdout",
     "output_type": "stream",
     "text": [
      "Training -> Epoch: 27 Accuracy: 0.8300711743772242 Loss: 0.3700425922870636\nValidation -> Epoch: 27 Accuracy: 0.8169642857142857 Loss: 0.35418492555618286\n"
     ]
    },
    {
     "name": "stdout",
     "output_type": "stream",
     "text": [
      "Training -> Epoch: 28 Accuracy: 0.8305160142348754 Loss: 0.35649189352989197\nValidation -> Epoch: 28 Accuracy: 0.8080357142857143 Loss: 0.376372754573822\n"
     ]
    },
    {
     "name": "stdout",
     "output_type": "stream",
     "text": [
      "Training -> Epoch: 29 Accuracy: 0.8158362989323843 Loss: 0.3767877221107483\nValidation -> Epoch: 29 Accuracy: 0.8191964285714286 Loss: 0.38392749428749084\n"
     ]
    },
    {
     "name": "stdout",
     "output_type": "stream",
     "text": [
      "Training -> Epoch: 30 Accuracy: 0.8385231316725978 Loss: 0.3532673120498657\nValidation -> Epoch: 30 Accuracy: 0.828125 Loss: 0.41157740354537964\n"
     ]
    },
    {
     "name": "stdout",
     "output_type": "stream",
     "text": [
      "Training -> Epoch: 31 Accuracy: 0.8411921708185054 Loss: 0.3610530197620392\nValidation -> Epoch: 31 Accuracy: 0.8415178571428571 Loss: 0.3463118374347687\nSaving improvement...\n"
     ]
    },
    {
     "name": "stdout",
     "output_type": "stream",
     "text": [
      "Training -> Epoch: 32 Accuracy: 0.8416370106761566 Loss: 0.34335166215896606\nValidation -> Epoch: 32 Accuracy: 0.8459821428571429 Loss: 0.3675336539745331\nSaving improvement...\n"
     ]
    },
    {
     "name": "stdout",
     "output_type": "stream",
     "text": [
      "Training -> Epoch: 33 Accuracy: 0.8572064056939501 Loss: 0.3414109945297241\nValidation -> Epoch: 33 Accuracy: 0.828125 Loss: 0.4174337089061737\n"
     ]
    },
    {
     "name": "stdout",
     "output_type": "stream",
     "text": [
      "Training -> Epoch: 34 Accuracy: 0.8362989323843416 Loss: 0.3554264008998871\nValidation -> Epoch: 34 Accuracy: 0.8370535714285714 Loss: 0.33879733085632324\n"
     ]
    },
    {
     "name": "stdout",
     "output_type": "stream",
     "text": [
      "Training -> Epoch: 35 Accuracy: 0.8545373665480427 Loss: 0.3205854892730713\nValidation -> Epoch: 35 Accuracy: 0.8236607142857143 Loss: 0.36980628967285156"
     ]
    },
    {
     "name": "stdout",
     "output_type": "stream",
     "text": [
      "\n"
     ]
    },
    {
     "name": "stdout",
     "output_type": "stream",
     "text": [
      "Training -> Epoch: 36 Accuracy: 0.858540925266904 Loss: 0.3220268189907074\nValidation -> Epoch: 36 Accuracy: 0.8616071428571429 Loss: 0.328991562128067\nSaving improvement...\n"
     ]
    },
    {
     "name": "stdout",
     "output_type": "stream",
     "text": [
      "Training -> Epoch: 37 Accuracy: 0.854982206405694 Loss: 0.3351968824863434\nValidation -> Epoch: 37 Accuracy: 0.8191964285714286 Loss: 0.39601173996925354\n"
     ]
    },
    {
     "name": "stdout",
     "output_type": "stream",
     "text": [
      "Training -> Epoch: 38 Accuracy: 0.8518683274021353 Loss: 0.32537710666656494\nValidation -> Epoch: 38 Accuracy: 0.8370535714285714 Loss: 0.34759822487831116\n"
     ]
    },
    {
     "name": "stdout",
     "output_type": "stream",
     "text": [
      "Training -> Epoch: 39 Accuracy: 0.8634341637010676 Loss: 0.3022121489048004\nValidation -> Epoch: 39 Accuracy: 0.8571428571428571 Loss: 0.3349854052066803\n"
     ]
    },
    {
     "name": "stdout",
     "output_type": "stream",
     "text": [
      "Training -> Epoch: 40 Accuracy: 0.87144128113879 Loss: 0.28946423530578613\nValidation -> Epoch: 40 Accuracy: 0.8504464285714286 Loss: 0.3502979874610901\n"
     ]
    },
    {
     "name": "stdout",
     "output_type": "stream",
     "text": [
      "Training -> Epoch: 41 Accuracy: 0.8683274021352313 Loss: 0.30264803767204285\nValidation -> Epoch: 41 Accuracy: 0.859375 Loss: 0.35152146220207214\n"
     ]
    },
    {
     "name": "stdout",
     "output_type": "stream",
     "text": [
      "Training -> Epoch: 42 Accuracy: 0.8692170818505338 Loss: 0.312082976102829\nValidation -> Epoch: 42 Accuracy: 0.8638392857142857 Loss: 0.34220412373542786"
     ]
    },
    {
     "name": "stdout",
     "output_type": "stream",
     "text": [
      "\nSaving improvement...\n"
     ]
    },
    {
     "name": "stdout",
     "output_type": "stream",
     "text": [
      "Training -> Epoch: 43 Accuracy: 0.8776690391459074 Loss: 0.2879643738269806\nValidation -> Epoch: 43 Accuracy: 0.8348214285714286 Loss: 0.3869512975215912\n"
     ]
    },
    {
     "name": "stdout",
     "output_type": "stream",
     "text": [
      "Training -> Epoch: 44 Accuracy: 0.8798932384341637 Loss: 0.2888736128807068\nValidation -> Epoch: 44 Accuracy: 0.8727678571428571 Loss: 0.3230150640010834\nSaving improvement...\n"
     ]
    },
    {
     "name": "stdout",
     "output_type": "stream",
     "text": [
      "Training -> Epoch: 45 Accuracy: 0.8727758007117438 Loss: 0.2910673916339874\nValidation -> Epoch: 45 Accuracy: 0.8549107142857143 Loss: 0.38651901483535767\n"
     ]
    },
    {
     "name": "stdout",
     "output_type": "stream",
     "text": [
      "Training -> Epoch: 46 Accuracy: 0.8830071174377224 Loss: 0.27761122584342957\nValidation -> Epoch: 46 Accuracy: 0.8638392857142857 Loss: 0.32554641366004944\n"
     ]
    },
    {
     "name": "stdout",
     "output_type": "stream",
     "text": [
      "Training -> Epoch: 47 Accuracy: 0.8776690391459074 Loss: 0.27588000893592834\nValidation -> Epoch: 47 Accuracy: 0.8504464285714286 Loss: 0.3823147416114807\n"
     ]
    },
    {
     "name": "stdout",
     "output_type": "stream",
     "text": [
      "Training -> Epoch: 48 Accuracy: 0.8861209964412812 Loss: 0.2790685296058655\nValidation -> Epoch: 48 Accuracy: 0.8504464285714286 Loss: 0.3969534933567047\n"
     ]
    },
    {
     "name": "stdout",
     "output_type": "stream",
     "text": [
      "Training -> Epoch: 49 Accuracy: 0.8838967971530249 Loss: 0.2763488292694092\nValidation -> Epoch: 49 Accuracy: 0.859375 Loss: 0.35793188214302063\n"
     ]
    },
    {
     "name": "stdout",
     "output_type": "stream",
     "text": [
      "Training -> Epoch: 50 Accuracy: 0.8830071174377224 Loss: 0.26522913575172424\nValidation -> Epoch: 50 Accuracy: 0.8727678571428571 Loss: 0.3102385997772217\n"
     ]
    },
    {
     "name": "stdout",
     "output_type": "stream",
     "text": [
      "Training -> Epoch: 51 Accuracy: 0.8959074733096085 Loss: 0.24770455062389374\nValidation -> Epoch: 51 Accuracy: 0.859375 Loss: 0.3848804533481598\n"
     ]
    },
    {
     "name": "stdout",
     "output_type": "stream",
     "text": [
      "Training -> Epoch: 52 Accuracy: 0.8936832740213523 Loss: 0.2614094614982605\nValidation -> Epoch: 52 Accuracy: 0.8571428571428571 Loss: 0.3462623059749603\n"
     ]
    },
    {
     "name": "stdout",
     "output_type": "stream",
     "text": [
      "Training -> Epoch: 53 Accuracy: 0.895017793594306 Loss: 0.2508707344532013\nValidation -> Epoch: 53 Accuracy: 0.8839285714285714 Loss: 0.31960105895996094\nSaving improvement...\n"
     ]
    },
    {
     "name": "stdout",
     "output_type": "stream",
     "text": [
      "Training -> Epoch: 54 Accuracy: 0.8865658362989324 Loss: 0.2716030180454254\nValidation -> Epoch: 54 Accuracy: 0.8660714285714286 Loss: 0.3597237765789032\n"
     ]
    },
    {
     "name": "stdout",
     "output_type": "stream",
     "text": [
      "Training -> Epoch: 55 Accuracy: 0.8954626334519573 Loss: 0.25404128432273865\nValidation -> Epoch: 55 Accuracy: 0.8861607142857143 Loss: 0.3096667230129242\nSaving improvement...\n"
     ]
    },
    {
     "name": "stdout",
     "output_type": "stream",
     "text": [
      "Training -> Epoch: 56 Accuracy: 0.9039145907473309 Loss: 0.2395906001329422\nValidation -> Epoch: 56 Accuracy: 0.9017857142857143 Loss: 0.29200929403305054\nSaving improvement...\n"
     ]
    },
    {
     "name": "stdout",
     "output_type": "stream",
     "text": [
      "Training -> Epoch: 57 Accuracy: 0.9074733096085409 Loss: 0.24298584461212158\nValidation -> Epoch: 57 Accuracy: 0.8816964285714286 Loss: 0.3216554522514343\n"
     ]
    },
    {
     "name": "stdout",
     "output_type": "stream",
     "text": [
      "Training -> Epoch: 58 Accuracy: 0.9039145907473309 Loss: 0.24787522852420807\nValidation -> Epoch: 58 Accuracy: 0.890625 Loss: 0.3278135359287262\n"
     ]
    },
    {
     "name": "stdout",
     "output_type": "stream",
     "text": [
      "Training -> Epoch: 59 Accuracy: 0.905693950177936 Loss: 0.24031898379325867\nValidation -> Epoch: 59 Accuracy: 0.8683035714285714 Loss: 0.3681081235408783\n"
     ]
    },
    {
     "name": "stdout",
     "output_type": "stream",
     "text": [
      "Training -> Epoch: 60 Accuracy: 0.8959074733096085 Loss: 0.2569432258605957\nValidation -> Epoch: 60 Accuracy: 0.8504464285714286 Loss: 0.36763089895248413\n"
     ]
    },
    {
     "name": "stdout",
     "output_type": "stream",
     "text": [
      "Training -> Epoch: 61 Accuracy: 0.902135231316726 Loss: 0.24152149260044098\nValidation -> Epoch: 61 Accuracy: 0.8973214285714286 Loss: 0.29152730107307434\n"
     ]
    },
    {
     "name": "stdout",
     "output_type": "stream",
     "text": [
      "Training -> Epoch: 62 Accuracy: 0.9123665480427047 Loss: 0.22523392736911774\nValidation -> Epoch: 62 Accuracy: 0.8928571428571429 Loss: 0.299236536026001\n"
     ]
    },
    {
     "name": "stdout",
     "output_type": "stream",
     "text": [
      "Training -> Epoch: 63 Accuracy: 0.900355871886121 Loss: 0.23048317432403564\nValidation -> Epoch: 63 Accuracy: 0.8370535714285714 Loss: 0.49979087710380554"
     ]
    },
    {
     "name": "stdout",
     "output_type": "stream",
     "text": [
      "\n"
     ]
    },
    {
     "name": "stdout",
     "output_type": "stream",
     "text": [
      "Training -> Epoch: 64 Accuracy: 0.9052491103202847 Loss: 0.25897061824798584\nValidation -> Epoch: 64 Accuracy: 0.8727678571428571 Loss: 0.3722724914550781\n"
     ]
    },
    {
     "name": "stdout",
     "output_type": "stream",
     "text": [
      "Training -> Epoch: 65 Accuracy: 0.9070284697508897 Loss: 0.23896214365959167\nValidation -> Epoch: 65 Accuracy: 0.9017857142857143 Loss: 0.3055016100406647\n"
     ]
    },
    {
     "name": "stdout",
     "output_type": "stream",
     "text": [
      "Training -> Epoch: 66 Accuracy: 0.916814946619217 Loss: 0.22426442801952362\nValidation -> Epoch: 66 Accuracy: 0.8482142857142857 Loss: 0.44939231872558594\n"
     ]
    },
    {
     "name": "stdout",
     "output_type": "stream",
     "text": [
      "Training -> Epoch: 67 Accuracy: 0.9052491103202847 Loss: 0.23857130110263824\nValidation -> Epoch: 67 Accuracy: 0.8794642857142857 Loss: 0.332900732755661\n"
     ]
    },
    {
     "name": "stdout",
     "output_type": "stream",
     "text": [
      "Training -> Epoch: 68 Accuracy: 0.9114768683274022 Loss: 0.21211190521717072\nValidation -> Epoch: 68 Accuracy: 0.90625 Loss: 0.28835374116897583\nSaving improvement...\n"
     ]
    },
    {
     "name": "stdout",
     "output_type": "stream",
     "text": [
      "Training -> Epoch: 69 Accuracy: 0.9208185053380783 Loss: 0.20978836715221405\nValidation -> Epoch: 69 Accuracy: 0.8950892857142857 Loss: 0.328268438577652\n"
     ]
    },
    {
     "name": "stdout",
     "output_type": "stream",
     "text": [
      "Training -> Epoch: 70 Accuracy: 0.9159252669039146 Loss: 0.20839205384254456\nValidation -> Epoch: 70 Accuracy: 0.8973214285714286 Loss: 0.3008210361003876\n"
     ]
    },
    {
     "name": "stdout",
     "output_type": "stream",
     "text": [
      "Training -> Epoch: 71 Accuracy: 0.9145907473309609 Loss: 0.21637625992298126\nValidation -> Epoch: 71 Accuracy: 0.8928571428571429 Loss: 0.33826306462287903\n"
     ]
    },
    {
     "name": "stdout",
     "output_type": "stream",
     "text": [
      "Training -> Epoch: 72 Accuracy: 0.9208185053380783 Loss: 0.2139548808336258\nValidation -> Epoch: 72 Accuracy: 0.8928571428571429 Loss: 0.33197301626205444\n"
     ]
    },
    {
     "name": "stdout",
     "output_type": "stream",
     "text": [
      "Training -> Epoch: 73 Accuracy: 0.9137010676156584 Loss: 0.22589616477489471\nValidation -> Epoch: 73 Accuracy: 0.8794642857142857 Loss: 0.3763796389102936\n"
     ]
    },
    {
     "name": "stdout",
     "output_type": "stream",
     "text": [
      "Training -> Epoch: 74 Accuracy: 0.9279359430604982 Loss: 0.1909429132938385\nValidation -> Epoch: 74 Accuracy: 0.9084821428571429 Loss: 0.30786561965942383\nSaving improvement...\n"
     ]
    },
    {
     "name": "stdout",
     "output_type": "stream",
     "text": [
      "Training -> Epoch: 75 Accuracy: 0.9266014234875445 Loss: 0.18805046379566193\nValidation -> Epoch: 75 Accuracy: 0.90625 Loss: 0.29272153973579407\n"
     ]
    },
    {
     "name": "stdout",
     "output_type": "stream",
     "text": [
      "Training -> Epoch: 76 Accuracy: 0.9114768683274022 Loss: 0.22335895895957947\nValidation -> Epoch: 76 Accuracy: 0.90625 Loss: 0.31228017807006836\n"
     ]
    },
    {
     "name": "stdout",
     "output_type": "stream",
     "text": [
      "Training -> Epoch: 77 Accuracy: 0.9283807829181495 Loss: 0.18952496349811554\nValidation -> Epoch: 77 Accuracy: 0.9040178571428571 Loss: 0.29238179326057434\n"
     ]
    },
    {
     "name": "stdout",
     "output_type": "stream",
     "text": [
      "Training -> Epoch: 78 Accuracy: 0.9230427046263345 Loss: 0.18756945431232452\nValidation -> Epoch: 78 Accuracy: 0.90625 Loss: 0.31213679909706116"
     ]
    },
    {
     "name": "stdout",
     "output_type": "stream",
     "text": [
      "\n"
     ]
    },
    {
     "name": "stdout",
     "output_type": "stream",
     "text": [
      "Training -> Epoch: 79 Accuracy: 0.927491103202847 Loss: 0.18407975137233734\nValidation -> Epoch: 79 Accuracy: 0.8995535714285714 Loss: 0.3088908791542053\n"
     ]
    },
    {
     "name": "stdout",
     "output_type": "stream",
     "text": [
      "Training -> Epoch: 80 Accuracy: 0.931049822064057 Loss: 0.17903085052967072\nValidation -> Epoch: 80 Accuracy: 0.8995535714285714 Loss: 0.3545351028442383\n"
     ]
    },
    {
     "name": "stdout",
     "output_type": "stream",
     "text": [
      "Training -> Epoch: 81 Accuracy: 0.9283807829181495 Loss: 0.20093685388565063\nValidation -> Epoch: 81 Accuracy: 0.9174107142857143 Loss: 0.2715754210948944\nSaving improvement...\n"
     ]
    },
    {
     "name": "stdout",
     "output_type": "stream",
     "text": [
      "Training -> Epoch: 82 Accuracy: 0.9252669039145908 Loss: 0.20509150624275208\nValidation -> Epoch: 82 Accuracy: 0.890625 Loss: 0.3131451904773712\n"
     ]
    },
    {
     "name": "stdout",
     "output_type": "stream",
     "text": [
      "Training -> Epoch: 83 Accuracy: 0.9314946619217082 Loss: 0.18151693046092987\n"
     ]
    },
    {
     "name": "stdout",
     "output_type": "stream",
     "text": [
      "Validation -> Epoch: 83 Accuracy: 0.8772321428571429 Loss: 0.3946385383605957\n"
     ]
    },
    {
     "name": "stdout",
     "output_type": "stream",
     "text": [
      "Training -> Epoch: 84 Accuracy: 0.9346085409252669 Loss: 0.183656707406044\nValidation -> Epoch: 84 Accuracy: 0.8950892857142857 Loss: 0.34917333722114563\n"
     ]
    },
    {
     "name": "stdout",
     "output_type": "stream",
     "text": [
      "Training -> Epoch: 85 Accuracy: 0.9266014234875445 Loss: 0.20358140766620636\nValidation -> Epoch: 85 Accuracy: 0.9017857142857143 Loss: 0.3364531695842743\n"
     ]
    },
    {
     "name": "stdout",
     "output_type": "stream",
     "text": [
      "Training -> Epoch: 86 Accuracy: 0.9354982206405694 Loss: 0.18114827573299408\nValidation -> Epoch: 86 Accuracy: 0.8973214285714286 Loss: 0.3473328649997711\n"
     ]
    },
    {
     "name": "stdout",
     "output_type": "stream",
     "text": [
      "Training -> Epoch: 87 Accuracy: 0.9319395017793595 Loss: 0.19103842973709106\n"
     ]
    },
    {
     "name": "stdout",
     "output_type": "stream",
     "text": [
      "Validation -> Epoch: 87 Accuracy: 0.9129464285714286 Loss: 0.30378293991088867\n"
     ]
    },
    {
     "name": "stdout",
     "output_type": "stream",
     "text": [
      "Training -> Epoch: 88 Accuracy: 0.9346085409252669 Loss: 0.17391911149024963\nValidation -> Epoch: 88 Accuracy: 0.8816964285714286 Loss: 0.39293283224105835\n"
     ]
    },
    {
     "name": "stdout",
     "output_type": "stream",
     "text": [
      "Training -> Epoch: 89 Accuracy: 0.9248220640569395 Loss: 0.19997024536132812\nValidation -> Epoch: 89 Accuracy: 0.9017857142857143 Loss: 0.3299064040184021\n"
     ]
    },
    {
     "name": "stdout",
     "output_type": "stream",
     "text": [
      "Training -> Epoch: 90 Accuracy: 0.9332740213523132 Loss: 0.18276013433933258\nValidation -> Epoch: 90 Accuracy: 0.9084821428571429 Loss: 0.3465476632118225\n"
     ]
    },
    {
     "name": "stdout",
     "output_type": "stream",
     "text": [
      "Training -> Epoch: 91 Accuracy: 0.9332740213523132 Loss: 0.19807182252407074\nValidation -> Epoch: 91 Accuracy: 0.8928571428571429 Loss: 0.35678592324256897\n"
     ]
    },
    {
     "name": "stdout",
     "output_type": "stream",
     "text": [
      "Testing -> Accuracy: 0.9011479591836735 Loss: 0.3093036711215973\nSaving test results...\n"
     ]
    }
   ],
   "source": [
    "print('PaviaU all bands:')\n",
    "args = Args()\n",
    "args.data_path = r'C:\\Users\\ltulczyjew\\Desktop\\data\\PaviaU.mat'\n",
    "args.labels_path= r'C:\\Users\\ltulczyjew\\Desktop\\data\\PaviaU_gt.mat'\n",
    "args.dest_path = r'C:\\Users\\ltulczyjew\\Desktop\\results'\n",
    "args.classes = 9\n",
    "args.cont = None\n",
    "args.in_channels = 103\n",
    "args.out_channels = 100\n",
    "args.nb = 5\n",
    "args.data_name = 'PaviaU'\n",
    "args.run_idx = 1\n",
    "main(args=args)\n"
   ]
  },
  {
   "cell_type": "code",
   "execution_count": 7,
   "metadata": {},
   "outputs": [
    {
     "name": "stdout",
     "output_type": "stream",
     "text": [
      "Salinas 28 bands:\nBalanced data preparation:\n"
     ]
    },
    {
     "name": "stdout",
     "output_type": "stream",
     "text": [
      "Reducing bands from: C:\\Users\\ltulczyjew\\Desktop\\software\\python_research\\experiments\\attention_based_selected_bands\\salinas\\0.005.txt\n"
     ]
    },
    {
     "name": "stdout",
     "output_type": "stream",
     "text": [
      "[ 33  34  35  36  37  38  39  40  41  42  43  44  45  46  47  48  49  50\n  51  52  53 105 106 107 108 169 170 171]\n"
     ]
    },
    {
     "name": "stdout",
     "output_type": "stream",
     "text": [
      "Training -> Epoch: 0 Accuracy: 0.1884375 Loss: 2.2042908668518066\n"
     ]
    },
    {
     "name": "stdout",
     "output_type": "stream",
     "text": [
      "Validation -> Epoch: 0 Accuracy: 0.37375 Loss: 1.597110629081726\nSaving improvement...\n"
     ]
    },
    {
     "name": "stdout",
     "output_type": "stream",
     "text": [
      "Training -> Epoch: 1 Accuracy: 0.4755 Loss: 1.304580569267273\n"
     ]
    },
    {
     "name": "stdout",
     "output_type": "stream",
     "text": [
      "Validation -> Epoch: 1 Accuracy: 0.7075 Loss: 0.7389711141586304\nSaving improvement...\n"
     ]
    },
    {
     "name": "stdout",
     "output_type": "stream",
     "text": [
      "Training -> Epoch: 2 Accuracy: 0.6555 Loss: 0.8592888712882996\n"
     ]
    },
    {
     "name": "stdout",
     "output_type": "stream",
     "text": [
      "Validation -> Epoch: 2 Accuracy: 0.79375 Loss: 0.6103138327598572\nSaving improvement...\n"
     ]
    },
    {
     "name": "stdout",
     "output_type": "stream",
     "text": [
      "Training -> Epoch: 3 Accuracy: 0.735 Loss: 0.7018081545829773\n"
     ]
    },
    {
     "name": "stdout",
     "output_type": "stream",
     "text": [
      "Validation -> Epoch: 3 Accuracy: 0.79875 Loss: 0.552884578704834\nSaving improvement...\n"
     ]
    },
    {
     "name": "stdout",
     "output_type": "stream",
     "text": [
      "Training -> Epoch: 4 Accuracy: 0.75725 Loss: 0.6422286629676819\n"
     ]
    },
    {
     "name": "stdout",
     "output_type": "stream",
     "text": [
      "Validation -> Epoch: 4 Accuracy: 0.83125 Loss: 0.4717220962047577\nSaving improvement...\n"
     ]
    },
    {
     "name": "stdout",
     "output_type": "stream",
     "text": [
      "Training -> Epoch: 5 Accuracy: 0.77625 Loss: 0.5905399918556213\n"
     ]
    },
    {
     "name": "stdout",
     "output_type": "stream",
     "text": [
      "Validation -> Epoch: 5 Accuracy: 0.8075 Loss: 0.480290025472641\n"
     ]
    },
    {
     "name": "stdout",
     "output_type": "stream",
     "text": [
      "Training -> Epoch: 6 Accuracy: 0.77075 Loss: 0.5848894715309143\n"
     ]
    },
    {
     "name": "stdout",
     "output_type": "stream",
     "text": [
      "Validation -> Epoch: 6 Accuracy: 0.82 Loss: 0.448525995016098\n"
     ]
    },
    {
     "name": "stdout",
     "output_type": "stream",
     "text": [
      "Training -> Epoch: 7 Accuracy: 0.779 Loss: 0.5489324927330017\n"
     ]
    },
    {
     "name": "stdout",
     "output_type": "stream",
     "text": [
      "Validation -> Epoch: 7 Accuracy: 0.8275 Loss: 0.4268486797809601\n"
     ]
    },
    {
     "name": "stdout",
     "output_type": "stream",
     "text": [
      "Training -> Epoch: 8 Accuracy: 0.7915 Loss: 0.5301125645637512\n"
     ]
    },
    {
     "name": "stdout",
     "output_type": "stream",
     "text": [
      "Validation -> Epoch: 8 Accuracy: 0.84375 Loss: 0.38523492217063904\nSaving improvement...\n"
     ]
    },
    {
     "name": "stdout",
     "output_type": "stream",
     "text": [
      "Training -> Epoch: 9 Accuracy: 0.8025 Loss: 0.5122753977775574\n"
     ]
    },
    {
     "name": "stdout",
     "output_type": "stream",
     "text": [
      "Validation -> Epoch: 9 Accuracy: 0.83125 Loss: 0.4001805782318115\n"
     ]
    },
    {
     "name": "stdout",
     "output_type": "stream",
     "text": [
      "Training -> Epoch: 10 Accuracy: 0.8025 Loss: 0.49776792526245117\n"
     ]
    },
    {
     "name": "stdout",
     "output_type": "stream",
     "text": [
      "Validation -> Epoch: 10 Accuracy: 0.8775 Loss: 0.3447238802909851\nSaving improvement...\n"
     ]
    },
    {
     "name": "stdout",
     "output_type": "stream",
     "text": [
      "Training -> Epoch: 11 Accuracy: 0.813 Loss: 0.4856265187263489\n"
     ]
    },
    {
     "name": "stdout",
     "output_type": "stream",
     "text": [
      "Validation -> Epoch: 11 Accuracy: 0.815 Loss: 0.41130149364471436\n"
     ]
    },
    {
     "name": "stdout",
     "output_type": "stream",
     "text": [
      "Training -> Epoch: 12 Accuracy: 0.80625 Loss: 0.4765057861804962\n"
     ]
    },
    {
     "name": "stdout",
     "output_type": "stream",
     "text": [
      "Validation -> Epoch: 12 Accuracy: 0.82625 Loss: 0.4233173429965973\n"
     ]
    },
    {
     "name": "stdout",
     "output_type": "stream",
     "text": [
      "Training -> Epoch: 13 Accuracy: 0.817 Loss: 0.4734545946121216\n"
     ]
    },
    {
     "name": "stdout",
     "output_type": "stream",
     "text": [
      "Validation -> Epoch: 13 Accuracy: 0.85125 Loss: 0.3316117525100708\n"
     ]
    },
    {
     "name": "stdout",
     "output_type": "stream",
     "text": [
      "Training -> Epoch: 14 Accuracy: 0.8175 Loss: 0.4611695408821106\n"
     ]
    },
    {
     "name": "stdout",
     "output_type": "stream",
     "text": [
      "Validation -> Epoch: 14 Accuracy: 0.86 Loss: 0.34273192286491394\n"
     ]
    },
    {
     "name": "stdout",
     "output_type": "stream",
     "text": [
      "Training -> Epoch: 15 Accuracy: 0.83 Loss: 0.4438527226448059\n"
     ]
    },
    {
     "name": "stdout",
     "output_type": "stream",
     "text": [
      "Validation -> Epoch: 15 Accuracy: 0.86125 Loss: 0.32271808385849\n"
     ]
    },
    {
     "name": "stdout",
     "output_type": "stream",
     "text": [
      "Training -> Epoch: 16 Accuracy: 0.824 Loss: 0.4540500342845917\n"
     ]
    },
    {
     "name": "stdout",
     "output_type": "stream",
     "text": [
      "Validation -> Epoch: 16 Accuracy: 0.82625 Loss: 0.3988633453845978\n"
     ]
    },
    {
     "name": "stdout",
     "output_type": "stream",
     "text": [
      "Training -> Epoch: 17 Accuracy: 0.82475 Loss: 0.4431922733783722\n"
     ]
    },
    {
     "name": "stdout",
     "output_type": "stream",
     "text": [
      "Validation -> Epoch: 17 Accuracy: 0.8425 Loss: 0.3593430817127228\n"
     ]
    },
    {
     "name": "stdout",
     "output_type": "stream",
     "text": [
      "Training -> Epoch: 18 Accuracy: 0.82475 Loss: 0.44978171586990356\n"
     ]
    },
    {
     "name": "stdout",
     "output_type": "stream",
     "text": [
      "Validation -> Epoch: 18 Accuracy: 0.88625 Loss: 0.2878994345664978\nSaving improvement...\n"
     ]
    },
    {
     "name": "stdout",
     "output_type": "stream",
     "text": [
      "Training -> Epoch: 19 Accuracy: 0.843 Loss: 0.4067835211753845\n"
     ]
    },
    {
     "name": "stdout",
     "output_type": "stream",
     "text": [
      "Validation -> Epoch: 19 Accuracy: 0.88625 Loss: 0.29607513546943665\n"
     ]
    },
    {
     "name": "stdout",
     "output_type": "stream",
     "text": [
      "Training -> Epoch: 20 Accuracy: 0.843 Loss: 0.4078409671783447\n"
     ]
    },
    {
     "name": "stdout",
     "output_type": "stream",
     "text": [
      "Validation -> Epoch: 20 Accuracy: 0.8625 Loss: 0.3002687394618988\n"
     ]
    },
    {
     "name": "stdout",
     "output_type": "stream",
     "text": [
      "Training -> Epoch: 21 Accuracy: 0.8355 Loss: 0.40446776151657104\n"
     ]
    },
    {
     "name": "stdout",
     "output_type": "stream",
     "text": [
      "Validation -> Epoch: 21 Accuracy: 0.84125 Loss: 0.3748321533203125\n"
     ]
    },
    {
     "name": "stdout",
     "output_type": "stream",
     "text": [
      "Training -> Epoch: 22 Accuracy: 0.837 Loss: 0.4243457019329071\n"
     ]
    },
    {
     "name": "stdout",
     "output_type": "stream",
     "text": [
      "Validation -> Epoch: 22 Accuracy: 0.8925 Loss: 0.2717660069465637\nSaving improvement...\n"
     ]
    },
    {
     "name": "stdout",
     "output_type": "stream",
     "text": [
      "Training -> Epoch: 23 Accuracy: 0.85475 Loss: 0.376702219247818\n"
     ]
    },
    {
     "name": "stdout",
     "output_type": "stream",
     "text": [
      "Validation -> Epoch: 23 Accuracy: 0.9075 Loss: 0.2505536377429962\nSaving improvement...\n"
     ]
    },
    {
     "name": "stdout",
     "output_type": "stream",
     "text": [
      "Training -> Epoch: 24 Accuracy: 0.8595 Loss: 0.36617162823677063\n"
     ]
    },
    {
     "name": "stdout",
     "output_type": "stream",
     "text": [
      "Validation -> Epoch: 24 Accuracy: 0.885 Loss: 0.29471397399902344\n"
     ]
    },
    {
     "name": "stdout",
     "output_type": "stream",
     "text": [
      "Training -> Epoch: 25 Accuracy: 0.858 Loss: 0.3737260401248932\n"
     ]
    },
    {
     "name": "stdout",
     "output_type": "stream",
     "text": [
      "Validation -> Epoch: 25 Accuracy: 0.92125 Loss: 0.24130848050117493\nSaving improvement...\n"
     ]
    },
    {
     "name": "stdout",
     "output_type": "stream",
     "text": [
      "Training -> Epoch: 26 Accuracy: 0.865 Loss: 0.35712236166000366\n"
     ]
    },
    {
     "name": "stdout",
     "output_type": "stream",
     "text": [
      "Validation -> Epoch: 26 Accuracy: 0.9225 Loss: 0.22466020286083221\nSaving improvement...\n"
     ]
    },
    {
     "name": "stdout",
     "output_type": "stream",
     "text": [
      "Training -> Epoch: 27 Accuracy: 0.8665 Loss: 0.34620586037635803\n"
     ]
    },
    {
     "name": "stdout",
     "output_type": "stream",
     "text": [
      "Validation -> Epoch: 27 Accuracy: 0.8825 Loss: 0.2804907262325287\n"
     ]
    },
    {
     "name": "stdout",
     "output_type": "stream",
     "text": [
      "Training -> Epoch: 28 Accuracy: 0.85925 Loss: 0.3620060384273529\n"
     ]
    },
    {
     "name": "stdout",
     "output_type": "stream",
     "text": [
      "Validation -> Epoch: 28 Accuracy: 0.88125 Loss: 0.2565089762210846\n"
     ]
    },
    {
     "name": "stdout",
     "output_type": "stream",
     "text": [
      "Training -> Epoch: 29 Accuracy: 0.86 Loss: 0.3501964509487152\n"
     ]
    },
    {
     "name": "stdout",
     "output_type": "stream",
     "text": [
      "Validation -> Epoch: 29 Accuracy: 0.855 Loss: 0.29227784276008606\n"
     ]
    },
    {
     "name": "stdout",
     "output_type": "stream",
     "text": [
      "Training -> Epoch: 30 Accuracy: 0.86375 Loss: 0.33743056654930115\n"
     ]
    },
    {
     "name": "stdout",
     "output_type": "stream",
     "text": [
      "Validation -> Epoch: 30 Accuracy: 0.935 Loss: 0.20596863329410553\nSaving improvement...\n"
     ]
    },
    {
     "name": "stdout",
     "output_type": "stream",
     "text": [
      "Training -> Epoch: 31 Accuracy: 0.872 Loss: 0.3306884467601776\n"
     ]
    },
    {
     "name": "stdout",
     "output_type": "stream",
     "text": [
      "Validation -> Epoch: 31 Accuracy: 0.8425 Loss: 0.39542442560195923\n"
     ]
    },
    {
     "name": "stdout",
     "output_type": "stream",
     "text": [
      "Training -> Epoch: 32 Accuracy: 0.858 Loss: 0.3632989823818207\n"
     ]
    },
    {
     "name": "stdout",
     "output_type": "stream",
     "text": [
      "Validation -> Epoch: 32 Accuracy: 0.89625 Loss: 0.2943737506866455\n"
     ]
    },
    {
     "name": "stdout",
     "output_type": "stream",
     "text": [
      "Training -> Epoch: 33 Accuracy: 0.88025 Loss: 0.3163875639438629\n"
     ]
    },
    {
     "name": "stdout",
     "output_type": "stream",
     "text": [
      "Validation -> Epoch: 33 Accuracy: 0.8975 Loss: 0.24445651471614838\n"
     ]
    },
    {
     "name": "stdout",
     "output_type": "stream",
     "text": [
      "Training -> Epoch: 34 Accuracy: 0.87 Loss: 0.32163989543914795\n"
     ]
    },
    {
     "name": "stdout",
     "output_type": "stream",
     "text": [
      "Validation -> Epoch: 34 Accuracy: 0.9125 Loss: 0.22267742455005646\n"
     ]
    },
    {
     "name": "stdout",
     "output_type": "stream",
     "text": [
      "Training -> Epoch: 35 Accuracy: 0.888 Loss: 0.2931150794029236\n"
     ]
    },
    {
     "name": "stdout",
     "output_type": "stream",
     "text": [
      "Validation -> Epoch: 35 Accuracy: 0.85875 Loss: 0.29650160670280457\n"
     ]
    },
    {
     "name": "stdout",
     "output_type": "stream",
     "text": [
      "Training -> Epoch: 36 Accuracy: 0.87925 Loss: 0.29909729957580566\n"
     ]
    },
    {
     "name": "stdout",
     "output_type": "stream",
     "text": [
      "Validation -> Epoch: 36 Accuracy: 0.9075 Loss: 0.2153046727180481\n"
     ]
    },
    {
     "name": "stdout",
     "output_type": "stream",
     "text": [
      "Training -> Epoch: 37 Accuracy: 0.88325 Loss: 0.29950621724128723\n"
     ]
    },
    {
     "name": "stdout",
     "output_type": "stream",
     "text": [
      "Validation -> Epoch: 37 Accuracy: 0.925 Loss: 0.21697311103343964\n"
     ]
    },
    {
     "name": "stdout",
     "output_type": "stream",
     "text": [
      "Training -> Epoch: 38 Accuracy: 0.883 Loss: 0.2940690517425537\n"
     ]
    },
    {
     "name": "stdout",
     "output_type": "stream",
     "text": [
      "Validation -> Epoch: 38 Accuracy: 0.90375 Loss: 0.23379391431808472\n"
     ]
    },
    {
     "name": "stdout",
     "output_type": "stream",
     "text": [
      "Training -> Epoch: 39 Accuracy: 0.89325 Loss: 0.28149664402008057\n"
     ]
    },
    {
     "name": "stdout",
     "output_type": "stream",
     "text": [
      "Validation -> Epoch: 39 Accuracy: 0.9075 Loss: 0.2234044224023819\n"
     ]
    },
    {
     "name": "stdout",
     "output_type": "stream",
     "text": [
      "Training -> Epoch: 40 Accuracy: 0.8845 Loss: 0.29907965660095215\n"
     ]
    },
    {
     "name": "stdout",
     "output_type": "stream",
     "text": [
      "Validation -> Epoch: 40 Accuracy: 0.875 Loss: 0.2930310070514679\n"
     ]
    },
    {
     "name": "stdout",
     "output_type": "stream",
     "text": [
      "Testing -> Accuracy: 0.9209834834834835 Loss: 0.2569628357887268\nSaving test results...\n"
     ]
    }
   ],
   "source": [
    "print('Salinas 28 bands:')\n",
    "args = Args()\n",
    "args.data_path = r'C:\\Users\\ltulczyjew\\Desktop\\data\\Salinas.mat'\n",
    "args.labels_path= r'C:\\Users\\ltulczyjew\\Desktop\\data\\Salinas_gt.mat'\n",
    "args.dest_path = r'C:\\Users\\ltulczyjew\\Desktop\\results'\n",
    "args.classes = 16\n",
    "args.cont =\\\n",
    "    r'C:\\Users\\ltulczyjew\\Desktop\\software\\python_research\\experiments\\attention_based_selected_bands\\salinas\\0.005.txt'\n",
    "args.in_channels = 28\n",
    "args.out_channels = 224\n",
    "args.nb = 14\n",
    "args.data_name = 'Salinas'\n",
    "args.run_idx = 1\n",
    "main(args=args)\n"
   ]
  },
  {
   "cell_type": "code",
   "execution_count": null,
   "metadata": {},
   "outputs": [],
   "source": []
  }
 ],
 "metadata": {
  "kernelspec": {
   "display_name": "Python 2",
   "language": "python",
   "name": "python2"
  },
  "language_info": {
   "codemirror_mode": {
    "name": "ipython",
    "version": 2
   },
   "file_extension": ".py",
   "mimetype": "text/x-python",
   "name": "python",
   "nbconvert_exporter": "python",
   "pygments_lexer": "ipython2",
   "version": "2.7.6"
  }
 },
 "nbformat": 4,
 "nbformat_minor": 0
}
