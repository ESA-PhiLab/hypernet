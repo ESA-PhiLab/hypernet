{
 "cells": [
  {
   "cell_type": "code",
   "execution_count": null,
   "metadata": {},
   "outputs": [],
   "source": [
    "import os\n",
    "\n",
    "DATA_DIR = os.path.join(r'C:\\Users\\ltulczyjew\\Desktop', 'hypernet-data')\n",
    "RESULTS_DIR = os.path.join(r'C:\\Users\\ltulczyjew\\Desktop', 'hypernet-data', 'results', 'bass')\n"
   ]
  },
  {
   "cell_type": "code",
   "execution_count": null,
   "metadata": {},
   "outputs": [],
   "source": [
    "from python_research.experiments.sota_models.bass.train_bass import main\n",
    "\n",
    "\n",
    "class Args(object):\n",
    "    \"\"\"\n",
    "    Arguments for BASS model - (Configuration 4).\n",
    "    \"\"\"\n",
    "    def __init__(self):\n",
    "        # Index of run. (Used for running batch scripts.):\n",
    "        self.run_idx = None\n",
    "        # Data type used by the model:\n",
    "        # (If training on GPU and CUDA is available could be: 'torch.cuda.FloatTensor' or else.)\n",
    "        self.dtype = 'torch.FloatTensor'\n",
    "        # If training on all bands: self.cont = None\n",
    "        # If training on selected bands: self.cont is the path to file containing indexes of bands.\n",
    "        self.cont = None\n",
    "        self.epochs = 999\n",
    "        # Paths to data, labels, destination directory and data set name:\n",
    "        self.data_path = None\n",
    "        self.labels_path = None\n",
    "        self.dest_path = None\n",
    "        self.data_name = None\n",
    "        # Size of the sliding window used to create samples:\n",
    "        self.neighborhood_size = 5\n",
    "        # Size of the batch:\n",
    "        self.batch = 4\n",
    "        # Stopping condition - number of epochs without improvement:\n",
    "        self.patience = 10\n",
    "        # Number of classes:\n",
    "        self.classes = None\n",
    "        # Sizes of training and validation sets: (Per class.)\n",
    "        self.train_size = 300\n",
    "        self.val_size = 50\n",
    "        # Number of blocks in second layer: (For Salinas: 14, PaviaU: 5)\n",
    "        self.nb = None\n",
    "        # Number of input channels to the first block:\n",
    "        self.in_channels = None\n",
    "        # Number of output channels in the first block:\n",
    "        self.out_channels = None\n"
   ]
  },
  {
   "cell_type": "code",
   "execution_count": null,
   "metadata": {},
   "outputs": [],
   "source": [
    "print('PaviaU all bands:')\n",
    "args = Args()\n",
    "args.data_path = os.path.join(DATA_DIR, 'PaviaU.mat')\n",
    "args.labels_path= os.path.join(DATA_DIR, 'PaviaU_gt.mat')\n",
    "args.dest_path = RESULTS_DIR\n",
    "args.classes = 9\n",
    "args.cont = None\n",
    "args.in_channels = 103\n",
    "args.out_channels = 100\n",
    "args.nb = 5\n",
    "args.data_name = 'PaviaU'\n",
    "args.run_idx = 1\n",
    "main(args=args)\n"
   ]
  },
  {
   "cell_type": "code",
   "execution_count": null,
   "metadata": {},
   "outputs": [],
   "source": [
    "print('Salinas 28 bands:')\n",
    "args = Args()\n",
    "args.data_path = os.path.join(DATA_DIR, 'Salinas.mat')\n",
    "args.labels_path = os.path.join(DATA_DIR, 'Salinas_gt.mat')\n",
    "args.dest_path = RESULTS_DIR\n",
    "args.classes = 16\n",
    "args.cont = os.path.join(r'C:\\Users\\ltulczyjew\\Desktop\\software', 'python_research',\n",
    "                         'experiments', 'attention_based_selected_bands', 'salinas', '0.005.txt')\n",
    "args.in_channels = 28\n",
    "args.out_channels = 224\n",
    "args.nb = 14\n",
    "args.data_name = 'Salinas'\n",
    "args.run_idx = 1\n",
    "main(args=args)\n"
   ]
  },
  {
   "cell_type": "code",
   "execution_count": null,
   "metadata": {},
   "outputs": [],
   "source": [
    "print('Salinas all bands:')\n",
    "args = Args()\n",
    "args.data_path = os.path.join(DATA_DIR, 'Salinas.mat')\n",
    "args.labels_path = os.path.join(DATA_DIR, 'Salinas_gt.mat')\n",
    "args.dest_path = RESULTS_DIR\n",
    "args.classes = 16\n",
    "args.cont = None\n",
    "args.in_channels = 224\n",
    "args.out_channels = 224\n",
    "args.nb = 14\n",
    "args.data_name = 'Salinas'\n",
    "args.run_idx = 1\n",
    "main(args=args)\n"
   ]
  },
  {
   "cell_type": "code",
   "execution_count": null,
   "metadata": {},
   "outputs": [],
   "source": []
  }
 ],
 "metadata": {
  "kernelspec": {
   "display_name": "Python 3",
   "language": "python",
   "name": "python3"
  },
  "language_info": {
   "codemirror_mode": {
    "name": "ipython",
    "version": 3
   },
   "file_extension": ".py",
   "mimetype": "text/x-python",
   "name": "python",
   "nbconvert_exporter": "python",
   "pygments_lexer": "ipython3",
   "version": "3.6.6"
  }
 },
 "nbformat": 4,
 "nbformat_minor": 1
}
