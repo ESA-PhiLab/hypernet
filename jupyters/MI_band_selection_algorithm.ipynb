{
 "cells": [
  {
   "cell_type": "code",
   "execution_count": null,
   "metadata": {},
   "outputs": [],
   "source": [
    "import matplotlib.pyplot as plt\n",
    "from scipy.io import loadmat\n",
    "\n",
    "from python_research.experiments.band_selection_algorithms.MI.mi_band_selection import run\n",
    "\n",
    "\n",
    "class Args(object):\n",
    "    def __init__(self):\n",
    "        # Number of bands to select:\n",
    "        self.X = 20\n",
    "        # The neighbourhood of selected band. Data set dependent value.\n",
    "        self.b = 3\n",
    "        # Prevents from redundancy in the selected bands set. Data set dependent value.\n",
    "        self.eta = 0.5\n",
    "        # Paths to data, labels and destination directory:\n",
    "        self.data_path = None\n",
    "        self.ref_map_path = None\n",
    "        self.dest_path = None\n"
   ]
  },
  {
   "cell_type": "code",
   "execution_count": null,
   "metadata": {},
   "outputs": [],
   "source": [
    "print('21 Salinas selected bands:')\n",
    "args = Args()\n",
    "args.X = 21\n",
    "args.data_path = r'C:\\Users\\ltulczyjew\\Desktop\\data\\Salinas.mat'\n",
    "args.ref_map_path = r'C:\\Users\\ltulczyjew\\Desktop\\data\\Salinas_gt.mat'\n",
    "args.dest_path = r'C:\\Users\\ltulczyjew\\Desktop\\results'\n",
    "run(args=args)\n"
   ]
  },
  {
   "cell_type": "code",
   "execution_count": null,
   "metadata": {},
   "outputs": [],
   "source": [
    "print('20 PaviaU selected bands:')\n",
    "args.X = 20\n",
    "args = Args()\n",
    "args.data_path = r'C:\\Users\\ltulczyjew\\Desktop\\data\\PaviaU.mat'\n",
    "args.ref_map_path = r'C:\\Users\\ltulczyjew\\Desktop\\data\\PaviaU_gt.mat'\n",
    "args.dest_path = r'C:\\Users\\ltulczyjew\\Desktop\\results'\n",
    "run(args=args)\n"
   ]
  },
  {
   "cell_type": "code",
   "execution_count": null,
   "metadata": {},
   "outputs": [],
   "source": [
    "print('20 Indian Pines selected bands:')\n",
    "args = Args()\n",
    "args.X = 20\n",
    "args.data_path = r'C:\\Users\\ltulczyjew\\Desktop\\data\\Indian_pines.mat'\n",
    "args.ref_map_path = r'C:\\Users\\ltulczyjew\\Desktop\\data\\Indian_pines_gt.mat'\n",
    "args.dest_path = r'C:\\Users\\ltulczyjew\\Desktop\\results'\n",
    "run(args=args)\n"
   ]
  },
  {
   "cell_type": "code",
   "execution_count": null,
   "metadata": {},
   "outputs": [],
   "source": []
  }
 ],
 "metadata": {
  "kernelspec": {
   "display_name": "Python 2",
   "language": "python",
   "name": "python2"
  },
  "language_info": {
   "codemirror_mode": {
    "name": "ipython",
    "version": 2
   },
   "file_extension": ".py",
   "mimetype": "text/x-python",
   "name": "python",
   "nbconvert_exporter": "python",
   "pygments_lexer": "ipython2",
   "version": "2.7.6"
  }
 },
 "nbformat": 4,
 "nbformat_minor": 0
}
