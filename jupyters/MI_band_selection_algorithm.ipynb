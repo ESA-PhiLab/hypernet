{
 "cells": [
  {
   "cell_type": "code",
   "execution_count": null,
   "metadata": {},
   "outputs": [],
   "source": [
    "import matplotlib.pyplot as plt\n",
    "from scipy.io import loadmat\n",
    "\n",
    "from python_research.experiments.band_selection_algorithms.MI.mi_band_selection import run\n",
    "\n",
    "USED_BAND_FLAG = -1\n",
    "\n",
    "\n",
    "class Args(object):\n",
    "    def __init__(self):\n",
    "        self.X = 20\n",
    "        self.b = 3\n",
    "        self.eta = 0.5\n",
    "        self.data_path = r'C:\\Users\\ltulczyjew\\Desktop\\Band_Selection_Algorithms\\data\\Indian_pines_corrected.mat'\n",
    "        self.ref_map_path = r'C:\\Users\\ltulczyjew\\Desktop\\Band_Selection_Algorithms\\data\\Indian_pines_gt.mat'\n",
    "        self.dest_path = r'C:\\Users\\ltulczyjew\\Desktop\\Band_Selection_Algorithms\\selected_bands'\n"
   ]
  },
  {
   "cell_type": "code",
   "execution_count": null,
   "metadata": {},
   "outputs": [],
   "source": [
    "print('21 Salinas selected bands:')\n",
    "run(Args())\n"
   ]
  },
  {
   "cell_type": "code",
   "execution_count": null,
   "metadata": {},
   "outputs": [],
   "source": [
    "print('20 PaviaU selected bands:')\n",
    "run(Args())\n"
   ]
  },
  {
   "cell_type": "code",
   "execution_count": null,
   "metadata": {},
   "outputs": [],
   "source": [
    "from IPython.core.display import Image, display\n",
    "\n",
    "print('20 Indian Pines selected bands:')\n",
    "run(Args())\n",
    "\n",
    "print('Indiana Pines MI plot stated in the paper.')\n",
    "display(\n",
    "    Image(r'C:\\Users\\ltulczyjew\\Desktop\\Indian_Pines_stated_in_the_paper.png', width=300, height=200, unconfined=True))\n"
   ]
  },
  {
   "cell_type": "code",
   "execution_count": null,
   "metadata": {},
   "outputs": [],
   "source": []
  }
 ],
 "metadata": {
  "kernelspec": {
   "display_name": "Python 2",
   "language": "python",
   "name": "python2"
  },
  "language_info": {
   "codemirror_mode": {
    "name": "ipython",
    "version": 2
   },
   "file_extension": ".py",
   "mimetype": "text/x-python",
   "name": "python",
   "nbconvert_exporter": "python",
   "pygments_lexer": "ipython2",
   "version": "2.7.6"
  }
 },
 "nbformat": 4,
 "nbformat_minor": 0
}
