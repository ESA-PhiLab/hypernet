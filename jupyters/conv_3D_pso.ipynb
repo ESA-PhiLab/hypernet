{
 "cells": [
  {
   "cell_type": "code",
   "execution_count": null,
   "metadata": {},
   "outputs": [],
   "source": [
    "import os\n",
    "\n",
    "DATA_DIR = os.getenv('HYPERNET_DATA_DIR', os.path.join('..', '..', 'hypernet-data'))\n",
    "RESULTS_DIR = os.path.join(os.getenv('HYPERNET_RESULTS_DIR', os.path.join('..', '..', 'hypernet-data', 'results')), 'conv_3d_pso')"
   ]
  },
  {
   "cell_type": "code",
   "execution_count": null,
   "metadata": {},
   "outputs": [],
   "source": [
    "from python_research.experiments.sota_models.conv_3D.pso_train_conv3D import Arguments, PsoRunner\n",
    "\n",
    "arguments = Arguments(\n",
    "    run_idx=1,\n",
    "    dtype='torch.cuda.FloatTensor',\n",
    "    cont=None,\n",
    "    epochs=999,\n",
    "    data_path=os.path.join(DATA_DIR, 'PaviaU_corrected.npy'),\n",
    "    data_name='paviaU_full',\n",
    "    min_neighborhood_size=7,\n",
    "    max_neighborhood_size=9,\n",
    "    labels_path=os.path.join(DATA_DIR, 'PaviaU_gt.npy'),\n",
    "    batch=64,\n",
    "    patience=5,\n",
    "    dest_path=RESULTS_DIR,\n",
    "    classes=9,\n",
    "    test_size=0.1,\n",
    "    val_size=0.1,\n",
    "    min_channels=[16, 16, 16],\n",
    "    max_channels=[32, 32, 32],\n",
    "    channels_step=[4, 4, 4],\n",
    "    input_depth=103,\n",
    "    swarm_size=5\n",
    ")\n",
    "\n",
    "pso_runner = PsoRunner(arguments)\n",
    "pso_runner.run()\n"
   ]
  },
  {
   "cell_type": "code",
   "execution_count": null,
   "metadata": {},
   "outputs": [],
   "source": []
  }
 ],
 "metadata": {
  "kernelspec": {
   "display_name": "Python 3",
   "language": "python",
   "name": "python3"
  },
  "language_info": {
   "codemirror_mode": {
    "name": "ipython",
    "version": 3
   },
   "file_extension": ".py",
   "mimetype": "text/x-python",
   "name": "python",
   "nbconvert_exporter": "python",
   "pygments_lexer": "ipython3",
   "version": "3.6.6"
  }
 },
 "nbformat": 4,
 "nbformat_minor": 2
}
